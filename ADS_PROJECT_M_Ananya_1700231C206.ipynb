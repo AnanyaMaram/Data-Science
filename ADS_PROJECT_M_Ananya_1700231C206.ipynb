{
  "nbformat": 4,
  "nbformat_minor": 0,
  "metadata": {
    "colab": {
      "name": "ADS_PROJECT_M_Ananya_1700231C206.ipynb",
      "provenance": [],
      "collapsed_sections": [],
      "include_colab_link": true
    },
    "kernelspec": {
      "name": "python3",
      "display_name": "Python 3"
    }
  },
  "cells": [
    {
      "cell_type": "markdown",
      "metadata": {
        "id": "view-in-github",
        "colab_type": "text"
      },
      "source": [
        "<a href=\"https://colab.research.google.com/github/AnanyaMaram/Data-Science/blob/master/ADS_PROJECT_M_Ananya_1700231C206.ipynb\" target=\"_parent\"><img src=\"https://colab.research.google.com/assets/colab-badge.svg\" alt=\"Open In Colab\"/></a>"
      ]
    },
    {
      "cell_type": "code",
      "metadata": {
        "id": "ZxoN5Sm1E4rh"
      },
      "source": [
        "import pandas as pd\n",
        "import numpy as np\n",
        "import matplotlib.pyplot as plt\n",
        "import matplotlib as matplot\n",
        "import seaborn as sns\n",
        "%matplotlib inline"
      ],
      "execution_count": null,
      "outputs": []
    },
    {
      "cell_type": "code",
      "metadata": {
        "id": "nlqNPtsyK3ps",
        "colab": {
          "base_uri": "https://localhost:8080/",
          "height": 419
        },
        "outputId": "6ac4bf89-5afa-4cea-ca8c-dcef92e7fc9c"
      },
      "source": [
        "df = pd.read_csv('HR_comma_sep.csv', index_col=None)\n",
        "df"
      ],
      "execution_count": null,
      "outputs": [
        {
          "output_type": "execute_result",
          "data": {
            "text/html": [
              "<div>\n",
              "<style scoped>\n",
              "    .dataframe tbody tr th:only-of-type {\n",
              "        vertical-align: middle;\n",
              "    }\n",
              "\n",
              "    .dataframe tbody tr th {\n",
              "        vertical-align: top;\n",
              "    }\n",
              "\n",
              "    .dataframe thead th {\n",
              "        text-align: right;\n",
              "    }\n",
              "</style>\n",
              "<table border=\"1\" class=\"dataframe\">\n",
              "  <thead>\n",
              "    <tr style=\"text-align: right;\">\n",
              "      <th></th>\n",
              "      <th>satisfaction_level</th>\n",
              "      <th>last_evaluation</th>\n",
              "      <th>number_project</th>\n",
              "      <th>average_montly_hours</th>\n",
              "      <th>time_spend_company</th>\n",
              "      <th>Work_accident</th>\n",
              "      <th>left</th>\n",
              "      <th>promotion_last_5years</th>\n",
              "      <th>sales</th>\n",
              "      <th>salary</th>\n",
              "    </tr>\n",
              "  </thead>\n",
              "  <tbody>\n",
              "    <tr>\n",
              "      <th>0</th>\n",
              "      <td>0.38</td>\n",
              "      <td>0.53</td>\n",
              "      <td>2</td>\n",
              "      <td>157</td>\n",
              "      <td>3</td>\n",
              "      <td>0</td>\n",
              "      <td>1</td>\n",
              "      <td>0</td>\n",
              "      <td>sales</td>\n",
              "      <td>low</td>\n",
              "    </tr>\n",
              "    <tr>\n",
              "      <th>1</th>\n",
              "      <td>0.80</td>\n",
              "      <td>0.86</td>\n",
              "      <td>5</td>\n",
              "      <td>262</td>\n",
              "      <td>6</td>\n",
              "      <td>0</td>\n",
              "      <td>1</td>\n",
              "      <td>0</td>\n",
              "      <td>sales</td>\n",
              "      <td>medium</td>\n",
              "    </tr>\n",
              "    <tr>\n",
              "      <th>2</th>\n",
              "      <td>0.11</td>\n",
              "      <td>0.88</td>\n",
              "      <td>7</td>\n",
              "      <td>272</td>\n",
              "      <td>4</td>\n",
              "      <td>0</td>\n",
              "      <td>1</td>\n",
              "      <td>0</td>\n",
              "      <td>sales</td>\n",
              "      <td>medium</td>\n",
              "    </tr>\n",
              "    <tr>\n",
              "      <th>3</th>\n",
              "      <td>0.72</td>\n",
              "      <td>0.87</td>\n",
              "      <td>5</td>\n",
              "      <td>223</td>\n",
              "      <td>5</td>\n",
              "      <td>0</td>\n",
              "      <td>1</td>\n",
              "      <td>0</td>\n",
              "      <td>sales</td>\n",
              "      <td>low</td>\n",
              "    </tr>\n",
              "    <tr>\n",
              "      <th>4</th>\n",
              "      <td>0.37</td>\n",
              "      <td>0.52</td>\n",
              "      <td>2</td>\n",
              "      <td>159</td>\n",
              "      <td>3</td>\n",
              "      <td>0</td>\n",
              "      <td>1</td>\n",
              "      <td>0</td>\n",
              "      <td>sales</td>\n",
              "      <td>low</td>\n",
              "    </tr>\n",
              "    <tr>\n",
              "      <th>...</th>\n",
              "      <td>...</td>\n",
              "      <td>...</td>\n",
              "      <td>...</td>\n",
              "      <td>...</td>\n",
              "      <td>...</td>\n",
              "      <td>...</td>\n",
              "      <td>...</td>\n",
              "      <td>...</td>\n",
              "      <td>...</td>\n",
              "      <td>...</td>\n",
              "    </tr>\n",
              "    <tr>\n",
              "      <th>14994</th>\n",
              "      <td>0.40</td>\n",
              "      <td>0.57</td>\n",
              "      <td>2</td>\n",
              "      <td>151</td>\n",
              "      <td>3</td>\n",
              "      <td>0</td>\n",
              "      <td>1</td>\n",
              "      <td>0</td>\n",
              "      <td>support</td>\n",
              "      <td>low</td>\n",
              "    </tr>\n",
              "    <tr>\n",
              "      <th>14995</th>\n",
              "      <td>0.37</td>\n",
              "      <td>0.48</td>\n",
              "      <td>2</td>\n",
              "      <td>160</td>\n",
              "      <td>3</td>\n",
              "      <td>0</td>\n",
              "      <td>1</td>\n",
              "      <td>0</td>\n",
              "      <td>support</td>\n",
              "      <td>low</td>\n",
              "    </tr>\n",
              "    <tr>\n",
              "      <th>14996</th>\n",
              "      <td>0.37</td>\n",
              "      <td>0.53</td>\n",
              "      <td>2</td>\n",
              "      <td>143</td>\n",
              "      <td>3</td>\n",
              "      <td>0</td>\n",
              "      <td>1</td>\n",
              "      <td>0</td>\n",
              "      <td>support</td>\n",
              "      <td>low</td>\n",
              "    </tr>\n",
              "    <tr>\n",
              "      <th>14997</th>\n",
              "      <td>0.11</td>\n",
              "      <td>0.96</td>\n",
              "      <td>6</td>\n",
              "      <td>280</td>\n",
              "      <td>4</td>\n",
              "      <td>0</td>\n",
              "      <td>1</td>\n",
              "      <td>0</td>\n",
              "      <td>support</td>\n",
              "      <td>low</td>\n",
              "    </tr>\n",
              "    <tr>\n",
              "      <th>14998</th>\n",
              "      <td>0.37</td>\n",
              "      <td>0.52</td>\n",
              "      <td>2</td>\n",
              "      <td>158</td>\n",
              "      <td>3</td>\n",
              "      <td>0</td>\n",
              "      <td>1</td>\n",
              "      <td>0</td>\n",
              "      <td>support</td>\n",
              "      <td>low</td>\n",
              "    </tr>\n",
              "  </tbody>\n",
              "</table>\n",
              "<p>14999 rows × 10 columns</p>\n",
              "</div>"
            ],
            "text/plain": [
              "       satisfaction_level  last_evaluation  ...    sales  salary\n",
              "0                    0.38             0.53  ...    sales     low\n",
              "1                    0.80             0.86  ...    sales  medium\n",
              "2                    0.11             0.88  ...    sales  medium\n",
              "3                    0.72             0.87  ...    sales     low\n",
              "4                    0.37             0.52  ...    sales     low\n",
              "...                   ...              ...  ...      ...     ...\n",
              "14994                0.40             0.57  ...  support     low\n",
              "14995                0.37             0.48  ...  support     low\n",
              "14996                0.37             0.53  ...  support     low\n",
              "14997                0.11             0.96  ...  support     low\n",
              "14998                0.37             0.52  ...  support     low\n",
              "\n",
              "[14999 rows x 10 columns]"
            ]
          },
          "metadata": {
            "tags": []
          },
          "execution_count": 34
        }
      ]
    },
    {
      "cell_type": "markdown",
      "metadata": {
        "id": "y2Uy4hHtLWhn"
      },
      "source": [
        "# Preprocessing of the data"
      ]
    },
    {
      "cell_type": "code",
      "metadata": {
        "id": "svifXa93LBCq",
        "colab": {
          "base_uri": "https://localhost:8080/"
        },
        "outputId": "07a81bc4-e287-4eec-ffcb-bb64a248c3e9"
      },
      "source": [
        "# Check to see if there are any missing values in our data set\n",
        "df.isnull().any()"
      ],
      "execution_count": null,
      "outputs": [
        {
          "output_type": "execute_result",
          "data": {
            "text/plain": [
              "satisfaction_level       False\n",
              "last_evaluation          False\n",
              "number_project           False\n",
              "average_montly_hours     False\n",
              "time_spend_company       False\n",
              "Work_accident            False\n",
              "left                     False\n",
              "promotion_last_5years    False\n",
              "sales                    False\n",
              "salary                   False\n",
              "dtype: bool"
            ]
          },
          "metadata": {
            "tags": []
          },
          "execution_count": 35
        }
      ]
    },
    {
      "cell_type": "markdown",
      "metadata": {
        "id": "xh5vqe1F4_LR"
      },
      "source": [
        "It is seen that there are no null values in any column"
      ]
    },
    {
      "cell_type": "code",
      "metadata": {
        "id": "rAYkciVJLmfv"
      },
      "source": [
        "# Renaming certain columns for better readability\n",
        "df = df.rename(columns={'satisfaction_level': 'satisfaction', \n",
        "                        'last_evaluation': 'evaluation',\n",
        "                        'number_project': 'projectCount',\n",
        "                        'average_montly_hours': 'averageMonthlyHours',\n",
        "                        'time_spend_company': 'yearsAtCompany',\n",
        "                        'Work_accident': 'workAccident',\n",
        "                        'promotion_last_5years': 'promotion',\n",
        "                        'sales' : 'department',\n",
        "                        'left' : 'turnover'\n",
        "                        })"
      ],
      "execution_count": null,
      "outputs": []
    },
    {
      "cell_type": "markdown",
      "metadata": {
        "id": "_fFFhX7w5K4u"
      },
      "source": [
        "I am moving the turnover column to the front of the table. "
      ]
    },
    {
      "cell_type": "code",
      "metadata": {
        "id": "K2nt4mbUMEzo",
        "colab": {
          "base_uri": "https://localhost:8080/",
          "height": 204
        },
        "outputId": "95321e21-3b7e-48c1-af4a-8963c913bfdb"
      },
      "source": [
        "front = df['turnover']\n",
        "df.drop(labels=['turnover'], axis=1,inplace = True)\n",
        "df.insert(0, 'turnover', front)\n",
        "df.head()"
      ],
      "execution_count": null,
      "outputs": [
        {
          "output_type": "execute_result",
          "data": {
            "text/html": [
              "<div>\n",
              "<style scoped>\n",
              "    .dataframe tbody tr th:only-of-type {\n",
              "        vertical-align: middle;\n",
              "    }\n",
              "\n",
              "    .dataframe tbody tr th {\n",
              "        vertical-align: top;\n",
              "    }\n",
              "\n",
              "    .dataframe thead th {\n",
              "        text-align: right;\n",
              "    }\n",
              "</style>\n",
              "<table border=\"1\" class=\"dataframe\">\n",
              "  <thead>\n",
              "    <tr style=\"text-align: right;\">\n",
              "      <th></th>\n",
              "      <th>turnover</th>\n",
              "      <th>satisfaction</th>\n",
              "      <th>evaluation</th>\n",
              "      <th>projectCount</th>\n",
              "      <th>averageMonthlyHours</th>\n",
              "      <th>yearsAtCompany</th>\n",
              "      <th>workAccident</th>\n",
              "      <th>promotion</th>\n",
              "      <th>department</th>\n",
              "      <th>salary</th>\n",
              "    </tr>\n",
              "  </thead>\n",
              "  <tbody>\n",
              "    <tr>\n",
              "      <th>0</th>\n",
              "      <td>1</td>\n",
              "      <td>0.38</td>\n",
              "      <td>0.53</td>\n",
              "      <td>2</td>\n",
              "      <td>157</td>\n",
              "      <td>3</td>\n",
              "      <td>0</td>\n",
              "      <td>0</td>\n",
              "      <td>sales</td>\n",
              "      <td>low</td>\n",
              "    </tr>\n",
              "    <tr>\n",
              "      <th>1</th>\n",
              "      <td>1</td>\n",
              "      <td>0.80</td>\n",
              "      <td>0.86</td>\n",
              "      <td>5</td>\n",
              "      <td>262</td>\n",
              "      <td>6</td>\n",
              "      <td>0</td>\n",
              "      <td>0</td>\n",
              "      <td>sales</td>\n",
              "      <td>medium</td>\n",
              "    </tr>\n",
              "    <tr>\n",
              "      <th>2</th>\n",
              "      <td>1</td>\n",
              "      <td>0.11</td>\n",
              "      <td>0.88</td>\n",
              "      <td>7</td>\n",
              "      <td>272</td>\n",
              "      <td>4</td>\n",
              "      <td>0</td>\n",
              "      <td>0</td>\n",
              "      <td>sales</td>\n",
              "      <td>medium</td>\n",
              "    </tr>\n",
              "    <tr>\n",
              "      <th>3</th>\n",
              "      <td>1</td>\n",
              "      <td>0.72</td>\n",
              "      <td>0.87</td>\n",
              "      <td>5</td>\n",
              "      <td>223</td>\n",
              "      <td>5</td>\n",
              "      <td>0</td>\n",
              "      <td>0</td>\n",
              "      <td>sales</td>\n",
              "      <td>low</td>\n",
              "    </tr>\n",
              "    <tr>\n",
              "      <th>4</th>\n",
              "      <td>1</td>\n",
              "      <td>0.37</td>\n",
              "      <td>0.52</td>\n",
              "      <td>2</td>\n",
              "      <td>159</td>\n",
              "      <td>3</td>\n",
              "      <td>0</td>\n",
              "      <td>0</td>\n",
              "      <td>sales</td>\n",
              "      <td>low</td>\n",
              "    </tr>\n",
              "  </tbody>\n",
              "</table>\n",
              "</div>"
            ],
            "text/plain": [
              "   turnover  satisfaction  evaluation  ...  promotion  department  salary\n",
              "0         1          0.38        0.53  ...          0       sales     low\n",
              "1         1          0.80        0.86  ...          0       sales  medium\n",
              "2         1          0.11        0.88  ...          0       sales  medium\n",
              "3         1          0.72        0.87  ...          0       sales     low\n",
              "4         1          0.37        0.52  ...          0       sales     low\n",
              "\n",
              "[5 rows x 10 columns]"
            ]
          },
          "metadata": {
            "tags": []
          },
          "execution_count": 37
        }
      ]
    },
    {
      "cell_type": "markdown",
      "metadata": {
        "id": "ftWhW5pZSHG4"
      },
      "source": [
        "# Statistical analysis"
      ]
    },
    {
      "cell_type": "code",
      "metadata": {
        "id": "fIhEZnfGMKJB",
        "colab": {
          "base_uri": "https://localhost:8080/"
        },
        "outputId": "54af7a4b-961b-4e5f-80cb-dc26ff5fc900"
      },
      "source": [
        "\n",
        "df.shape"
      ],
      "execution_count": null,
      "outputs": [
        {
          "output_type": "execute_result",
          "data": {
            "text/plain": [
              "(14999, 10)"
            ]
          },
          "metadata": {
            "tags": []
          },
          "execution_count": 38
        }
      ]
    },
    {
      "cell_type": "code",
      "metadata": {
        "id": "L51rrQ3iOVLV",
        "colab": {
          "base_uri": "https://localhost:8080/"
        },
        "outputId": "b6606e46-e4f3-4cd7-9bdf-9dad364851b3"
      },
      "source": [
        "df.dtypes"
      ],
      "execution_count": null,
      "outputs": [
        {
          "output_type": "execute_result",
          "data": {
            "text/plain": [
              "turnover                 int64\n",
              "satisfaction           float64\n",
              "evaluation             float64\n",
              "projectCount             int64\n",
              "averageMonthlyHours      int64\n",
              "yearsAtCompany           int64\n",
              "workAccident             int64\n",
              "promotion                int64\n",
              "department              object\n",
              "salary                  object\n",
              "dtype: object"
            ]
          },
          "metadata": {
            "tags": []
          },
          "execution_count": 39
        }
      ]
    },
    {
      "cell_type": "code",
      "metadata": {
        "id": "IW_8V36DOeUA",
        "colab": {
          "base_uri": "https://localhost:8080/"
        },
        "outputId": "fecabfe5-0bcc-411d-f7f5-4b29b5d2e1f1"
      },
      "source": [
        "\n",
        "# NOTE: When performing cross validation, its important to maintain this turnover ratio\n",
        "turnover_rate = df.turnover.value_counts() / len(df)\n",
        "turnover_rate"
      ],
      "execution_count": null,
      "outputs": [
        {
          "output_type": "execute_result",
          "data": {
            "text/plain": [
              "0    0.761917\n",
              "1    0.238083\n",
              "Name: turnover, dtype: float64"
            ]
          },
          "metadata": {
            "tags": []
          },
          "execution_count": 40
        }
      ]
    },
    {
      "cell_type": "markdown",
      "metadata": {
        "id": "IDn1r_Zh5-jv"
      },
      "source": [
        "It is observed that 76 percent of employees stayed and  23 percent employees left. "
      ]
    },
    {
      "cell_type": "code",
      "metadata": {
        "id": "hDq7bBfZPLbv",
        "colab": {
          "base_uri": "https://localhost:8080/",
          "height": 297
        },
        "outputId": "3f89aa6c-1aef-43ea-d6f2-926ff0e8d520"
      },
      "source": [
        "df.describe()"
      ],
      "execution_count": null,
      "outputs": [
        {
          "output_type": "execute_result",
          "data": {
            "text/html": [
              "<div>\n",
              "<style scoped>\n",
              "    .dataframe tbody tr th:only-of-type {\n",
              "        vertical-align: middle;\n",
              "    }\n",
              "\n",
              "    .dataframe tbody tr th {\n",
              "        vertical-align: top;\n",
              "    }\n",
              "\n",
              "    .dataframe thead th {\n",
              "        text-align: right;\n",
              "    }\n",
              "</style>\n",
              "<table border=\"1\" class=\"dataframe\">\n",
              "  <thead>\n",
              "    <tr style=\"text-align: right;\">\n",
              "      <th></th>\n",
              "      <th>turnover</th>\n",
              "      <th>satisfaction</th>\n",
              "      <th>evaluation</th>\n",
              "      <th>projectCount</th>\n",
              "      <th>averageMonthlyHours</th>\n",
              "      <th>yearsAtCompany</th>\n",
              "      <th>workAccident</th>\n",
              "      <th>promotion</th>\n",
              "    </tr>\n",
              "  </thead>\n",
              "  <tbody>\n",
              "    <tr>\n",
              "      <th>count</th>\n",
              "      <td>14999.000000</td>\n",
              "      <td>14999.000000</td>\n",
              "      <td>14999.000000</td>\n",
              "      <td>14999.000000</td>\n",
              "      <td>14999.000000</td>\n",
              "      <td>14999.000000</td>\n",
              "      <td>14999.000000</td>\n",
              "      <td>14999.000000</td>\n",
              "    </tr>\n",
              "    <tr>\n",
              "      <th>mean</th>\n",
              "      <td>0.238083</td>\n",
              "      <td>0.612834</td>\n",
              "      <td>0.716102</td>\n",
              "      <td>3.803054</td>\n",
              "      <td>201.050337</td>\n",
              "      <td>3.498233</td>\n",
              "      <td>0.144610</td>\n",
              "      <td>0.021268</td>\n",
              "    </tr>\n",
              "    <tr>\n",
              "      <th>std</th>\n",
              "      <td>0.425924</td>\n",
              "      <td>0.248631</td>\n",
              "      <td>0.171169</td>\n",
              "      <td>1.232592</td>\n",
              "      <td>49.943099</td>\n",
              "      <td>1.460136</td>\n",
              "      <td>0.351719</td>\n",
              "      <td>0.144281</td>\n",
              "    </tr>\n",
              "    <tr>\n",
              "      <th>min</th>\n",
              "      <td>0.000000</td>\n",
              "      <td>0.090000</td>\n",
              "      <td>0.360000</td>\n",
              "      <td>2.000000</td>\n",
              "      <td>96.000000</td>\n",
              "      <td>2.000000</td>\n",
              "      <td>0.000000</td>\n",
              "      <td>0.000000</td>\n",
              "    </tr>\n",
              "    <tr>\n",
              "      <th>25%</th>\n",
              "      <td>0.000000</td>\n",
              "      <td>0.440000</td>\n",
              "      <td>0.560000</td>\n",
              "      <td>3.000000</td>\n",
              "      <td>156.000000</td>\n",
              "      <td>3.000000</td>\n",
              "      <td>0.000000</td>\n",
              "      <td>0.000000</td>\n",
              "    </tr>\n",
              "    <tr>\n",
              "      <th>50%</th>\n",
              "      <td>0.000000</td>\n",
              "      <td>0.640000</td>\n",
              "      <td>0.720000</td>\n",
              "      <td>4.000000</td>\n",
              "      <td>200.000000</td>\n",
              "      <td>3.000000</td>\n",
              "      <td>0.000000</td>\n",
              "      <td>0.000000</td>\n",
              "    </tr>\n",
              "    <tr>\n",
              "      <th>75%</th>\n",
              "      <td>0.000000</td>\n",
              "      <td>0.820000</td>\n",
              "      <td>0.870000</td>\n",
              "      <td>5.000000</td>\n",
              "      <td>245.000000</td>\n",
              "      <td>4.000000</td>\n",
              "      <td>0.000000</td>\n",
              "      <td>0.000000</td>\n",
              "    </tr>\n",
              "    <tr>\n",
              "      <th>max</th>\n",
              "      <td>1.000000</td>\n",
              "      <td>1.000000</td>\n",
              "      <td>1.000000</td>\n",
              "      <td>7.000000</td>\n",
              "      <td>310.000000</td>\n",
              "      <td>10.000000</td>\n",
              "      <td>1.000000</td>\n",
              "      <td>1.000000</td>\n",
              "    </tr>\n",
              "  </tbody>\n",
              "</table>\n",
              "</div>"
            ],
            "text/plain": [
              "           turnover  satisfaction  ...  workAccident     promotion\n",
              "count  14999.000000  14999.000000  ...  14999.000000  14999.000000\n",
              "mean       0.238083      0.612834  ...      0.144610      0.021268\n",
              "std        0.425924      0.248631  ...      0.351719      0.144281\n",
              "min        0.000000      0.090000  ...      0.000000      0.000000\n",
              "25%        0.000000      0.440000  ...      0.000000      0.000000\n",
              "50%        0.000000      0.640000  ...      0.000000      0.000000\n",
              "75%        0.000000      0.820000  ...      0.000000      0.000000\n",
              "max        1.000000      1.000000  ...      1.000000      1.000000\n",
              "\n",
              "[8 rows x 8 columns]"
            ]
          },
          "metadata": {
            "tags": []
          },
          "execution_count": 41
        }
      ]
    },
    {
      "cell_type": "code",
      "metadata": {
        "id": "wWLaTS9nPOhP",
        "colab": {
          "base_uri": "https://localhost:8080/",
          "height": 142
        },
        "outputId": "495c0ab3-dd44-4062-865e-dec43dc4916e"
      },
      "source": [
        "turnover_Summary = df.groupby('turnover')\n",
        "turnover_Summary.mean()"
      ],
      "execution_count": null,
      "outputs": [
        {
          "output_type": "execute_result",
          "data": {
            "text/html": [
              "<div>\n",
              "<style scoped>\n",
              "    .dataframe tbody tr th:only-of-type {\n",
              "        vertical-align: middle;\n",
              "    }\n",
              "\n",
              "    .dataframe tbody tr th {\n",
              "        vertical-align: top;\n",
              "    }\n",
              "\n",
              "    .dataframe thead th {\n",
              "        text-align: right;\n",
              "    }\n",
              "</style>\n",
              "<table border=\"1\" class=\"dataframe\">\n",
              "  <thead>\n",
              "    <tr style=\"text-align: right;\">\n",
              "      <th></th>\n",
              "      <th>satisfaction</th>\n",
              "      <th>evaluation</th>\n",
              "      <th>projectCount</th>\n",
              "      <th>averageMonthlyHours</th>\n",
              "      <th>yearsAtCompany</th>\n",
              "      <th>workAccident</th>\n",
              "      <th>promotion</th>\n",
              "    </tr>\n",
              "    <tr>\n",
              "      <th>turnover</th>\n",
              "      <th></th>\n",
              "      <th></th>\n",
              "      <th></th>\n",
              "      <th></th>\n",
              "      <th></th>\n",
              "      <th></th>\n",
              "      <th></th>\n",
              "    </tr>\n",
              "  </thead>\n",
              "  <tbody>\n",
              "    <tr>\n",
              "      <th>0</th>\n",
              "      <td>0.666810</td>\n",
              "      <td>0.715473</td>\n",
              "      <td>3.786664</td>\n",
              "      <td>199.060203</td>\n",
              "      <td>3.380032</td>\n",
              "      <td>0.175009</td>\n",
              "      <td>0.026251</td>\n",
              "    </tr>\n",
              "    <tr>\n",
              "      <th>1</th>\n",
              "      <td>0.440098</td>\n",
              "      <td>0.718113</td>\n",
              "      <td>3.855503</td>\n",
              "      <td>207.419210</td>\n",
              "      <td>3.876505</td>\n",
              "      <td>0.047326</td>\n",
              "      <td>0.005321</td>\n",
              "    </tr>\n",
              "  </tbody>\n",
              "</table>\n",
              "</div>"
            ],
            "text/plain": [
              "          satisfaction  evaluation  ...  workAccident  promotion\n",
              "turnover                            ...                         \n",
              "0             0.666810    0.715473  ...      0.175009   0.026251\n",
              "1             0.440098    0.718113  ...      0.047326   0.005321\n",
              "\n",
              "[2 rows x 7 columns]"
            ]
          },
          "metadata": {
            "tags": []
          },
          "execution_count": 42
        }
      ]
    },
    {
      "cell_type": "markdown",
      "metadata": {
        "id": "k9flVFvuvq4I"
      },
      "source": [
        "Correlation Matrix & Heatmap\n",
        "Moderate Positively Correlated Features:\n",
        "\n",
        "1. projectCount vs evaluation: 0.349333\n",
        "2. projectCount vs averageMonthlyHours: 0.417211\n",
        "3. averageMonthlyHours vs evaluation: 0.3397\n",
        "Moderate Negatively Correlated Feature:\n",
        "\n",
        "satisfaction vs turnover: -0.388375\n",
        "\n",
        "From the heatmap, there is a positive(+) correlation between projectCount, averageMonthlyHours, and evaluation. Which could mean that the employees who spent more hours and did more projects were evaluated highly.\n",
        "\n",
        "For the negative(-) relationships, turnover and satisfaction are highly correlated. I'm assuming that people tend to leave a company more when they are less satisfied.\n"
      ]
    },
    {
      "cell_type": "code",
      "metadata": {
        "id": "QzPY9uqcPVXc",
        "colab": {
          "base_uri": "https://localhost:8080/",
          "height": 646
        },
        "outputId": "4d243831-3077-41b9-d11f-e7d25e126064"
      },
      "source": [
        "#Correlation Matrix\n",
        "corr = df.corr()\n",
        "corr = (corr)\n",
        "sns.heatmap(corr, \n",
        "            xticklabels=corr.columns.values,\n",
        "            yticklabels=corr.columns.values)\n",
        "\n",
        "corr"
      ],
      "execution_count": null,
      "outputs": [
        {
          "output_type": "execute_result",
          "data": {
            "text/html": [
              "<div>\n",
              "<style scoped>\n",
              "    .dataframe tbody tr th:only-of-type {\n",
              "        vertical-align: middle;\n",
              "    }\n",
              "\n",
              "    .dataframe tbody tr th {\n",
              "        vertical-align: top;\n",
              "    }\n",
              "\n",
              "    .dataframe thead th {\n",
              "        text-align: right;\n",
              "    }\n",
              "</style>\n",
              "<table border=\"1\" class=\"dataframe\">\n",
              "  <thead>\n",
              "    <tr style=\"text-align: right;\">\n",
              "      <th></th>\n",
              "      <th>turnover</th>\n",
              "      <th>satisfaction</th>\n",
              "      <th>evaluation</th>\n",
              "      <th>projectCount</th>\n",
              "      <th>averageMonthlyHours</th>\n",
              "      <th>yearsAtCompany</th>\n",
              "      <th>workAccident</th>\n",
              "      <th>promotion</th>\n",
              "    </tr>\n",
              "  </thead>\n",
              "  <tbody>\n",
              "    <tr>\n",
              "      <th>turnover</th>\n",
              "      <td>1.000000</td>\n",
              "      <td>-0.388375</td>\n",
              "      <td>0.006567</td>\n",
              "      <td>0.023787</td>\n",
              "      <td>0.071287</td>\n",
              "      <td>0.144822</td>\n",
              "      <td>-0.154622</td>\n",
              "      <td>-0.061788</td>\n",
              "    </tr>\n",
              "    <tr>\n",
              "      <th>satisfaction</th>\n",
              "      <td>-0.388375</td>\n",
              "      <td>1.000000</td>\n",
              "      <td>0.105021</td>\n",
              "      <td>-0.142970</td>\n",
              "      <td>-0.020048</td>\n",
              "      <td>-0.100866</td>\n",
              "      <td>0.058697</td>\n",
              "      <td>0.025605</td>\n",
              "    </tr>\n",
              "    <tr>\n",
              "      <th>evaluation</th>\n",
              "      <td>0.006567</td>\n",
              "      <td>0.105021</td>\n",
              "      <td>1.000000</td>\n",
              "      <td>0.349333</td>\n",
              "      <td>0.339742</td>\n",
              "      <td>0.131591</td>\n",
              "      <td>-0.007104</td>\n",
              "      <td>-0.008684</td>\n",
              "    </tr>\n",
              "    <tr>\n",
              "      <th>projectCount</th>\n",
              "      <td>0.023787</td>\n",
              "      <td>-0.142970</td>\n",
              "      <td>0.349333</td>\n",
              "      <td>1.000000</td>\n",
              "      <td>0.417211</td>\n",
              "      <td>0.196786</td>\n",
              "      <td>-0.004741</td>\n",
              "      <td>-0.006064</td>\n",
              "    </tr>\n",
              "    <tr>\n",
              "      <th>averageMonthlyHours</th>\n",
              "      <td>0.071287</td>\n",
              "      <td>-0.020048</td>\n",
              "      <td>0.339742</td>\n",
              "      <td>0.417211</td>\n",
              "      <td>1.000000</td>\n",
              "      <td>0.127755</td>\n",
              "      <td>-0.010143</td>\n",
              "      <td>-0.003544</td>\n",
              "    </tr>\n",
              "    <tr>\n",
              "      <th>yearsAtCompany</th>\n",
              "      <td>0.144822</td>\n",
              "      <td>-0.100866</td>\n",
              "      <td>0.131591</td>\n",
              "      <td>0.196786</td>\n",
              "      <td>0.127755</td>\n",
              "      <td>1.000000</td>\n",
              "      <td>0.002120</td>\n",
              "      <td>0.067433</td>\n",
              "    </tr>\n",
              "    <tr>\n",
              "      <th>workAccident</th>\n",
              "      <td>-0.154622</td>\n",
              "      <td>0.058697</td>\n",
              "      <td>-0.007104</td>\n",
              "      <td>-0.004741</td>\n",
              "      <td>-0.010143</td>\n",
              "      <td>0.002120</td>\n",
              "      <td>1.000000</td>\n",
              "      <td>0.039245</td>\n",
              "    </tr>\n",
              "    <tr>\n",
              "      <th>promotion</th>\n",
              "      <td>-0.061788</td>\n",
              "      <td>0.025605</td>\n",
              "      <td>-0.008684</td>\n",
              "      <td>-0.006064</td>\n",
              "      <td>-0.003544</td>\n",
              "      <td>0.067433</td>\n",
              "      <td>0.039245</td>\n",
              "      <td>1.000000</td>\n",
              "    </tr>\n",
              "  </tbody>\n",
              "</table>\n",
              "</div>"
            ],
            "text/plain": [
              "                     turnover  satisfaction  ...  workAccident  promotion\n",
              "turnover             1.000000     -0.388375  ...     -0.154622  -0.061788\n",
              "satisfaction        -0.388375      1.000000  ...      0.058697   0.025605\n",
              "evaluation           0.006567      0.105021  ...     -0.007104  -0.008684\n",
              "projectCount         0.023787     -0.142970  ...     -0.004741  -0.006064\n",
              "averageMonthlyHours  0.071287     -0.020048  ...     -0.010143  -0.003544\n",
              "yearsAtCompany       0.144822     -0.100866  ...      0.002120   0.067433\n",
              "workAccident        -0.154622      0.058697  ...      1.000000   0.039245\n",
              "promotion           -0.061788      0.025605  ...      0.039245   1.000000\n",
              "\n",
              "[8 rows x 8 columns]"
            ]
          },
          "metadata": {
            "tags": []
          },
          "execution_count": 43
        },
        {
          "output_type": "display_data",
          "data": {
            "image/png": "[encoded data removed]",
            "text/plain": [
              "<Figure size 432x288 with 2 Axes>"
            ]
          },
          "metadata": {
            "tags": [],
            "needs_background": "light"
          }
        }
      ]
    },
    {
      "cell_type": "markdown",
      "metadata": {
        "id": "k8QkVSMPvgSH"
      },
      "source": [
        "One-Sample T-Test (Measuring Satisfaction Level)¶\n",
        "A one-sample t-test checks whether a sample mean differs from the population mean. Since satisfaction has the highest correlation with our dependent variable turnover, let's test to see whether the average satisfaction level of employees that had a turnover differs from the those that had no turnover.\n",
        "\n",
        "Hypothesis Testing: Is there significant difference in the means of satisfaction level between employees who had a turnover and temployees who had no turnover?\n",
        "\n",
        "Null Hypothesis: (H0: pTS = pES) The null hypothesis would be that there is no difference in satisfaction level between employees who did turnover and those who did not..\n",
        "\n",
        "Alternate Hypothesis: (HA: pTS != pES) The alternative hypothesis would be that there is"
      ]
    },
    {
      "cell_type": "code",
      "metadata": {
        "id": "EORYIqnwvd3V",
        "colab": {
          "base_uri": "https://localhost:8080/"
        },
        "outputId": "b2bf32f7-553b-4df6-f9c4-c689190bd9f9"
      },
      "source": [
        "# Let's compare the means of our employee turnover satisfaction against the employee population satisfaction\n",
        "#emp_population = df['satisfaction'].mean()\n",
        "emp_population = df['satisfaction'][df['turnover'] == 0].mean()\n",
        "emp_turnover_satisfaction = df[df['turnover']==1]['satisfaction'].mean()\n",
        "\n",
        "print( 'The mean satisfaction for the employee population with no turnover is: ' + str(emp_population))\n",
        "print( 'The mean satisfaction for employees that had a turnover is: ' + str(emp_turnover_satisfaction) )"
      ],
      "execution_count": null,
      "outputs": [
        {
          "output_type": "stream",
          "text": [
            "The mean satisfaction for the employee population with no turnover is: 0.666809590479516\n",
            "The mean satisfaction for employees that had a turnover is: 0.44009801176140917\n"
          ],
          "name": "stdout"
        }
      ]
    },
    {
      "cell_type": "markdown",
      "metadata": {
        "id": "fh6yvrIFv5vM"
      },
      "source": [
        "Let's conduct a t-test at 95% confidence level and see if it correctly rejects the null hypothesis that the sample comes from the same distribution as the employee population. To conduct a one sample t-test, we can use the stats.ttest_1samp() function:"
      ]
    },
    {
      "cell_type": "code",
      "metadata": {
        "id": "OnSM-TMBvxNO",
        "colab": {
          "base_uri": "https://localhost:8080/"
        },
        "outputId": "3cf6154f-1b0e-4507-fb69-48ee7708712e"
      },
      "source": [
        "import scipy.stats as stats\n",
        "stats.ttest_1samp(a=  df[df['turnover']==1]['satisfaction'], # Sample of Employee satisfaction who had a Turnover\n",
        "                  popmean = emp_population)  # Employee Who Had No Turnover satisfaction mean"
      ],
      "execution_count": null,
      "outputs": [
        {
          "output_type": "execute_result",
          "data": {
            "text/plain": [
              "Ttest_1sampResult(statistic=-51.3303486754725, pvalue=0.0)"
            ]
          },
          "metadata": {
            "tags": []
          },
          "execution_count": 45
        }
      ]
    },
    {
      "cell_type": "markdown",
      "metadata": {
        "id": "WmtI5NuXwGK3"
      },
      "source": [
        "The test result shows the test statistic \"t\" is equal to -51.33. This test statistic tells us how much the sample mean deviates from the null hypothesis. If the t-statistic lies outside the quantiles of the t-distribution corresponding to our confidence level and degrees of freedom, we reject the null hypothesis."
      ]
    },
    {
      "cell_type": "markdown",
      "metadata": {
        "id": "LTOTMbCu7vwA"
      },
      "source": [
        "If the t-statistic value we calculated above (-51.33) is outside the quantiles, then we can reject the null hypothesis\n",
        "\n"
      ]
    },
    {
      "cell_type": "code",
      "metadata": {
        "id": "FyyQVB_NwA-P",
        "colab": {
          "base_uri": "https://localhost:8080/"
        },
        "outputId": "e910371f-d0e2-437e-87ad-d76ec2363c60"
      },
      "source": [
        "# If the t-statistic value we calculated above (-51.33) is outside the quantiles, then we can reject the null hypothesis\n",
        "\n",
        "degree_freedom = len(df[df['turnover']==1])\n",
        "\n",
        "LQ = stats.t.ppf(0.025,degree_freedom)  # Left Quartile\n",
        "\n",
        "RQ = stats.t.ppf(0.975,degree_freedom)  # Right Quartile\n",
        "\n",
        "print ('The t-distribution left quartile range is: ' + str(LQ))\n",
        "print ('The t-distribution right quartile range is: ' + str(RQ))"
      ],
      "execution_count": null,
      "outputs": [
        {
          "output_type": "stream",
          "text": [
            "The t-distribution left quartile range is: -1.9606285215955626\n",
            "The t-distribution right quartile range is: 1.9606285215955621\n"
          ],
          "name": "stdout"
        }
      ]
    },
    {
      "cell_type": "markdown",
      "metadata": {
        "id": "DREB4TtAwfNc"
      },
      "source": [
        "One-Sample T-Test Summary\n",
        "T-Test = -51.33 | P-Value = 0.000_ | Reject Null Hypothesis"
      ]
    },
    {
      "cell_type": "code",
      "metadata": {
        "id": "Kge7FK9iQ-4A",
        "colab": {
          "base_uri": "https://localhost:8080/",
          "height": 476
        },
        "outputId": "d5139e14-602d-4f1a-be36-72ded3ac4747"
      },
      "source": [
        "# Set up the matplotlib figure\n",
        "f, axes = plt.subplots(ncols=3, figsize=(15, 6))\n",
        "\n",
        "# Graph Employee Satisfaction\n",
        "sns.distplot(df.satisfaction, kde=False, color=\"g\", ax=axes[0]).set_title('Employee Satisfaction Distribution')\n",
        "axes[0].set_ylabel('Employee Count')\n",
        "\n",
        "# Graph Employee Evaluation\n",
        "sns.distplot(df.evaluation, kde=False, color=\"r\", ax=axes[1]).set_title('Employee Evaluation Distribution')\n",
        "axes[1].set_ylabel('Employee Count')\n",
        "\n",
        "# Graph Employee Average Monthly Hours\n",
        "sns.distplot(df.averageMonthlyHours, kde=False, color=\"b\", ax=axes[2]).set_title('Employee Average Monthly Hours Distribution')\n",
        "axes[2].set_ylabel('Employee Count')"
      ],
      "execution_count": null,
      "outputs": [
        {
          "output_type": "stream",
          "text": [
            "/usr/local/lib/python3.6/dist-packages/seaborn/distributions.py:2551: FutureWarning: `distplot` is a deprecated function and will be removed in a future version. Please adapt your code to use either `displot` (a figure-level function with similar flexibility) or `histplot` (an axes-level function for histograms).\n",
            "  warnings.warn(msg, FutureWarning)\n"
          ],
          "name": "stderr"
        },
        {
          "output_type": "execute_result",
          "data": {
            "text/plain": [
              "Text(0, 0.5, 'Employee Count')"
            ]
          },
          "metadata": {
            "tags": []
          },
          "execution_count": 47
        },
        {
          "output_type": "display_data",
          "data": {
            "image/png": "[encoded data removed]",
            "text/plain": [
              "<Figure size 1080x432 with 3 Axes>"
            ]
          },
          "metadata": {
            "tags": [],
            "needs_background": "light"
          }
        }
      ]
    },
    {
      "cell_type": "markdown",
      "metadata": {
        "id": "hxwP35BKR3Az"
      },
      "source": [
        "Salary vs Turnover"
      ]
    },
    {
      "cell_type": "code",
      "metadata": {
        "id": "4Shgiv-oRvJt",
        "colab": {
          "base_uri": "https://localhost:8080/",
          "height": 296
        },
        "outputId": "41670508-3823-493c-a418-93e947833515"
      },
      "source": [
        "f, ax = plt.subplots(figsize=(15, 4))\n",
        "sns.countplot(y=\"salary\", hue='turnover', data=df).set_title('Employee Salary Turnover Distribution');"
      ],
      "execution_count": null,
      "outputs": [
        {
          "output_type": "display_data",
          "data": {
            "image/png": "[encoded data removed]",
            "text/plain": [
              "<Figure size 1080x288 with 1 Axes>"
            ]
          },
          "metadata": {
            "tags": [],
            "needs_background": "light"
          }
        }
      ]
    },
    {
      "cell_type": "markdown",
      "metadata": {
        "id": "Cwlx00jc76Rd"
      },
      "source": [
        "Majority of employees who left either had low or medium salary.\n",
        "very less employees left with high salary\n",
        "Employees with low to average salaries tend to leave the company."
      ]
    },
    {
      "cell_type": "markdown",
      "metadata": {
        "id": "yfhGv50xSAPH"
      },
      "source": [
        "Department vs Turnover"
      ]
    },
    {
      "cell_type": "code",
      "metadata": {
        "id": "VVqPCfoQR5Y1",
        "colab": {
          "base_uri": "https://localhost:8080/",
          "height": 374
        },
        "outputId": "7d0edbaa-a2eb-4108-98ee-015b242b6ca7"
      },
      "source": [
        "#Employee distri\n",
        "# Types of colors\n",
        "color_types = ['#78C850','#F08030','#6890F0','#A8B820','#A8A878','#A040A0','#F8D030',  \n",
        "                '#E0C068','#EE99AC','#C03028','#F85888','#B8A038','#705898','#98D8D8','#7038F8']\n",
        "\n",
        "# Count Plot (a.k.a. Bar Plot)\n",
        "sns.countplot(x='department', data=df, palette=color_types).set_title('Employee Department Distribution');\n",
        " \n",
        "# Rotate x-labels\n",
        "plt.xticks(rotation=-45)"
      ],
      "execution_count": null,
      "outputs": [
        {
          "output_type": "execute_result",
          "data": {
            "text/plain": [
              "(array([0, 1, 2, 3, 4, 5, 6, 7, 8, 9]),\n",
              " <a list of 10 Text major ticklabel objects>)"
            ]
          },
          "metadata": {
            "tags": []
          },
          "execution_count": 49
        },
        {
          "output_type": "display_data",
          "data": {
            "image/png": "[encoded data removed]",
            "text/plain": [
              "<Figure size 432x288 with 1 Axes>"
            ]
          },
          "metadata": {
            "tags": [],
            "needs_background": "light"
          }
        }
      ]
    },
    {
      "cell_type": "markdown",
      "metadata": {
        "id": "VUOeL8Fg8J2L"
      },
      "source": [
        "The sales, technical, and support department were the top 3 departments to have employee turnover\n",
        "The management department had the smallest amount of turnover"
      ]
    },
    {
      "cell_type": "code",
      "metadata": {
        "id": "eA8BD7lFTKU-",
        "colab": {
          "base_uri": "https://localhost:8080/",
          "height": 350
        },
        "outputId": "abba4056-46e5-4378-8e44-494eeb54f484"
      },
      "source": [
        "f, ax = plt.subplots(figsize=(15, 5))\n",
        "sns.countplot(y=\"department\", hue='turnover', data=df).set_title('Employee Department Turnover Distribution');"
      ],
      "execution_count": null,
      "outputs": [
        {
          "output_type": "display_data",
          "data": {
            "image/png": "[encoded data removed]",
            "text/plain": [
              "<Figure size 1080x360 with 1 Axes>"
            ]
          },
          "metadata": {
            "tags": [],
            "needs_background": "light"
          }
        }
      ]
    },
    {
      "cell_type": "markdown",
      "metadata": {
        "id": "pp9F1td5TYBa"
      },
      "source": [
        "Turnover vs project Count"
      ]
    },
    {
      "cell_type": "code",
      "metadata": {
        "id": "X9gI8Kn0TT4x",
        "colab": {
          "base_uri": "https://localhost:8080/",
          "height": 296
        },
        "outputId": "a5f62728-2405-4ddb-de98-a30ad31ea9dd"
      },
      "source": [
        "ax = sns.barplot(x=\"projectCount\", y=\"projectCount\", hue=\"turnover\", data=df, estimator=lambda x: len(x) / len(df) * 100)\n",
        "ax.set(ylabel=\"Percent\")"
      ],
      "execution_count": null,
      "outputs": [
        {
          "output_type": "execute_result",
          "data": {
            "text/plain": [
              "[Text(0, 0.5, 'Percent')]"
            ]
          },
          "metadata": {
            "tags": []
          },
          "execution_count": 51
        },
        {
          "output_type": "display_data",
          "data": {
            "image/png": "[encoded data removed]",
            "text/plain": [
              "<Figure size 432x288 with 1 Axes>"
            ]
          },
          "metadata": {
            "tags": [],
            "needs_background": "light"
          }
        }
      ]
    },
    {
      "cell_type": "markdown",
      "metadata": {
        "id": "zu2XEEr99HdT"
      },
      "source": [
        "More than half of the employees with 2,6, and 7 projects left the company\n",
        "Majority of the employees who did not leave the company had 3,4, and 5 projects\n",
        "All of the employees with 7 projects left the company\n",
        "There is an increase in employee turnover rate as project count increases"
      ]
    },
    {
      "cell_type": "markdown",
      "metadata": {
        "id": "3EtujOWGT453"
      },
      "source": [
        "Turnover vs Evaluation"
      ]
    },
    {
      "cell_type": "code",
      "metadata": {
        "id": "3WNinFl-T09s",
        "colab": {
          "base_uri": "https://localhost:8080/",
          "height": 313
        },
        "outputId": "1ad4462c-d6fb-4275-8cfa-e4fe8edfa4ed"
      },
      "source": [
        "# Kernel Density Plot\n",
        "fig = plt.figure(figsize=(15,4),)\n",
        "ax=sns.kdeplot(df.loc[(df['turnover'] == 0),'evaluation'] , color='b',shade=True,label='no turnover')\n",
        "ax=sns.kdeplot(df.loc[(df['turnover'] == 1),'evaluation'] , color='r',shade=True, label='turnover')\n",
        "ax.set(xlabel='Employee Evaluation', ylabel='Frequency')\n",
        "plt.title('Employee Evaluation Distribution - Turnover V.S. No Turnover')\n"
      ],
      "execution_count": null,
      "outputs": [
        {
          "output_type": "execute_result",
          "data": {
            "text/plain": [
              "Text(0.5, 1.0, 'Employee Evaluation Distribution - Turnover V.S. No Turnover')"
            ]
          },
          "metadata": {
            "tags": []
          },
          "execution_count": 52
        },
        {
          "output_type": "display_data",
          "data": {
            "image/png": "[encoded data removed]",
            "text/plain": [
              "<Figure size 1080x288 with 1 Axes>"
            ]
          },
          "metadata": {
            "tags": [],
            "needs_background": "light"
          }
        }
      ]
    },
    {
      "cell_type": "markdown",
      "metadata": {
        "id": "uE2_j6j59Mjz"
      },
      "source": [
        "There is a biomodal distribution for those that had a turnover.\n",
        "Employees with low performance tend to leave the company more\n",
        "Employees with high performance tend to leave the company more\n",
        "The sweet spot for employees that stayed is within 0.6-0.8 evaluation"
      ]
    },
    {
      "cell_type": "markdown",
      "metadata": {
        "id": "4wppI-UgUEL8"
      },
      "source": [
        "Turnover vs Average monthly hours"
      ]
    },
    {
      "cell_type": "code",
      "metadata": {
        "id": "2vB_LUfNUBY3",
        "colab": {
          "base_uri": "https://localhost:8080/",
          "height": 313
        },
        "outputId": "e06b0539-e9c0-48c5-fb84-197b58374368"
      },
      "source": [
        "#KDEPlot: Kernel Density Estimate Plot\n",
        "fig = plt.figure(figsize=(15,4))\n",
        "ax=sns.kdeplot(df.loc[(df['turnover'] == 0),'averageMonthlyHours'] , color='b',shade=True, label='no turnover')\n",
        "ax=sns.kdeplot(df.loc[(df['turnover'] == 1),'averageMonthlyHours'] , color='r',shade=True, label='turnover')\n",
        "ax.set(xlabel='Employee Average Monthly Hours', ylabel='Frequency')\n",
        "plt.title('Employee AverageMonthly Hours Distribution - Turnover V.S. No Turnover')"
      ],
      "execution_count": null,
      "outputs": [
        {
          "output_type": "execute_result",
          "data": {
            "text/plain": [
              "Text(0.5, 1.0, 'Employee AverageMonthly Hours Distribution - Turnover V.S. No Turnover')"
            ]
          },
          "metadata": {
            "tags": []
          },
          "execution_count": 53
        },
        {
          "output_type": "display_data",
          "data": {
            "image/png": "[encoded data removed]",
            "text/plain": [
              "<Figure size 1080x288 with 1 Axes>"
            ]
          },
          "metadata": {
            "tags": [],
            "needs_background": "light"
          }
        }
      ]
    },
    {
      "cell_type": "markdown",
      "metadata": {
        "id": "VWfkeZZc9S8Q"
      },
      "source": [
        "Another bi-modal distribution for employees that turnovered\n",
        "Employees who had less hours of work (150hours or less) left the company more\n",
        "Employees who had too many hours of work (250 or more) left the company\n",
        "Employees who left generally were underworked or overworked."
      ]
    },
    {
      "cell_type": "markdown",
      "metadata": {
        "id": "JBm6uA2-VTar"
      },
      "source": [
        "Turnover vs satisfaction"
      ]
    },
    {
      "cell_type": "code",
      "metadata": {
        "id": "nRr0alpbUKEs",
        "colab": {
          "base_uri": "https://localhost:8080/",
          "height": 313
        },
        "outputId": "f472c5f7-5317-48fc-f0ff-b4d0ceb0d3d6"
      },
      "source": [
        "fig = plt.figure(figsize=(15,4))\n",
        "ax=sns.kdeplot(df.loc[(df['turnover'] == 0),'satisfaction'] , color='b',shade=True, label='no turnover')\n",
        "ax=sns.kdeplot(df.loc[(df['turnover'] == 1),'satisfaction'] , color='r',shade=True, label='turnover')\n",
        "plt.title('Employee Satisfaction Distribution - Turnover V.S. No Turnover')"
      ],
      "execution_count": null,
      "outputs": [
        {
          "output_type": "execute_result",
          "data": {
            "text/plain": [
              "Text(0.5, 1.0, 'Employee Satisfaction Distribution - Turnover V.S. No Turnover')"
            ]
          },
          "metadata": {
            "tags": []
          },
          "execution_count": 54
        },
        {
          "output_type": "display_data",
          "data": {
            "image/png": "[encoded data removed]",
            "text/plain": [
              "<Figure size 1080x288 with 1 Axes>"
            ]
          },
          "metadata": {
            "tags": [],
            "needs_background": "light"
          }
        }
      ]
    },
    {
      "cell_type": "markdown",
      "metadata": {
        "id": "oGCyNO2I9dNZ"
      },
      "source": [
        "There is a tri-modal distribution for employees that turnovered\n",
        "Employees who had really low satisfaction levels (0.2 or less) left the company more\n",
        "Employees who had low satisfaction levels (0.3~0.5) left the company more\n",
        "Employees who had really high satisfaction levels (0.7 or more) left the company more"
      ]
    },
    {
      "cell_type": "markdown",
      "metadata": {
        "id": "kmq8ybbfXXGw"
      },
      "source": [
        "Turnover vs Years at company"
      ]
    },
    {
      "cell_type": "code",
      "metadata": {
        "id": "d90X1PqEVklG",
        "colab": {
          "base_uri": "https://localhost:8080/",
          "height": 296
        },
        "outputId": "65ee58f9-20ef-4564-8d04-8849e26c64ef"
      },
      "source": [
        "ax = sns.barplot(x=\"yearsAtCompany\", y=\"yearsAtCompany\", hue=\"turnover\", data=df, estimator=lambda x: len(x) / len(df) * 100)\n",
        "ax.set(ylabel=\"Percent\")"
      ],
      "execution_count": null,
      "outputs": [
        {
          "output_type": "execute_result",
          "data": {
            "text/plain": [
              "[Text(0, 0.5, 'Percent')]"
            ]
          },
          "metadata": {
            "tags": []
          },
          "execution_count": 55
        },
        {
          "output_type": "display_data",
          "data": {
            "image/png": "[encoded data removed]",
            "text/plain": [
              "<Figure size 432x288 with 1 Axes>"
            ]
          },
          "metadata": {
            "tags": [],
            "needs_background": "light"
          }
        }
      ]
    },
    {
      "cell_type": "markdown",
      "metadata": {
        "id": "2dV3HaQx9oCB"
      },
      "source": [
        "More than half of the employees with 4 and 5 years left the company\n",
        "Employees with 5 years should highly be looked into"
      ]
    },
    {
      "cell_type": "code",
      "metadata": {
        "id": "emsYqEBYvD5j",
        "colab": {
          "base_uri": "https://localhost:8080/",
          "height": 405
        },
        "outputId": "db46ce94-66a9-4485-a311-33b9eb8dc73e"
      },
      "source": [
        "# Import KMeans Model\n",
        "from sklearn.cluster import KMeans\n",
        "\n",
        "# Graph and create 3 clusters of Employee Turnover\n",
        "kmeans = KMeans(n_clusters=3,random_state=2)\n",
        "kmeans.fit(df[df.turnover==1][[\"satisfaction\",\"evaluation\"]])\n",
        "\n",
        "kmeans_colors = ['green' if c == 0 else 'blue' if c == 2 else 'red' for c in kmeans.labels_]\n",
        "\n",
        "fig = plt.figure(figsize=(10, 6))\n",
        "plt.scatter(x=\"satisfaction\",y=\"evaluation\", data=df[df.turnover==1],\n",
        "            alpha=0.25,color = kmeans_colors)\n",
        "plt.xlabel(\"Satisfaction\")\n",
        "plt.ylabel(\"Evaluation\")\n",
        "plt.scatter(x=kmeans.cluster_centers_[:,0],y=kmeans.cluster_centers_[:,1],color=\"black\",marker=\"X\",s=100)\n",
        "plt.title(\"Clusters of Employee Turnover\")\n",
        "plt.show()"
      ],
      "execution_count": null,
      "outputs": [
        {
          "output_type": "display_data",
          "data": {
            "image/png": "[encoded data removed]",
            "text/plain": [
              "<Figure size 720x432 with 1 Axes>"
            ]
          },
          "metadata": {
            "tags": [],
            "needs_background": "light"
          }
        }
      ]
    },
    {
      "cell_type": "markdown",
      "metadata": {
        "id": "L1OAw1u59vse"
      },
      "source": [
        "Cluster 1 (Blue): Hard-working and Sad Employees\n",
        "\n",
        "Cluster 2 (Red): Bad and Sad Employee\n",
        "\n",
        "Cluster 3 (Green): Hard-working and Happy Employee"
      ]
    },
    {
      "cell_type": "markdown",
      "metadata": {
        "id": "LZ0P9yzBaZNY"
      },
      "source": [
        "#Feature Importance"
      ]
    },
    {
      "cell_type": "markdown",
      "metadata": {
        "id": "OuYauVvx94Ee"
      },
      "source": [
        "By using a decision tree classifier, it could rank the features used for the prediction. The top three features were employee satisfaction, yearsAtCompany, and evaluation. This is helpful in creating our model for logistic regression because it’ll be more interpretable to understand what goes into our model when we utilize less features."
      ]
    },
    {
      "cell_type": "code",
      "metadata": {
        "id": "tCqBGeiZZ9mi",
        "colab": {
          "base_uri": "https://localhost:8080/",
          "height": 560
        },
        "outputId": "b3d7c5c2-09c8-4ea3-f0ca-9e9da334651f"
      },
      "source": [
        "from sklearn import tree\n",
        "from sklearn.tree import DecisionTreeClassifier\n",
        "from sklearn.model_selection import train_test_split\n",
        "plt.style.use('fivethirtyeight')\n",
        "plt.rcParams['figure.figsize'] = (12,6)\n",
        "\n",
        "# Renaming certain columns for better readability\n",
        "df = df.rename(columns={'satisfaction_level': 'satisfaction', \n",
        "                        'last_evaluation': 'evaluation',\n",
        "                        'number_project': 'projectCount',\n",
        "                        'average_montly_hours': 'averageMonthlyHours',\n",
        "                        'time_spend_company': 'yearsAtCompany',\n",
        "                        'Work_accident': 'workAccident',\n",
        "                        'promotion_last_5years': 'promotion',\n",
        "                        'sales' : 'department',\n",
        "                        'left' : 'turnover'\n",
        "                        })\n",
        "\n",
        "# Convert these variables into categorical variables\n",
        "df[\"department\"] = df[\"department\"].astype('category').cat.codes\n",
        "df[\"salary\"] = df[\"salary\"].astype('category').cat.codes\n",
        "\n",
        "# Create train and test splits\n",
        "target_name = 'turnover'\n",
        "X = df.drop('turnover', axis=1)\n",
        "y=df[target_name]\n",
        "\n",
        "X_train, X_test, y_train, y_test = train_test_split(X,y,test_size=0.15, random_state=123, stratify=y)\n",
        "\n",
        "dtree = tree.DecisionTreeClassifier(\n",
        "    #max_depth=3,\n",
        "    class_weight=\"balanced\",\n",
        "    min_weight_fraction_leaf=0.01\n",
        "    )\n",
        "dtree = dtree.fit(X_train,y_train)\n",
        "\n",
        "## plot the importances ##\n",
        "importances = dtree.feature_importances_\n",
        "feat_names = df.drop(['turnover'],axis=1).columns\n",
        "\n",
        "\n",
        "indices = np.argsort(importances)[::-1]\n",
        "plt.figure(figsize=(12,6))\n",
        "plt.title(\"Feature importances by DecisionTreeClassifier\")\n",
        "plt.bar(range(len(indices)), importances[indices], color='lightblue',  align=\"center\")\n",
        "plt.step(range(len(indices)), np.cumsum(importances[indices]), where='mid', label='Cumulative')\n",
        "plt.xticks(range(len(indices)), feat_names[indices], rotation='vertical',fontsize=14)\n",
        "plt.xlim([-1, len(indices)])\n",
        "plt.show()"
      ],
      "execution_count": null,
      "outputs": [
        {
          "output_type": "display_data",
          "data": {
            "image/png": "[encoded data removed]",
            "text/plain": [
              "<Figure size 864x432 with 1 Axes>"
            ]
          },
          "metadata": {
            "tags": []
          }
        }
      ]
    },
    {
      "cell_type": "markdown",
      "metadata": {
        "id": "CqpRIANI96Lv"
      },
      "source": [
        "Top 3 Features:\n",
        "\n",
        "Satisfaction\n",
        "YearsAtCompany\n",
        "Evaluation"
      ]
    },
    {
      "cell_type": "markdown",
      "metadata": {
        "id": "9eUMXYv1eKBJ"
      },
      "source": [
        "Using logistic regression for the model. "
      ]
    },
    {
      "cell_type": "code",
      "metadata": {
        "id": "Opo0m_k0a5zD",
        "colab": {
          "base_uri": "https://localhost:8080/",
          "height": 204
        },
        "outputId": "d1ee6319-1766-4f77-cb86-488040309cce"
      },
      "source": [
        "import pandas as pd\n",
        "import numpy as np\n",
        "import matplotlib.pyplot as plt\n",
        "import matplotlib as matplot\n",
        "import seaborn as sns\n",
        "%matplotlib inline\n",
        "#Read the analytics csv file and store our dataset into a dataframe called \"df\"\n",
        "from sklearn.linear_model import LogisticRegression\n",
        "from sklearn.preprocessing import LabelEncoder\n",
        "from sklearn.model_selection import train_test_split\n",
        "from sklearn.metrics import accuracy_score, classification_report, precision_score, recall_score, confusion_matrix, precision_recall_curve\n",
        "from sklearn.preprocessing import RobustScaler\n",
        "\n",
        "df[\"department\"] = df[\"department\"].astype('category').cat.codes\n",
        "df[\"salary\"] = df[\"salary\"].astype('category').cat.codes\n",
        "\n",
        "\n",
        "# Move the reponse variable \"turnover\" to the front of the table\n",
        "front = df['turnover']\n",
        "df.drop(labels=['turnover'], axis=1,inplace = True)\n",
        "df.insert(0, 'turnover', front)\n",
        "\n",
        "# Create an intercept term for the logistic regression equation\n",
        "df['int'] = 1\n",
        "indep_var = ['satisfaction', 'evaluation', 'yearsAtCompany', 'int', 'turnover']\n",
        "df = df[indep_var]\n",
        "\n",
        "# Create train and test splits\n",
        "target_name = 'turnover'\n",
        "X = df.drop('turnover', axis=1)\n",
        "\n",
        "y=df[target_name]\n",
        "X_train, X_test, y_train, y_test = train_test_split(X,y,test_size=0.15, random_state=123, stratify=y)\n",
        "\n",
        "X_train.head()\n"
      ],
      "execution_count": null,
      "outputs": [
        {
          "output_type": "execute_result",
          "data": {
            "text/html": [
              "<div>\n",
              "<style scoped>\n",
              "    .dataframe tbody tr th:only-of-type {\n",
              "        vertical-align: middle;\n",
              "    }\n",
              "\n",
              "    .dataframe tbody tr th {\n",
              "        vertical-align: top;\n",
              "    }\n",
              "\n",
              "    .dataframe thead th {\n",
              "        text-align: right;\n",
              "    }\n",
              "</style>\n",
              "<table border=\"1\" class=\"dataframe\">\n",
              "  <thead>\n",
              "    <tr style=\"text-align: right;\">\n",
              "      <th></th>\n",
              "      <th>satisfaction</th>\n",
              "      <th>evaluation</th>\n",
              "      <th>yearsAtCompany</th>\n",
              "      <th>int</th>\n",
              "    </tr>\n",
              "  </thead>\n",
              "  <tbody>\n",
              "    <tr>\n",
              "      <th>9003</th>\n",
              "      <td>0.59</td>\n",
              "      <td>1.00</td>\n",
              "      <td>3</td>\n",
              "      <td>1</td>\n",
              "    </tr>\n",
              "    <tr>\n",
              "      <th>5697</th>\n",
              "      <td>0.81</td>\n",
              "      <td>0.98</td>\n",
              "      <td>2</td>\n",
              "      <td>1</td>\n",
              "    </tr>\n",
              "    <tr>\n",
              "      <th>10691</th>\n",
              "      <td>1.00</td>\n",
              "      <td>0.93</td>\n",
              "      <td>2</td>\n",
              "      <td>1</td>\n",
              "    </tr>\n",
              "    <tr>\n",
              "      <th>1884</th>\n",
              "      <td>0.87</td>\n",
              "      <td>0.91</td>\n",
              "      <td>5</td>\n",
              "      <td>1</td>\n",
              "    </tr>\n",
              "    <tr>\n",
              "      <th>13572</th>\n",
              "      <td>0.87</td>\n",
              "      <td>0.48</td>\n",
              "      <td>3</td>\n",
              "      <td>1</td>\n",
              "    </tr>\n",
              "  </tbody>\n",
              "</table>\n",
              "</div>"
            ],
            "text/plain": [
              "       satisfaction  evaluation  yearsAtCompany  int\n",
              "9003           0.59        1.00               3    1\n",
              "5697           0.81        0.98               2    1\n",
              "10691          1.00        0.93               2    1\n",
              "1884           0.87        0.91               5    1\n",
              "13572          0.87        0.48               3    1"
            ]
          },
          "metadata": {
            "tags": []
          },
          "execution_count": 58
        }
      ]
    },
    {
      "cell_type": "markdown",
      "metadata": {
        "id": "JCJQH_hB-YHI"
      },
      "source": [
        "With the elimination of the other variables, I’ll be using the three most important features to create our model: Satisfaction, Evaluation, and YearsAtCompany."
      ]
    },
    {
      "cell_type": "code",
      "metadata": {
        "id": "rme3t74rejZs",
        "colab": {
          "base_uri": "https://localhost:8080/"
        },
        "outputId": "d20e42de-c34c-4ae8-ac87-48f65c1f28d1"
      },
      "source": [
        "import statsmodels.api as sm\n",
        "iv = ['satisfaction','evaluation','yearsAtCompany', 'int']\n",
        "logReg = sm.Logit(y_train, X_train[iv])\n",
        "answer = logReg.fit()\n",
        "\n",
        "answer.summary\n",
        "answer.params"
      ],
      "execution_count": null,
      "outputs": [
        {
          "output_type": "stream",
          "text": [
            "Optimization terminated successfully.\n",
            "         Current function value: 0.467233\n",
            "         Iterations 6\n"
          ],
          "name": "stdout"
        },
        {
          "output_type": "execute_result",
          "data": {
            "text/plain": [
              "satisfaction     -3.769022\n",
              "evaluation        0.207596\n",
              "yearsAtCompany    0.170145\n",
              "int               0.181896\n",
              "dtype: float64"
            ]
          },
          "metadata": {
            "tags": []
          },
          "execution_count": 59
        }
      ]
    },
    {
      "cell_type": "markdown",
      "metadata": {
        "id": "tTT4YK6M-dTZ"
      },
      "source": [
        "Following overall equation was developed:\n",
        "\n",
        "Employee Turnover Score = Satisfaction(-3.769022) + Evaluation(0.207596) + YearsAtCompany*(0.170145) + 0.181896\n",
        "Employee Turnover Score = Satisfaction(-3.769022) + Evaluation(0.207596) + YearsAtCompany*(0.170145) + 0.181896\n",
        "\n",
        "The values above are the coefficient assigned to each independent variable. The constant 0.181896 represents the effect of all uncontrollable variables."
      ]
    },
    {
      "cell_type": "code",
      "metadata": {
        "id": "cX8x1JRqovmn",
        "colab": {
          "base_uri": "https://localhost:8080/"
        },
        "outputId": "5be4f777-d8ad-4ae5-b032-116c2d541218"
      },
      "source": [
        "# Create function to compute coefficients\n",
        "coef = answer.params\n",
        "def y (coef, Satisfaction, Evaluation, YearsAtCompany) : \n",
        "    return coef[3] + coef[0]*Satisfaction + coef[1]*Evaluation + coef[2]*YearsAtCompany\n",
        "\n",
        "import numpy as np\n",
        "\n",
        "# An Employee with 0.7 Satisfaction and 0.8 Evaluation and worked 3 years has a 14% chance of turnover\n",
        "y1 = y(coef, 0.7, 0.8, 3)\n",
        "p = np.exp(y1) / (1+np.exp(y1))\n",
        "p"
      ],
      "execution_count": null,
      "outputs": [
        {
          "output_type": "execute_result",
          "data": {
            "text/plain": [
              "0.14431462559738242"
            ]
          },
          "metadata": {
            "tags": []
          },
          "execution_count": 60
        }
      ]
    },
    {
      "cell_type": "markdown",
      "metadata": {
        "id": "Gkpzm4cw-_8w"
      },
      "source": [
        "Employee Turnover Score = (0.7)(-3.769022) + (0.8)(0.207596) + (3)(0.170145) + 0.181896 = 0.14431 = 14%\n",
        "\n",
        "Result: This employee would have a 14% chance of leaving the company. This information can then be used to form our retention plan.\n",
        " with our example above, the employee with a 14% turnover score will be in the safe zone."
      ]
    },
    {
      "cell_type": "code",
      "metadata": {
        "id": "zVHge2a8o0aR",
        "colab": {
          "base_uri": "https://localhost:8080/"
        },
        "outputId": "2def5063-148e-4156-e036-537d365ace3b"
      },
      "source": [
        "# Check accuracy of Logistic Model\n",
        "from sklearn.linear_model import LogisticRegression\n",
        "model = LogisticRegression(penalty='l2', C=1)\n",
        "\n",
        "model.fit(X_train, y_train)\n",
        "print (\"Logistic accuracy is %2.2f\" % accuracy_score(y_test, model.predict(X_test)))"
      ],
      "execution_count": null,
      "outputs": [
        {
          "output_type": "stream",
          "text": [
            "Logistic accuracy is 0.77\n"
          ],
          "name": "stdout"
        }
      ]
    },
    {
      "cell_type": "code",
      "metadata": {
        "id": "sA3umkGstGAn",
        "colab": {
          "base_uri": "https://localhost:8080/"
        },
        "outputId": "bf765d3f-36f9-437d-914a-50c6e692271a"
      },
      "source": [
        "# Using 10 fold Cross-Validation to train our Logistic Regression Model\n",
        "from sklearn import model_selection\n",
        "from sklearn.linear_model import LogisticRegression\n",
        "kfold = model_selection.KFold(n_splits=10, random_state=7)\n",
        "modelCV = LogisticRegression(class_weight = \"balanced\")\n",
        "scoring = 'roc_auc'\n",
        "results = model_selection.cross_val_score(modelCV, X_train, y_train, cv=kfold, scoring=scoring)\n",
        "print(\"AUC: %.3f (%.3f)\" % (results.mean(), results.std()))"
      ],
      "execution_count": null,
      "outputs": [
        {
          "output_type": "stream",
          "text": [
            "/usr/local/lib/python3.6/dist-packages/sklearn/model_selection/_split.py:296: FutureWarning: Setting a random_state has no effect since shuffle is False. This will raise an error in 0.24. You should leave random_state to its default (None), or set shuffle=True.\n",
            "  FutureWarning\n"
          ],
          "name": "stderr"
        },
        {
          "output_type": "stream",
          "text": [
            "AUC: 0.793 (0.014)\n"
          ],
          "name": "stdout"
        }
      ]
    },
    {
      "cell_type": "code",
      "metadata": {
        "id": "pPwLHc-1tJpC",
        "colab": {
          "base_uri": "https://localhost:8080/"
        },
        "outputId": "77d7985d-8529-420a-b083-fa0b441212df"
      },
      "source": [
        "# Compare the Logistic Regression Model V.S. Decision Treee V.S. Random Forest Model\n",
        "from sklearn.metrics import roc_auc_score\n",
        "from sklearn.metrics import classification_report\n",
        "from sklearn.ensemble import RandomForestClassifier\n",
        "\n",
        "from sklearn import tree\n",
        "from sklearn.tree import DecisionTreeClassifier\n",
        "from sklearn.linear_model import LogisticRegression\n",
        "from sklearn.ensemble import GradientBoostingClassifier\n",
        "\n",
        "# NOTE: By adding in \"class_weight = balanced\", the Logistic Auc increased by about 10%! This adjusts the threshold value\n",
        "logis = LogisticRegression(class_weight = \"balanced\")\n",
        "logis.fit(X_train, y_train)\n",
        "print (\"\\n\\n ---Logistic Model---\")\n",
        "logit_roc_auc = roc_auc_score(y_test, logis.predict(X_test))\n",
        "print (\"Logistic AUC = %2.2f\" % logit_roc_auc)\n",
        "print(classification_report(y_test, logis.predict(X_test)))\n",
        "\n",
        "# Decision Tree Model\n",
        "dtree = tree.DecisionTreeClassifier(\n",
        "    #max_depth=3,\n",
        "    class_weight=\"balanced\",\n",
        "    min_weight_fraction_leaf=0.01\n",
        "    )\n",
        "dtree = dtree.fit(X_train,y_train)\n",
        "print (\"\\n\\n ---Decision Tree Model---\")\n",
        "dt_roc_auc = roc_auc_score(y_test, dtree.predict(X_test))\n",
        "print (\"Decision Tree AUC = %2.2f\" % dt_roc_auc)\n",
        "print(classification_report(y_test, dtree.predict(X_test)))\n",
        "\n",
        "# Random Forest Model\n",
        "rf = RandomForestClassifier(\n",
        "    n_estimators=1000, \n",
        "    max_depth=None, \n",
        "    min_samples_split=10, \n",
        "    class_weight=\"balanced\"\n",
        "    #min_weight_fraction_leaf=0.02 \n",
        "    )\n",
        "rf.fit(X_train, y_train)\n",
        "print (\"\\n\\n ---Random Forest Model---\")\n",
        "rf_roc_auc = roc_auc_score(y_test, rf.predict(X_test))\n",
        "print (\"Random Forest AUC = %2.2f\" % rf_roc_auc)\n",
        "print(classification_report(y_test, rf.predict(X_test)))\n"
      ],
      "execution_count": null,
      "outputs": [
        {
          "output_type": "stream",
          "text": [
            "\n",
            "\n",
            " ---Logistic Model---\n",
            "Logistic AUC = 0.74\n",
            "              precision    recall  f1-score   support\n",
            "\n",
            "           0       0.90      0.76      0.82      1714\n",
            "           1       0.48      0.73      0.58       536\n",
            "\n",
            "    accuracy                           0.75      2250\n",
            "   macro avg       0.69      0.74      0.70      2250\n",
            "weighted avg       0.80      0.75      0.76      2250\n",
            "\n",
            "\n",
            "\n",
            " ---Decision Tree Model---\n",
            "Decision Tree AUC = 0.94\n",
            "              precision    recall  f1-score   support\n",
            "\n",
            "           0       0.97      0.96      0.97      1714\n",
            "           1       0.87      0.91      0.89       536\n",
            "\n",
            "    accuracy                           0.95      2250\n",
            "   macro avg       0.92      0.94      0.93      2250\n",
            "weighted avg       0.95      0.95      0.95      2250\n",
            "\n",
            "\n",
            "\n",
            " ---Random Forest Model---\n",
            "Random Forest AUC = 0.97\n",
            "              precision    recall  f1-score   support\n",
            "\n",
            "           0       0.99      0.98      0.99      1714\n",
            "           1       0.95      0.96      0.95       536\n",
            "\n",
            "    accuracy                           0.98      2250\n",
            "   macro avg       0.97      0.97      0.97      2250\n",
            "weighted avg       0.98      0.98      0.98      2250\n",
            "\n"
          ],
          "name": "stdout"
        }
      ]
    },
    {
      "cell_type": "code",
      "metadata": {
        "id": "9yXEuaTjtv3X",
        "colab": {
          "base_uri": "https://localhost:8080/",
          "height": 296
        },
        "outputId": "320f0679-b873-4021-dab8-7b08b0af9666"
      },
      "source": [
        "# Create ROC Graph\n",
        "from sklearn.metrics import roc_curve\n",
        "fpr, tpr, thresholds = roc_curve(y_test, logis.predict_proba(X_test)[:,1])\n",
        "rf_fpr, rf_tpr, rf_thresholds = roc_curve(y_test, rf.predict_proba(X_test)[:,1])\n",
        "dt_fpr, dt_tpr, dt_thresholds = roc_curve(y_test, dtree.predict_proba(X_test)[:,1])\n",
        "\n",
        "plt.figure()\n",
        "\n",
        "# Plot Logistic Regression ROC\n",
        "plt.plot(fpr, tpr, label='Logistic Regression (area = %0.2f)' % logit_roc_auc)\n",
        "\n",
        "# Plot Random Forest ROC\n",
        "plt.plot(rf_fpr, rf_tpr, label='Random Forest (area = %0.2f)' % rf_roc_auc)\n",
        "\n",
        "# Plot Decision Tree ROC\n",
        "plt.plot(dt_fpr, dt_tpr, label='Decision Tree (area = %0.2f)' % dt_roc_auc)\n",
        "\n",
        "\n",
        "plt.xlim([0.0, 1.0])\n",
        "plt.ylim([0.0, 1.05])\n",
        "plt.xlabel('False Positive Rate')\n",
        "plt.ylabel('True Positive Rate')\n",
        "plt.title('ROC Graph')\n",
        "plt.legend(loc=\"lower right\")\n",
        "\n",
        "plt.show()\n"
      ],
      "execution_count": null,
      "outputs": [
        {
          "output_type": "display_data",
          "data": {
            "image/png": "[encoded data removed]",
            "text/plain": [
              "<Figure size 432x288 with 1 Axes>"
            ]
          },
          "metadata": {
            "tags": [],
            "needs_background": "light"
          }
        }
      ]
    },
    {
      "cell_type": "markdown",
      "metadata": {
        "id": "whMIOBZpAm4A"
      },
      "source": [
        "Conclusions drawn from this data\n",
        "1. Employees generally left when they are underworked (less than 150hr/month or 6hr/day)\n",
        "2. Employees generally left when they are overworked (more than 250hr/month or 10hr/day)\n",
        "3. Employees with either really high or low evaluations should be taken into consideration for high turnover rate\n",
        "4. Employees with low to medium salaries are the bulk of employee turnover\n",
        "5. Employees that had 2,6, or 7 project count was at risk of leaving the company\n",
        "6. Employee satisfaction is the highest indicator for employee turnover.\n",
        "7. Employee that had 4 and 5 yearsAtCompany should be taken into consideration for high turnover rate\n",
        "8. Employee satisfaction, yearsAtCompany, and evaluation were the three biggest factors in determining turnover."
      ]
    }
  ]
}