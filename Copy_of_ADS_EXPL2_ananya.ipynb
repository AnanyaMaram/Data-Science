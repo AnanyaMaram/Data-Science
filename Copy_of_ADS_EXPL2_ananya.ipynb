{
  "nbformat": 4,
  "nbformat_minor": 0,
  "metadata": {
    "colab": {
      "name": "Copy_of_ADS_EXPL2_ananya.ipynb",
      "provenance": [],
      "collapsed_sections": [],
      "include_colab_link": true
    },
    "kernelspec": {
      "name": "python3",
      "display_name": "Python 3"
    }
  },
  "cells": [
    {
      "cell_type": "markdown",
      "metadata": {
        "id": "view-in-github",
        "colab_type": "text"
      },
      "source": [
        "<a href=\"https://colab.research.google.com/github/AnanyaMaram/Data-Science/blob/master/Copy_of_ADS_EXPL2_ananya.ipynb\" target=\"_parent\"><img src=\"https://colab.research.google.com/assets/colab-badge.svg\" alt=\"Open In Colab\"/></a>"
      ]
    },
    {
      "cell_type": "code",
      "metadata": {
        "id": "WHFLFXUcZi3A"
      },
      "source": [
        "import pandas as pd\n",
        "import numpy as np\n",
        "import matplotlib.pyplot as plt\n",
        "%matplotlib inline"
      ],
      "execution_count": null,
      "outputs": []
    },
    {
      "cell_type": "markdown",
      "metadata": {
        "id": "u5wEW_LNZ9Bx"
      },
      "source": [
        "Reading the file into a dataframe"
      ]
    },
    {
      "cell_type": "code",
      "metadata": {
        "id": "db5fnwXra5oO",
        "outputId": "435e6d7d-c968-48e6-cbe0-83efd183f8af",
        "colab": {
          "base_uri": "https://localhost:8080/",
          "height": 1000
        }
      },
      "source": [
        "df=pd.read_csv('Federal_aviation_dataset.csv')\n",
        "print(df.shape)\n",
        "df"
      ],
      "execution_count": null,
      "outputs": [
        {
          "output_type": "stream",
          "text": [
            "(83, 42)\n"
          ],
          "name": "stdout"
        },
        {
          "output_type": "execute_result",
          "data": {
            "text/html": [
              "<div>\n",
              "<style scoped>\n",
              "    .dataframe tbody tr th:only-of-type {\n",
              "        vertical-align: middle;\n",
              "    }\n",
              "\n",
              "    .dataframe tbody tr th {\n",
              "        vertical-align: top;\n",
              "    }\n",
              "\n",
              "    .dataframe thead th {\n",
              "        text-align: right;\n",
              "    }\n",
              "</style>\n",
              "<table border=\"1\" class=\"dataframe\">\n",
              "  <thead>\n",
              "    <tr style=\"text-align: right;\">\n",
              "      <th></th>\n",
              "      <th>UPDATED</th>\n",
              "      <th>ENTRY_DATE</th>\n",
              "      <th>EVENT_DATE</th>\n",
              "      <th>EVENT_LCL_TIME</th>\n",
              "      <th>LOC_CITY_NAME</th>\n",
              "      <th>LOC_STATE_NAME</th>\n",
              "      <th>LOC_CNTRY_NAME</th>\n",
              "      <th>RMK_TEXT</th>\n",
              "      <th>EVENT_TYPE_DESC</th>\n",
              "      <th>Flight standard district</th>\n",
              "      <th>REGIST_NBR</th>\n",
              "      <th>FLT_NBR</th>\n",
              "      <th>Aircraft operator</th>\n",
              "      <th>ACFT_MAKE_NAME</th>\n",
              "      <th>ACFT_MODEL_NAME</th>\n",
              "      <th>ACFT_MISSING_FLAG</th>\n",
              "      <th>ACFT_Damage_desc</th>\n",
              "      <th>FLT_ACTIVITY</th>\n",
              "      <th>FLT_PHASE</th>\n",
              "      <th>FAR_PART</th>\n",
              "      <th>Max_Injuried_level</th>\n",
              "      <th>FATAL_FLAG</th>\n",
              "      <th>FLT_CREW_INJ_NONE</th>\n",
              "      <th>FLT_CRW_INJ_MINOR</th>\n",
              "      <th>FLT_CRW_INJ_SERIOUS</th>\n",
              "      <th>FLT_CRW_INJ_FATAL</th>\n",
              "      <th>FLT_CRW_INJ_UNK</th>\n",
              "      <th>CBN_CRW_INJ_NONE</th>\n",
              "      <th>CABIN_CRW_INJ_MINOR</th>\n",
              "      <th>CBN_CRW_INJ_SERIOUS</th>\n",
              "      <th>CBN_CRW_INJ_FATAL</th>\n",
              "      <th>CBN_CRW_INJ_UNK</th>\n",
              "      <th>PASSENGER_INJ_NONE</th>\n",
              "      <th>PAX_INJ_MINOR</th>\n",
              "      <th>PAX_INJ_SERIOUS</th>\n",
              "      <th>PAX_INJ_FATAL</th>\n",
              "      <th>PAX_INJ_UNK</th>\n",
              "      <th>GROUND_INJ_NONE</th>\n",
              "      <th>GRND_INJ_MINOR</th>\n",
              "      <th>GRND_INJ_SERIOUS</th>\n",
              "      <th>GRND_INJ_FATAL</th>\n",
              "      <th>GRND_INJ_UNK</th>\n",
              "    </tr>\n",
              "  </thead>\n",
              "  <tbody>\n",
              "    <tr>\n",
              "      <th>0</th>\n",
              "      <td>No</td>\n",
              "      <td>19-Feb-16</td>\n",
              "      <td>19-Feb-16</td>\n",
              "      <td>00:45:00Z</td>\n",
              "      <td>MARSHVILLE</td>\n",
              "      <td>North Carolina</td>\n",
              "      <td>NaN</td>\n",
              "      <td>AIRCRAFT CRASHED INTO TREES, THE 1 PERSON ON B...</td>\n",
              "      <td>Accident</td>\n",
              "      <td>FAA Charlotte FSDO-68</td>\n",
              "      <td>N61WB</td>\n",
              "      <td>NaN</td>\n",
              "      <td>NaN</td>\n",
              "      <td>BEECH</td>\n",
              "      <td>36</td>\n",
              "      <td>NaN</td>\n",
              "      <td>Unknown</td>\n",
              "      <td>NaN</td>\n",
              "      <td>UNKNOWN (UNK)</td>\n",
              "      <td>NaN</td>\n",
              "      <td>Fatal</td>\n",
              "      <td>Yes</td>\n",
              "      <td>NaN</td>\n",
              "      <td>NaN</td>\n",
              "      <td>NaN</td>\n",
              "      <td>1.0</td>\n",
              "      <td>NaN</td>\n",
              "      <td>NaN</td>\n",
              "      <td>NaN</td>\n",
              "      <td>NaN</td>\n",
              "      <td>NaN</td>\n",
              "      <td>NaN</td>\n",
              "      <td>NaN</td>\n",
              "      <td>NaN</td>\n",
              "      <td>NaN</td>\n",
              "      <td>NaN</td>\n",
              "      <td>NaN</td>\n",
              "      <td>NaN</td>\n",
              "      <td>NaN</td>\n",
              "      <td>NaN</td>\n",
              "      <td>NaN</td>\n",
              "      <td>NaN</td>\n",
              "    </tr>\n",
              "    <tr>\n",
              "      <th>1</th>\n",
              "      <td>No</td>\n",
              "      <td>19-Feb-16</td>\n",
              "      <td>18-Feb-16</td>\n",
              "      <td>23:55:00Z</td>\n",
              "      <td>TAVERNIER</td>\n",
              "      <td>Florida</td>\n",
              "      <td>NaN</td>\n",
              "      <td>AIRCRAFT ON LANDING WENT OFF THE END OF THE RU...</td>\n",
              "      <td>Incident</td>\n",
              "      <td>FAA Miami FSDO-19</td>\n",
              "      <td>N705RP</td>\n",
              "      <td>NaN</td>\n",
              "      <td>NaN</td>\n",
              "      <td>VANS</td>\n",
              "      <td>RV7</td>\n",
              "      <td>NaN</td>\n",
              "      <td>Unknown</td>\n",
              "      <td>NaN</td>\n",
              "      <td>LANDING (LDG)</td>\n",
              "      <td>NaN</td>\n",
              "      <td>None</td>\n",
              "      <td>NaN</td>\n",
              "      <td>1.0</td>\n",
              "      <td>NaN</td>\n",
              "      <td>NaN</td>\n",
              "      <td>NaN</td>\n",
              "      <td>NaN</td>\n",
              "      <td>NaN</td>\n",
              "      <td>NaN</td>\n",
              "      <td>NaN</td>\n",
              "      <td>NaN</td>\n",
              "      <td>NaN</td>\n",
              "      <td>NaN</td>\n",
              "      <td>NaN</td>\n",
              "      <td>NaN</td>\n",
              "      <td>NaN</td>\n",
              "      <td>NaN</td>\n",
              "      <td>NaN</td>\n",
              "      <td>NaN</td>\n",
              "      <td>NaN</td>\n",
              "      <td>NaN</td>\n",
              "      <td>NaN</td>\n",
              "    </tr>\n",
              "    <tr>\n",
              "      <th>2</th>\n",
              "      <td>No</td>\n",
              "      <td>19-Feb-16</td>\n",
              "      <td>18-Feb-16</td>\n",
              "      <td>22:14:00Z</td>\n",
              "      <td>TRENTON</td>\n",
              "      <td>New Jersey</td>\n",
              "      <td>NaN</td>\n",
              "      <td>AIRCRAFT ON FINAL SUSTAINED A BIRD STRIKE, LAN...</td>\n",
              "      <td>Incident</td>\n",
              "      <td>FAA Philadelphia FSDO-17</td>\n",
              "      <td>N9563A</td>\n",
              "      <td>NaN</td>\n",
              "      <td>NaN</td>\n",
              "      <td>CESSNA</td>\n",
              "      <td>172</td>\n",
              "      <td>NaN</td>\n",
              "      <td>Minor</td>\n",
              "      <td>NaN</td>\n",
              "      <td>APPROACH (APR)</td>\n",
              "      <td>NaN</td>\n",
              "      <td>None</td>\n",
              "      <td>NaN</td>\n",
              "      <td>1.0</td>\n",
              "      <td>NaN</td>\n",
              "      <td>NaN</td>\n",
              "      <td>NaN</td>\n",
              "      <td>NaN</td>\n",
              "      <td>NaN</td>\n",
              "      <td>NaN</td>\n",
              "      <td>NaN</td>\n",
              "      <td>NaN</td>\n",
              "      <td>NaN</td>\n",
              "      <td>NaN</td>\n",
              "      <td>NaN</td>\n",
              "      <td>NaN</td>\n",
              "      <td>NaN</td>\n",
              "      <td>NaN</td>\n",
              "      <td>NaN</td>\n",
              "      <td>NaN</td>\n",
              "      <td>NaN</td>\n",
              "      <td>NaN</td>\n",
              "      <td>NaN</td>\n",
              "    </tr>\n",
              "    <tr>\n",
              "      <th>3</th>\n",
              "      <td>No</td>\n",
              "      <td>19-Feb-16</td>\n",
              "      <td>18-Feb-16</td>\n",
              "      <td>17:10:00Z</td>\n",
              "      <td>ASHEVILLE</td>\n",
              "      <td>North Carolina</td>\n",
              "      <td>NaN</td>\n",
              "      <td>AIRCRAFT ON LANDING, GEAR COLLAPSED, ASHEVILLE...</td>\n",
              "      <td>Incident</td>\n",
              "      <td>FAA Charlotte FSDO-68</td>\n",
              "      <td>N10CF</td>\n",
              "      <td>NaN</td>\n",
              "      <td>NaN</td>\n",
              "      <td>LANCAIR</td>\n",
              "      <td>235</td>\n",
              "      <td>NaN</td>\n",
              "      <td>Unknown</td>\n",
              "      <td>NaN</td>\n",
              "      <td>LANDING (LDG)</td>\n",
              "      <td>NaN</td>\n",
              "      <td>None</td>\n",
              "      <td>NaN</td>\n",
              "      <td>1.0</td>\n",
              "      <td>NaN</td>\n",
              "      <td>NaN</td>\n",
              "      <td>NaN</td>\n",
              "      <td>NaN</td>\n",
              "      <td>NaN</td>\n",
              "      <td>NaN</td>\n",
              "      <td>NaN</td>\n",
              "      <td>NaN</td>\n",
              "      <td>NaN</td>\n",
              "      <td>NaN</td>\n",
              "      <td>NaN</td>\n",
              "      <td>NaN</td>\n",
              "      <td>NaN</td>\n",
              "      <td>NaN</td>\n",
              "      <td>NaN</td>\n",
              "      <td>NaN</td>\n",
              "      <td>NaN</td>\n",
              "      <td>NaN</td>\n",
              "      <td>NaN</td>\n",
              "    </tr>\n",
              "    <tr>\n",
              "      <th>4</th>\n",
              "      <td>No</td>\n",
              "      <td>19-Feb-16</td>\n",
              "      <td>18-Feb-16</td>\n",
              "      <td>00:26:00Z</td>\n",
              "      <td>TALKEETNA</td>\n",
              "      <td>Alaska</td>\n",
              "      <td>NaN</td>\n",
              "      <td>AIRCRAFT ON LANDING, NOSE GEAR COLLAPSED, TALK...</td>\n",
              "      <td>Incident</td>\n",
              "      <td>FAA Anchorage FSDO-03</td>\n",
              "      <td>N1530Y</td>\n",
              "      <td>NaN</td>\n",
              "      <td>NaN</td>\n",
              "      <td>CESSNA</td>\n",
              "      <td>172</td>\n",
              "      <td>NaN</td>\n",
              "      <td>Minor</td>\n",
              "      <td>NaN</td>\n",
              "      <td>LANDING (LDG)</td>\n",
              "      <td>NaN</td>\n",
              "      <td>Minor</td>\n",
              "      <td>NaN</td>\n",
              "      <td>1.0</td>\n",
              "      <td>NaN</td>\n",
              "      <td>NaN</td>\n",
              "      <td>NaN</td>\n",
              "      <td>NaN</td>\n",
              "      <td>NaN</td>\n",
              "      <td>NaN</td>\n",
              "      <td>NaN</td>\n",
              "      <td>NaN</td>\n",
              "      <td>NaN</td>\n",
              "      <td>NaN</td>\n",
              "      <td>1.0</td>\n",
              "      <td>NaN</td>\n",
              "      <td>NaN</td>\n",
              "      <td>NaN</td>\n",
              "      <td>NaN</td>\n",
              "      <td>NaN</td>\n",
              "      <td>NaN</td>\n",
              "      <td>NaN</td>\n",
              "      <td>NaN</td>\n",
              "    </tr>\n",
              "    <tr>\n",
              "      <th>...</th>\n",
              "      <td>...</td>\n",
              "      <td>...</td>\n",
              "      <td>...</td>\n",
              "      <td>...</td>\n",
              "      <td>...</td>\n",
              "      <td>...</td>\n",
              "      <td>...</td>\n",
              "      <td>...</td>\n",
              "      <td>...</td>\n",
              "      <td>...</td>\n",
              "      <td>...</td>\n",
              "      <td>...</td>\n",
              "      <td>...</td>\n",
              "      <td>...</td>\n",
              "      <td>...</td>\n",
              "      <td>...</td>\n",
              "      <td>...</td>\n",
              "      <td>...</td>\n",
              "      <td>...</td>\n",
              "      <td>...</td>\n",
              "      <td>...</td>\n",
              "      <td>...</td>\n",
              "      <td>...</td>\n",
              "      <td>...</td>\n",
              "      <td>...</td>\n",
              "      <td>...</td>\n",
              "      <td>...</td>\n",
              "      <td>...</td>\n",
              "      <td>...</td>\n",
              "      <td>...</td>\n",
              "      <td>...</td>\n",
              "      <td>...</td>\n",
              "      <td>...</td>\n",
              "      <td>...</td>\n",
              "      <td>...</td>\n",
              "      <td>...</td>\n",
              "      <td>...</td>\n",
              "      <td>...</td>\n",
              "      <td>...</td>\n",
              "      <td>...</td>\n",
              "      <td>...</td>\n",
              "      <td>...</td>\n",
              "    </tr>\n",
              "    <tr>\n",
              "      <th>78</th>\n",
              "      <td>No</td>\n",
              "      <td>08-Feb-16</td>\n",
              "      <td>31-Dec-15</td>\n",
              "      <td>17:00:00Z</td>\n",
              "      <td>SAN ANTONIO</td>\n",
              "      <td>Texas</td>\n",
              "      <td>NaN</td>\n",
              "      <td>AIRCRAFT ON LANDING, GROUND LOOPED, BULVERDE A...</td>\n",
              "      <td>Accident</td>\n",
              "      <td>FAA San Antonio FSDO-17</td>\n",
              "      <td>N47185</td>\n",
              "      <td>NaN</td>\n",
              "      <td>NaN</td>\n",
              "      <td>AERONCA</td>\n",
              "      <td>O58B</td>\n",
              "      <td>NaN</td>\n",
              "      <td>Substantial</td>\n",
              "      <td>NaN</td>\n",
              "      <td>LANDING (LDG)</td>\n",
              "      <td>NaN</td>\n",
              "      <td>None</td>\n",
              "      <td>NaN</td>\n",
              "      <td>1.0</td>\n",
              "      <td>NaN</td>\n",
              "      <td>NaN</td>\n",
              "      <td>NaN</td>\n",
              "      <td>NaN</td>\n",
              "      <td>NaN</td>\n",
              "      <td>NaN</td>\n",
              "      <td>NaN</td>\n",
              "      <td>NaN</td>\n",
              "      <td>NaN</td>\n",
              "      <td>NaN</td>\n",
              "      <td>NaN</td>\n",
              "      <td>NaN</td>\n",
              "      <td>NaN</td>\n",
              "      <td>NaN</td>\n",
              "      <td>NaN</td>\n",
              "      <td>NaN</td>\n",
              "      <td>NaN</td>\n",
              "      <td>NaN</td>\n",
              "      <td>NaN</td>\n",
              "    </tr>\n",
              "    <tr>\n",
              "      <th>79</th>\n",
              "      <td>No</td>\n",
              "      <td>08-Feb-16</td>\n",
              "      <td>05-Feb-16</td>\n",
              "      <td>11:17:00Z</td>\n",
              "      <td>MARICOPA</td>\n",
              "      <td>Arizona</td>\n",
              "      <td>NaN</td>\n",
              "      <td>AIRCRAFT CRASHED UNDER UNKNOWN CIRCUMSTANCES, ...</td>\n",
              "      <td>Accident</td>\n",
              "      <td>FAA Scottsdale FSDO-07</td>\n",
              "      <td>N551JP</td>\n",
              "      <td>NaN</td>\n",
              "      <td>NaN</td>\n",
              "      <td>NORTH AMERICAN</td>\n",
              "      <td>F51</td>\n",
              "      <td>NaN</td>\n",
              "      <td>Destroyed</td>\n",
              "      <td>NaN</td>\n",
              "      <td>UNKNOWN (UNK)</td>\n",
              "      <td>NaN</td>\n",
              "      <td>Fatal</td>\n",
              "      <td>Yes</td>\n",
              "      <td>NaN</td>\n",
              "      <td>NaN</td>\n",
              "      <td>NaN</td>\n",
              "      <td>2.0</td>\n",
              "      <td>NaN</td>\n",
              "      <td>NaN</td>\n",
              "      <td>NaN</td>\n",
              "      <td>NaN</td>\n",
              "      <td>NaN</td>\n",
              "      <td>NaN</td>\n",
              "      <td>NaN</td>\n",
              "      <td>NaN</td>\n",
              "      <td>NaN</td>\n",
              "      <td>NaN</td>\n",
              "      <td>NaN</td>\n",
              "      <td>NaN</td>\n",
              "      <td>NaN</td>\n",
              "      <td>NaN</td>\n",
              "      <td>NaN</td>\n",
              "      <td>NaN</td>\n",
              "    </tr>\n",
              "    <tr>\n",
              "      <th>80</th>\n",
              "      <td>No</td>\n",
              "      <td>08-Feb-16</td>\n",
              "      <td>05-Feb-16</td>\n",
              "      <td>23:02:00Z</td>\n",
              "      <td>SAN PEDRO</td>\n",
              "      <td>California</td>\n",
              "      <td>NaN</td>\n",
              "      <td>N9872R, BEECH M35 AIRCRAFT, AND N5057G, BELLAN...</td>\n",
              "      <td>Accident</td>\n",
              "      <td>FAA Long Beach FSDO-05</td>\n",
              "      <td>N5057G</td>\n",
              "      <td>NaN</td>\n",
              "      <td>NaN</td>\n",
              "      <td>CHAMPION</td>\n",
              "      <td>8KCAB</td>\n",
              "      <td>NaN</td>\n",
              "      <td>Destroyed</td>\n",
              "      <td>NaN</td>\n",
              "      <td>UNKNOWN (UNK)</td>\n",
              "      <td>NaN</td>\n",
              "      <td>Fatal</td>\n",
              "      <td>Yes</td>\n",
              "      <td>NaN</td>\n",
              "      <td>NaN</td>\n",
              "      <td>NaN</td>\n",
              "      <td>1.0</td>\n",
              "      <td>NaN</td>\n",
              "      <td>NaN</td>\n",
              "      <td>NaN</td>\n",
              "      <td>NaN</td>\n",
              "      <td>NaN</td>\n",
              "      <td>NaN</td>\n",
              "      <td>NaN</td>\n",
              "      <td>NaN</td>\n",
              "      <td>NaN</td>\n",
              "      <td>NaN</td>\n",
              "      <td>NaN</td>\n",
              "      <td>NaN</td>\n",
              "      <td>NaN</td>\n",
              "      <td>NaN</td>\n",
              "      <td>NaN</td>\n",
              "      <td>NaN</td>\n",
              "    </tr>\n",
              "    <tr>\n",
              "      <th>81</th>\n",
              "      <td>No</td>\n",
              "      <td>08-Feb-16</td>\n",
              "      <td>05-Feb-16</td>\n",
              "      <td>23:02:00Z</td>\n",
              "      <td>SAN PEDRO</td>\n",
              "      <td>California</td>\n",
              "      <td>NaN</td>\n",
              "      <td>N9872R, BEECH M35 AIRCRAFT, AND N5057G, BELLAN...</td>\n",
              "      <td>Accident</td>\n",
              "      <td>FAA Long Beach FSDO-05</td>\n",
              "      <td>N9872R</td>\n",
              "      <td>NaN</td>\n",
              "      <td>NaN</td>\n",
              "      <td>BEECH</td>\n",
              "      <td>35</td>\n",
              "      <td>NaN</td>\n",
              "      <td>Destroyed</td>\n",
              "      <td>NaN</td>\n",
              "      <td>UNKNOWN (UNK)</td>\n",
              "      <td>NaN</td>\n",
              "      <td>Fatal</td>\n",
              "      <td>Yes</td>\n",
              "      <td>NaN</td>\n",
              "      <td>NaN</td>\n",
              "      <td>NaN</td>\n",
              "      <td>2.0</td>\n",
              "      <td>NaN</td>\n",
              "      <td>NaN</td>\n",
              "      <td>NaN</td>\n",
              "      <td>NaN</td>\n",
              "      <td>NaN</td>\n",
              "      <td>NaN</td>\n",
              "      <td>NaN</td>\n",
              "      <td>NaN</td>\n",
              "      <td>NaN</td>\n",
              "      <td>NaN</td>\n",
              "      <td>NaN</td>\n",
              "      <td>NaN</td>\n",
              "      <td>NaN</td>\n",
              "      <td>NaN</td>\n",
              "      <td>NaN</td>\n",
              "      <td>NaN</td>\n",
              "    </tr>\n",
              "    <tr>\n",
              "      <th>82</th>\n",
              "      <td>Yes</td>\n",
              "      <td>02-Feb-16</td>\n",
              "      <td>02-Feb-16</td>\n",
              "      <td>01:52:00Z</td>\n",
              "      <td>MOBILE</td>\n",
              "      <td>Alabama</td>\n",
              "      <td>NaN</td>\n",
              "      <td>N784CP AIRCRAFT CRASHED INTO A WOODED AREA NEA...</td>\n",
              "      <td>Accident</td>\n",
              "      <td>FAA Birmingham FSDO-09</td>\n",
              "      <td>N784CP</td>\n",
              "      <td>NaN</td>\n",
              "      <td>NaN</td>\n",
              "      <td>CESSNA</td>\n",
              "      <td>182</td>\n",
              "      <td>NaN</td>\n",
              "      <td>Unknown</td>\n",
              "      <td>NaN</td>\n",
              "      <td>UNKNOWN (UNK)</td>\n",
              "      <td>NaN</td>\n",
              "      <td>Fatal</td>\n",
              "      <td>Yes</td>\n",
              "      <td>NaN</td>\n",
              "      <td>NaN</td>\n",
              "      <td>NaN</td>\n",
              "      <td>2.0</td>\n",
              "      <td>NaN</td>\n",
              "      <td>NaN</td>\n",
              "      <td>NaN</td>\n",
              "      <td>NaN</td>\n",
              "      <td>NaN</td>\n",
              "      <td>NaN</td>\n",
              "      <td>NaN</td>\n",
              "      <td>NaN</td>\n",
              "      <td>NaN</td>\n",
              "      <td>NaN</td>\n",
              "      <td>NaN</td>\n",
              "      <td>NaN</td>\n",
              "      <td>NaN</td>\n",
              "      <td>NaN</td>\n",
              "      <td>NaN</td>\n",
              "      <td>NaN</td>\n",
              "    </tr>\n",
              "  </tbody>\n",
              "</table>\n",
              "<p>83 rows × 42 columns</p>\n",
              "</div>"
            ],
            "text/plain": [
              "   UPDATED ENTRY_DATE  ... GRND_INJ_FATAL GRND_INJ_UNK\n",
              "0       No  19-Feb-16  ...            NaN          NaN\n",
              "1       No  19-Feb-16  ...            NaN          NaN\n",
              "2       No  19-Feb-16  ...            NaN          NaN\n",
              "3       No  19-Feb-16  ...            NaN          NaN\n",
              "4       No  19-Feb-16  ...            NaN          NaN\n",
              "..     ...        ...  ...            ...          ...\n",
              "78      No  08-Feb-16  ...            NaN          NaN\n",
              "79      No  08-Feb-16  ...            NaN          NaN\n",
              "80      No  08-Feb-16  ...            NaN          NaN\n",
              "81      No  08-Feb-16  ...            NaN          NaN\n",
              "82     Yes  02-Feb-16  ...            NaN          NaN\n",
              "\n",
              "[83 rows x 42 columns]"
            ]
          },
          "metadata": {
            "tags": []
          },
          "execution_count": 27
        }
      ]
    },
    {
      "cell_type": "markdown",
      "metadata": {
        "id": "W788Aca-bKhU"
      },
      "source": [
        "Now I would like to take the new data frame which only contains the injuries and deaths so that we can find the total deaths and injuries"
      ]
    },
    {
      "cell_type": "code",
      "metadata": {
        "id": "nC7E02Nba8Ie",
        "outputId": "2f506ecc-f02f-4193-ce4e-48acfd118f06",
        "colab": {
          "base_uri": "https://localhost:8080/",
          "height": 456
        }
      },
      "source": [
        "df3=df[df.columns[22:48]]\n",
        "aircraft_name=df['ACFT_MAKE_NAME']\n",
        "df3=df3.join(aircraft_name)\n",
        "df3"
      ],
      "execution_count": null,
      "outputs": [
        {
          "output_type": "execute_result",
          "data": {
            "text/html": [
              "<div>\n",
              "<style scoped>\n",
              "    .dataframe tbody tr th:only-of-type {\n",
              "        vertical-align: middle;\n",
              "    }\n",
              "\n",
              "    .dataframe tbody tr th {\n",
              "        vertical-align: top;\n",
              "    }\n",
              "\n",
              "    .dataframe thead th {\n",
              "        text-align: right;\n",
              "    }\n",
              "</style>\n",
              "<table border=\"1\" class=\"dataframe\">\n",
              "  <thead>\n",
              "    <tr style=\"text-align: right;\">\n",
              "      <th></th>\n",
              "      <th>FLT_CREW_INJ_NONE</th>\n",
              "      <th>FLT_CRW_INJ_MINOR</th>\n",
              "      <th>FLT_CRW_INJ_SERIOUS</th>\n",
              "      <th>FLT_CRW_INJ_FATAL</th>\n",
              "      <th>FLT_CRW_INJ_UNK</th>\n",
              "      <th>CBN_CRW_INJ_NONE</th>\n",
              "      <th>CABIN_CRW_INJ_MINOR</th>\n",
              "      <th>CBN_CRW_INJ_SERIOUS</th>\n",
              "      <th>CBN_CRW_INJ_FATAL</th>\n",
              "      <th>CBN_CRW_INJ_UNK</th>\n",
              "      <th>PASSENGER_INJ_NONE</th>\n",
              "      <th>PAX_INJ_MINOR</th>\n",
              "      <th>PAX_INJ_SERIOUS</th>\n",
              "      <th>PAX_INJ_FATAL</th>\n",
              "      <th>PAX_INJ_UNK</th>\n",
              "      <th>GROUND_INJ_NONE</th>\n",
              "      <th>GRND_INJ_MINOR</th>\n",
              "      <th>GRND_INJ_SERIOUS</th>\n",
              "      <th>GRND_INJ_FATAL</th>\n",
              "      <th>GRND_INJ_UNK</th>\n",
              "      <th>ACFT_MAKE_NAME</th>\n",
              "    </tr>\n",
              "  </thead>\n",
              "  <tbody>\n",
              "    <tr>\n",
              "      <th>0</th>\n",
              "      <td>NaN</td>\n",
              "      <td>NaN</td>\n",
              "      <td>NaN</td>\n",
              "      <td>1.0</td>\n",
              "      <td>NaN</td>\n",
              "      <td>NaN</td>\n",
              "      <td>NaN</td>\n",
              "      <td>NaN</td>\n",
              "      <td>NaN</td>\n",
              "      <td>NaN</td>\n",
              "      <td>NaN</td>\n",
              "      <td>NaN</td>\n",
              "      <td>NaN</td>\n",
              "      <td>NaN</td>\n",
              "      <td>NaN</td>\n",
              "      <td>NaN</td>\n",
              "      <td>NaN</td>\n",
              "      <td>NaN</td>\n",
              "      <td>NaN</td>\n",
              "      <td>NaN</td>\n",
              "      <td>BEECH</td>\n",
              "    </tr>\n",
              "    <tr>\n",
              "      <th>1</th>\n",
              "      <td>1.0</td>\n",
              "      <td>NaN</td>\n",
              "      <td>NaN</td>\n",
              "      <td>NaN</td>\n",
              "      <td>NaN</td>\n",
              "      <td>NaN</td>\n",
              "      <td>NaN</td>\n",
              "      <td>NaN</td>\n",
              "      <td>NaN</td>\n",
              "      <td>NaN</td>\n",
              "      <td>NaN</td>\n",
              "      <td>NaN</td>\n",
              "      <td>NaN</td>\n",
              "      <td>NaN</td>\n",
              "      <td>NaN</td>\n",
              "      <td>NaN</td>\n",
              "      <td>NaN</td>\n",
              "      <td>NaN</td>\n",
              "      <td>NaN</td>\n",
              "      <td>NaN</td>\n",
              "      <td>VANS</td>\n",
              "    </tr>\n",
              "    <tr>\n",
              "      <th>2</th>\n",
              "      <td>1.0</td>\n",
              "      <td>NaN</td>\n",
              "      <td>NaN</td>\n",
              "      <td>NaN</td>\n",
              "      <td>NaN</td>\n",
              "      <td>NaN</td>\n",
              "      <td>NaN</td>\n",
              "      <td>NaN</td>\n",
              "      <td>NaN</td>\n",
              "      <td>NaN</td>\n",
              "      <td>NaN</td>\n",
              "      <td>NaN</td>\n",
              "      <td>NaN</td>\n",
              "      <td>NaN</td>\n",
              "      <td>NaN</td>\n",
              "      <td>NaN</td>\n",
              "      <td>NaN</td>\n",
              "      <td>NaN</td>\n",
              "      <td>NaN</td>\n",
              "      <td>NaN</td>\n",
              "      <td>CESSNA</td>\n",
              "    </tr>\n",
              "    <tr>\n",
              "      <th>3</th>\n",
              "      <td>1.0</td>\n",
              "      <td>NaN</td>\n",
              "      <td>NaN</td>\n",
              "      <td>NaN</td>\n",
              "      <td>NaN</td>\n",
              "      <td>NaN</td>\n",
              "      <td>NaN</td>\n",
              "      <td>NaN</td>\n",
              "      <td>NaN</td>\n",
              "      <td>NaN</td>\n",
              "      <td>NaN</td>\n",
              "      <td>NaN</td>\n",
              "      <td>NaN</td>\n",
              "      <td>NaN</td>\n",
              "      <td>NaN</td>\n",
              "      <td>NaN</td>\n",
              "      <td>NaN</td>\n",
              "      <td>NaN</td>\n",
              "      <td>NaN</td>\n",
              "      <td>NaN</td>\n",
              "      <td>LANCAIR</td>\n",
              "    </tr>\n",
              "    <tr>\n",
              "      <th>4</th>\n",
              "      <td>1.0</td>\n",
              "      <td>NaN</td>\n",
              "      <td>NaN</td>\n",
              "      <td>NaN</td>\n",
              "      <td>NaN</td>\n",
              "      <td>NaN</td>\n",
              "      <td>NaN</td>\n",
              "      <td>NaN</td>\n",
              "      <td>NaN</td>\n",
              "      <td>NaN</td>\n",
              "      <td>NaN</td>\n",
              "      <td>1.0</td>\n",
              "      <td>NaN</td>\n",
              "      <td>NaN</td>\n",
              "      <td>NaN</td>\n",
              "      <td>NaN</td>\n",
              "      <td>NaN</td>\n",
              "      <td>NaN</td>\n",
              "      <td>NaN</td>\n",
              "      <td>NaN</td>\n",
              "      <td>CESSNA</td>\n",
              "    </tr>\n",
              "    <tr>\n",
              "      <th>...</th>\n",
              "      <td>...</td>\n",
              "      <td>...</td>\n",
              "      <td>...</td>\n",
              "      <td>...</td>\n",
              "      <td>...</td>\n",
              "      <td>...</td>\n",
              "      <td>...</td>\n",
              "      <td>...</td>\n",
              "      <td>...</td>\n",
              "      <td>...</td>\n",
              "      <td>...</td>\n",
              "      <td>...</td>\n",
              "      <td>...</td>\n",
              "      <td>...</td>\n",
              "      <td>...</td>\n",
              "      <td>...</td>\n",
              "      <td>...</td>\n",
              "      <td>...</td>\n",
              "      <td>...</td>\n",
              "      <td>...</td>\n",
              "      <td>...</td>\n",
              "    </tr>\n",
              "    <tr>\n",
              "      <th>78</th>\n",
              "      <td>1.0</td>\n",
              "      <td>NaN</td>\n",
              "      <td>NaN</td>\n",
              "      <td>NaN</td>\n",
              "      <td>NaN</td>\n",
              "      <td>NaN</td>\n",
              "      <td>NaN</td>\n",
              "      <td>NaN</td>\n",
              "      <td>NaN</td>\n",
              "      <td>NaN</td>\n",
              "      <td>NaN</td>\n",
              "      <td>NaN</td>\n",
              "      <td>NaN</td>\n",
              "      <td>NaN</td>\n",
              "      <td>NaN</td>\n",
              "      <td>NaN</td>\n",
              "      <td>NaN</td>\n",
              "      <td>NaN</td>\n",
              "      <td>NaN</td>\n",
              "      <td>NaN</td>\n",
              "      <td>AERONCA</td>\n",
              "    </tr>\n",
              "    <tr>\n",
              "      <th>79</th>\n",
              "      <td>NaN</td>\n",
              "      <td>NaN</td>\n",
              "      <td>NaN</td>\n",
              "      <td>2.0</td>\n",
              "      <td>NaN</td>\n",
              "      <td>NaN</td>\n",
              "      <td>NaN</td>\n",
              "      <td>NaN</td>\n",
              "      <td>NaN</td>\n",
              "      <td>NaN</td>\n",
              "      <td>NaN</td>\n",
              "      <td>NaN</td>\n",
              "      <td>NaN</td>\n",
              "      <td>NaN</td>\n",
              "      <td>NaN</td>\n",
              "      <td>NaN</td>\n",
              "      <td>NaN</td>\n",
              "      <td>NaN</td>\n",
              "      <td>NaN</td>\n",
              "      <td>NaN</td>\n",
              "      <td>NORTH AMERICAN</td>\n",
              "    </tr>\n",
              "    <tr>\n",
              "      <th>80</th>\n",
              "      <td>NaN</td>\n",
              "      <td>NaN</td>\n",
              "      <td>NaN</td>\n",
              "      <td>1.0</td>\n",
              "      <td>NaN</td>\n",
              "      <td>NaN</td>\n",
              "      <td>NaN</td>\n",
              "      <td>NaN</td>\n",
              "      <td>NaN</td>\n",
              "      <td>NaN</td>\n",
              "      <td>NaN</td>\n",
              "      <td>NaN</td>\n",
              "      <td>NaN</td>\n",
              "      <td>NaN</td>\n",
              "      <td>NaN</td>\n",
              "      <td>NaN</td>\n",
              "      <td>NaN</td>\n",
              "      <td>NaN</td>\n",
              "      <td>NaN</td>\n",
              "      <td>NaN</td>\n",
              "      <td>CHAMPION</td>\n",
              "    </tr>\n",
              "    <tr>\n",
              "      <th>81</th>\n",
              "      <td>NaN</td>\n",
              "      <td>NaN</td>\n",
              "      <td>NaN</td>\n",
              "      <td>2.0</td>\n",
              "      <td>NaN</td>\n",
              "      <td>NaN</td>\n",
              "      <td>NaN</td>\n",
              "      <td>NaN</td>\n",
              "      <td>NaN</td>\n",
              "      <td>NaN</td>\n",
              "      <td>NaN</td>\n",
              "      <td>NaN</td>\n",
              "      <td>NaN</td>\n",
              "      <td>NaN</td>\n",
              "      <td>NaN</td>\n",
              "      <td>NaN</td>\n",
              "      <td>NaN</td>\n",
              "      <td>NaN</td>\n",
              "      <td>NaN</td>\n",
              "      <td>NaN</td>\n",
              "      <td>BEECH</td>\n",
              "    </tr>\n",
              "    <tr>\n",
              "      <th>82</th>\n",
              "      <td>NaN</td>\n",
              "      <td>NaN</td>\n",
              "      <td>NaN</td>\n",
              "      <td>2.0</td>\n",
              "      <td>NaN</td>\n",
              "      <td>NaN</td>\n",
              "      <td>NaN</td>\n",
              "      <td>NaN</td>\n",
              "      <td>NaN</td>\n",
              "      <td>NaN</td>\n",
              "      <td>NaN</td>\n",
              "      <td>NaN</td>\n",
              "      <td>NaN</td>\n",
              "      <td>NaN</td>\n",
              "      <td>NaN</td>\n",
              "      <td>NaN</td>\n",
              "      <td>NaN</td>\n",
              "      <td>NaN</td>\n",
              "      <td>NaN</td>\n",
              "      <td>NaN</td>\n",
              "      <td>CESSNA</td>\n",
              "    </tr>\n",
              "  </tbody>\n",
              "</table>\n",
              "<p>83 rows × 21 columns</p>\n",
              "</div>"
            ],
            "text/plain": [
              "    FLT_CREW_INJ_NONE  FLT_CRW_INJ_MINOR  ...  GRND_INJ_UNK  ACFT_MAKE_NAME\n",
              "0                 NaN                NaN  ...           NaN           BEECH\n",
              "1                 1.0                NaN  ...           NaN            VANS\n",
              "2                 1.0                NaN  ...           NaN          CESSNA\n",
              "3                 1.0                NaN  ...           NaN         LANCAIR\n",
              "4                 1.0                NaN  ...           NaN          CESSNA\n",
              "..                ...                ...  ...           ...             ...\n",
              "78                1.0                NaN  ...           NaN         AERONCA\n",
              "79                NaN                NaN  ...           NaN  NORTH AMERICAN\n",
              "80                NaN                NaN  ...           NaN        CHAMPION\n",
              "81                NaN                NaN  ...           NaN           BEECH\n",
              "82                NaN                NaN  ...           NaN          CESSNA\n",
              "\n",
              "[83 rows x 21 columns]"
            ]
          },
          "metadata": {
            "tags": []
          },
          "execution_count": 28
        }
      ]
    },
    {
      "cell_type": "code",
      "metadata": {
        "id": "UJEWF7J-bRLK",
        "outputId": "1b3e38d8-a91a-43f8-d32e-ad0952a8c068",
        "colab": {
          "base_uri": "https://localhost:8080/",
          "height": 419
        }
      },
      "source": [
        "df3.fillna(0,inplace=True)\n",
        "df3['total_injuries']=df3['FLT_CREW_INJ_NONE'] + df3['FLT_CRW_INJ_MINOR'] +df3['FLT_CRW_INJ_SERIOUS']+ df3['FLT_CRW_INJ_UNK']+df3['GROUND_INJ_NONE'] +df3['GRND_INJ_UNK']+df3['GRND_INJ_MINOR']+df3['GRND_INJ_SERIOUS'] +df3['PAX_INJ_UNK']+ df3['PAX_INJ_MINOR']+ df3['PAX_INJ_SERIOUS']+df3['PASSENGER_INJ_NONE']\n",
        "df3['total_deaths']=df3['FLT_CRW_INJ_FATAL']+ df3['CBN_CRW_INJ_FATAL']+ df3['PAX_INJ_FATAL']+df3['GRND_INJ_FATAL']\n",
        "df3.drop(df3.iloc[:,0:20],inplace=True,axis=1)\n",
        "df3"
      ],
      "execution_count": null,
      "outputs": [
        {
          "output_type": "execute_result",
          "data": {
            "text/html": [
              "<div>\n",
              "<style scoped>\n",
              "    .dataframe tbody tr th:only-of-type {\n",
              "        vertical-align: middle;\n",
              "    }\n",
              "\n",
              "    .dataframe tbody tr th {\n",
              "        vertical-align: top;\n",
              "    }\n",
              "\n",
              "    .dataframe thead th {\n",
              "        text-align: right;\n",
              "    }\n",
              "</style>\n",
              "<table border=\"1\" class=\"dataframe\">\n",
              "  <thead>\n",
              "    <tr style=\"text-align: right;\">\n",
              "      <th></th>\n",
              "      <th>ACFT_MAKE_NAME</th>\n",
              "      <th>total_injuries</th>\n",
              "      <th>total_deaths</th>\n",
              "    </tr>\n",
              "  </thead>\n",
              "  <tbody>\n",
              "    <tr>\n",
              "      <th>0</th>\n",
              "      <td>BEECH</td>\n",
              "      <td>0.0</td>\n",
              "      <td>1.0</td>\n",
              "    </tr>\n",
              "    <tr>\n",
              "      <th>1</th>\n",
              "      <td>VANS</td>\n",
              "      <td>1.0</td>\n",
              "      <td>0.0</td>\n",
              "    </tr>\n",
              "    <tr>\n",
              "      <th>2</th>\n",
              "      <td>CESSNA</td>\n",
              "      <td>1.0</td>\n",
              "      <td>0.0</td>\n",
              "    </tr>\n",
              "    <tr>\n",
              "      <th>3</th>\n",
              "      <td>LANCAIR</td>\n",
              "      <td>1.0</td>\n",
              "      <td>0.0</td>\n",
              "    </tr>\n",
              "    <tr>\n",
              "      <th>4</th>\n",
              "      <td>CESSNA</td>\n",
              "      <td>2.0</td>\n",
              "      <td>0.0</td>\n",
              "    </tr>\n",
              "    <tr>\n",
              "      <th>...</th>\n",
              "      <td>...</td>\n",
              "      <td>...</td>\n",
              "      <td>...</td>\n",
              "    </tr>\n",
              "    <tr>\n",
              "      <th>78</th>\n",
              "      <td>AERONCA</td>\n",
              "      <td>1.0</td>\n",
              "      <td>0.0</td>\n",
              "    </tr>\n",
              "    <tr>\n",
              "      <th>79</th>\n",
              "      <td>NORTH AMERICAN</td>\n",
              "      <td>0.0</td>\n",
              "      <td>2.0</td>\n",
              "    </tr>\n",
              "    <tr>\n",
              "      <th>80</th>\n",
              "      <td>CHAMPION</td>\n",
              "      <td>0.0</td>\n",
              "      <td>1.0</td>\n",
              "    </tr>\n",
              "    <tr>\n",
              "      <th>81</th>\n",
              "      <td>BEECH</td>\n",
              "      <td>0.0</td>\n",
              "      <td>2.0</td>\n",
              "    </tr>\n",
              "    <tr>\n",
              "      <th>82</th>\n",
              "      <td>CESSNA</td>\n",
              "      <td>0.0</td>\n",
              "      <td>2.0</td>\n",
              "    </tr>\n",
              "  </tbody>\n",
              "</table>\n",
              "<p>83 rows × 3 columns</p>\n",
              "</div>"
            ],
            "text/plain": [
              "    ACFT_MAKE_NAME  total_injuries  total_deaths\n",
              "0            BEECH             0.0           1.0\n",
              "1             VANS             1.0           0.0\n",
              "2           CESSNA             1.0           0.0\n",
              "3          LANCAIR             1.0           0.0\n",
              "4           CESSNA             2.0           0.0\n",
              "..             ...             ...           ...\n",
              "78         AERONCA             1.0           0.0\n",
              "79  NORTH AMERICAN             0.0           2.0\n",
              "80        CHAMPION             0.0           1.0\n",
              "81           BEECH             0.0           2.0\n",
              "82          CESSNA             0.0           2.0\n",
              "\n",
              "[83 rows x 3 columns]"
            ]
          },
          "metadata": {
            "tags": []
          },
          "execution_count": 29
        }
      ]
    },
    {
      "cell_type": "code",
      "metadata": {
        "id": "w075WFj4bZ7g",
        "outputId": "ee12566d-2f2a-4ca7-e998-71ae47a21020",
        "colab": {
          "base_uri": "https://localhost:8080/"
        }
      },
      "source": [
        "eventtype=df[\"EVENT_TYPE_DESC\"]\n",
        "df3=df3.join(eventtype)\n",
        "df3.ACFT_MAKE_NAME.dtype"
      ],
      "execution_count": null,
      "outputs": [
        {
          "output_type": "execute_result",
          "data": {
            "text/plain": [
              "dtype('O')"
            ]
          },
          "metadata": {
            "tags": []
          },
          "execution_count": 30
        }
      ]
    },
    {
      "cell_type": "markdown",
      "metadata": {
        "id": "LDJH0kDUbxOf"
      },
      "source": [
        "Conversion of aircraft name into string"
      ]
    },
    {
      "cell_type": "code",
      "metadata": {
        "id": "iViFId9Xbx1-"
      },
      "source": [
        "convert_dic={}\n",
        "convert_dic={'ACFT_MAKE_NAME':str}\n",
        "df3 = df3.astype(convert_dic) "
      ],
      "execution_count": null,
      "outputs": []
    },
    {
      "cell_type": "markdown",
      "metadata": {
        "id": "agxW4SrJb8AZ"
      },
      "source": [
        "performing label encoding for aircraft name as it helps for the numerical representation of this categorical variable which helps us to perform logistic regression"
      ]
    },
    {
      "cell_type": "code",
      "metadata": {
        "id": "f4WzjLTUgitJ",
        "outputId": "13575b86-83c1-4b42-a7a2-376ad5fd833e",
        "colab": {
          "base_uri": "https://localhost:8080/"
        }
      },
      "source": [
        "print(df3[:])"
      ],
      "execution_count": null,
      "outputs": [
        {
          "output_type": "stream",
          "text": [
            "    ACFT_MAKE_NAME  total_injuries  total_deaths EVENT_TYPE_DESC\n",
            "0            BEECH             0.0           1.0        Accident\n",
            "1             VANS             1.0           0.0        Incident\n",
            "2           CESSNA             1.0           0.0        Incident\n",
            "3          LANCAIR             1.0           0.0        Incident\n",
            "4           CESSNA             2.0           0.0        Incident\n",
            "..             ...             ...           ...             ...\n",
            "78         AERONCA             1.0           0.0        Accident\n",
            "79  NORTH AMERICAN             0.0           2.0        Accident\n",
            "80        CHAMPION             0.0           1.0        Accident\n",
            "81           BEECH             0.0           2.0        Accident\n",
            "82          CESSNA             0.0           2.0        Accident\n",
            "\n",
            "[83 rows x 4 columns]\n"
          ],
          "name": "stdout"
        }
      ]
    },
    {
      "cell_type": "markdown",
      "metadata": {
        "id": "Mped8bB_IJID"
      },
      "source": [
        "Doing scatter plot for all the features vs the target variable to look which model can be sufficient to train the data"
      ]
    },
    {
      "cell_type": "code",
      "metadata": {
        "id": "xy_GMrN3sKai",
        "outputId": "3795759d-2b09-41e1-f7a9-63302e6335b0",
        "colab": {
          "base_uri": "https://localhost:8080/",
          "height": 282
        }
      },
      "source": [
        "plt.scatter(df3.ACFT_MAKE_NAME,df3.EVENT_TYPE_DESC)\n"
      ],
      "execution_count": null,
      "outputs": [
        {
          "output_type": "execute_result",
          "data": {
            "text/plain": [
              "<matplotlib.collections.PathCollection at 0x7f5503b91dd8>"
            ]
          },
          "metadata": {
            "tags": []
          },
          "execution_count": 33
        },
        {
          "output_type": "display_data",
          "data": {
            "image/png": "[encoded data removed]",
            "text/plain": [
              "<Figure size 432x288 with 1 Axes>"
            ]
          },
          "metadata": {
            "tags": [],
            "needs_background": "light"
          }
        }
      ]
    },
    {
      "cell_type": "code",
      "metadata": {
        "id": "dEC74DSGspqK",
        "outputId": "6fff75c2-e68a-46e1-d090-7f83f29e5c77",
        "colab": {
          "base_uri": "https://localhost:8080/",
          "height": 282
        }
      },
      "source": [
        "plt.scatter(df3.total_injuries,df3.EVENT_TYPE_DESC)"
      ],
      "execution_count": null,
      "outputs": [
        {
          "output_type": "execute_result",
          "data": {
            "text/plain": [
              "<matplotlib.collections.PathCollection at 0x7f5503aab0f0>"
            ]
          },
          "metadata": {
            "tags": []
          },
          "execution_count": 34
        },
        {
          "output_type": "display_data",
          "data": {
            "image/png": "[encoded data removed]",
            "text/plain": [
              "<Figure size 432x288 with 1 Axes>"
            ]
          },
          "metadata": {
            "tags": [],
            "needs_background": "light"
          }
        }
      ]
    },
    {
      "cell_type": "code",
      "metadata": {
        "id": "NgRouzmWsy8h",
        "outputId": "2b63bbc6-3a19-4414-da3a-b38e9406f5ac",
        "colab": {
          "base_uri": "https://localhost:8080/",
          "height": 282
        }
      },
      "source": [
        "plt.scatter(df3.total_deaths,df3.EVENT_TYPE_DESC)"
      ],
      "execution_count": null,
      "outputs": [
        {
          "output_type": "execute_result",
          "data": {
            "text/plain": [
              "<matplotlib.collections.PathCollection at 0x7f5503a77c88>"
            ]
          },
          "metadata": {
            "tags": []
          },
          "execution_count": 35
        },
        {
          "output_type": "display_data",
          "data": {
            "image/png": "[encoded data removed]",
            "text/plain": [
              "<Figure size 432x288 with 1 Axes>"
            ]
          },
          "metadata": {
            "tags": [],
            "needs_background": "light"
          }
        }
      ]
    },
    {
      "cell_type": "markdown",
      "metadata": {
        "id": "wq9sczoOKE-u"
      },
      "source": [
        "After looking at scatter plots it can be seen that logistic regression best fits to the data set. But let us see whether this is correct or not. "
      ]
    },
    {
      "cell_type": "markdown",
      "metadata": {
        "id": "_lmwkz0WA1Dx"
      },
      "source": [
        "Here we observe that the aircraft name feature is not numerical. In order to train the data using logistic regression or any other model it should be converted to numerical.So here I am creating dummy variables which will helpful for conversion of this feature into numerical"
      ]
    },
    {
      "cell_type": "code",
      "metadata": {
        "id": "ftmUkD2pb5JM",
        "outputId": "7a9bbdd3-c855-4a95-d6c7-6f0aa3829c3c",
        "colab": {
          "base_uri": "https://localhost:8080/",
          "height": 479
        }
      },
      "source": [
        "dummies=pd.get_dummies(df3.ACFT_MAKE_NAME)\n",
        "merged=pd.concat([df3,dummies],axis='columns')#combining the dummy variables into the original data frame\n",
        "print(merged)\n",
        "final=merged.drop(['ACFT_MAKE_NAME','AERONCA','0'],axis='columns')#dropping original feature which is not numerical\n",
        "final[0:5]"
      ],
      "execution_count": null,
      "outputs": [
        {
          "output_type": "stream",
          "text": [
            "    ACFT_MAKE_NAME  total_injuries  total_deaths  ... SABRELINER  SOCATA  VANS\n",
            "0            BEECH             0.0           1.0  ...          0       0     0\n",
            "1             VANS             1.0           0.0  ...          0       0     1\n",
            "2           CESSNA             1.0           0.0  ...          0       0     0\n",
            "3          LANCAIR             1.0           0.0  ...          0       0     0\n",
            "4           CESSNA             2.0           0.0  ...          0       0     0\n",
            "..             ...             ...           ...  ...        ...     ...   ...\n",
            "78         AERONCA             1.0           0.0  ...          0       0     0\n",
            "79  NORTH AMERICAN             0.0           2.0  ...          0       0     0\n",
            "80        CHAMPION             0.0           1.0  ...          0       0     0\n",
            "81           BEECH             0.0           2.0  ...          0       0     0\n",
            "82          CESSNA             0.0           2.0  ...          0       0     0\n",
            "\n",
            "[83 rows x 35 columns]\n"
          ],
          "name": "stdout"
        },
        {
          "output_type": "execute_result",
          "data": {
            "text/html": [
              "<div>\n",
              "<style scoped>\n",
              "    .dataframe tbody tr th:only-of-type {\n",
              "        vertical-align: middle;\n",
              "    }\n",
              "\n",
              "    .dataframe tbody tr th {\n",
              "        vertical-align: top;\n",
              "    }\n",
              "\n",
              "    .dataframe thead th {\n",
              "        text-align: right;\n",
              "    }\n",
              "</style>\n",
              "<table border=\"1\" class=\"dataframe\">\n",
              "  <thead>\n",
              "    <tr style=\"text-align: right;\">\n",
              "      <th></th>\n",
              "      <th>total_injuries</th>\n",
              "      <th>total_deaths</th>\n",
              "      <th>EVENT_TYPE_DESC</th>\n",
              "      <th>AERO COMMANDER</th>\n",
              "      <th>AEROSTAR INTERNATIONAL</th>\n",
              "      <th>AIRBUS</th>\n",
              "      <th>BEECH</th>\n",
              "      <th>BELL</th>\n",
              "      <th>BOEING</th>\n",
              "      <th>CESSNA</th>\n",
              "      <th>CHAMPION</th>\n",
              "      <th>CHRISTEN</th>\n",
              "      <th>CONSOLIDATED VULTEE</th>\n",
              "      <th>EMBRAER</th>\n",
              "      <th>ENSTROM</th>\n",
              "      <th>FAIRCHILD</th>\n",
              "      <th>FLIGHT DESIGN</th>\n",
              "      <th>GLOBE</th>\n",
              "      <th>GREAT LAKES</th>\n",
              "      <th>GRUMMAN</th>\n",
              "      <th>GULFSTREAM</th>\n",
              "      <th>HUGHES</th>\n",
              "      <th>LANCAIR</th>\n",
              "      <th>MAULE</th>\n",
              "      <th>MOONEY</th>\n",
              "      <th>NORTH AMERICAN</th>\n",
              "      <th>PIPER</th>\n",
              "      <th>PITTS</th>\n",
              "      <th>SAAB</th>\n",
              "      <th>SABRELINER</th>\n",
              "      <th>SOCATA</th>\n",
              "      <th>VANS</th>\n",
              "    </tr>\n",
              "  </thead>\n",
              "  <tbody>\n",
              "    <tr>\n",
              "      <th>0</th>\n",
              "      <td>0.0</td>\n",
              "      <td>1.0</td>\n",
              "      <td>Accident</td>\n",
              "      <td>0</td>\n",
              "      <td>0</td>\n",
              "      <td>0</td>\n",
              "      <td>1</td>\n",
              "      <td>0</td>\n",
              "      <td>0</td>\n",
              "      <td>0</td>\n",
              "      <td>0</td>\n",
              "      <td>0</td>\n",
              "      <td>0</td>\n",
              "      <td>0</td>\n",
              "      <td>0</td>\n",
              "      <td>0</td>\n",
              "      <td>0</td>\n",
              "      <td>0</td>\n",
              "      <td>0</td>\n",
              "      <td>0</td>\n",
              "      <td>0</td>\n",
              "      <td>0</td>\n",
              "      <td>0</td>\n",
              "      <td>0</td>\n",
              "      <td>0</td>\n",
              "      <td>0</td>\n",
              "      <td>0</td>\n",
              "      <td>0</td>\n",
              "      <td>0</td>\n",
              "      <td>0</td>\n",
              "      <td>0</td>\n",
              "      <td>0</td>\n",
              "    </tr>\n",
              "    <tr>\n",
              "      <th>1</th>\n",
              "      <td>1.0</td>\n",
              "      <td>0.0</td>\n",
              "      <td>Incident</td>\n",
              "      <td>0</td>\n",
              "      <td>0</td>\n",
              "      <td>0</td>\n",
              "      <td>0</td>\n",
              "      <td>0</td>\n",
              "      <td>0</td>\n",
              "      <td>0</td>\n",
              "      <td>0</td>\n",
              "      <td>0</td>\n",
              "      <td>0</td>\n",
              "      <td>0</td>\n",
              "      <td>0</td>\n",
              "      <td>0</td>\n",
              "      <td>0</td>\n",
              "      <td>0</td>\n",
              "      <td>0</td>\n",
              "      <td>0</td>\n",
              "      <td>0</td>\n",
              "      <td>0</td>\n",
              "      <td>0</td>\n",
              "      <td>0</td>\n",
              "      <td>0</td>\n",
              "      <td>0</td>\n",
              "      <td>0</td>\n",
              "      <td>0</td>\n",
              "      <td>0</td>\n",
              "      <td>0</td>\n",
              "      <td>0</td>\n",
              "      <td>1</td>\n",
              "    </tr>\n",
              "    <tr>\n",
              "      <th>2</th>\n",
              "      <td>1.0</td>\n",
              "      <td>0.0</td>\n",
              "      <td>Incident</td>\n",
              "      <td>0</td>\n",
              "      <td>0</td>\n",
              "      <td>0</td>\n",
              "      <td>0</td>\n",
              "      <td>0</td>\n",
              "      <td>0</td>\n",
              "      <td>1</td>\n",
              "      <td>0</td>\n",
              "      <td>0</td>\n",
              "      <td>0</td>\n",
              "      <td>0</td>\n",
              "      <td>0</td>\n",
              "      <td>0</td>\n",
              "      <td>0</td>\n",
              "      <td>0</td>\n",
              "      <td>0</td>\n",
              "      <td>0</td>\n",
              "      <td>0</td>\n",
              "      <td>0</td>\n",
              "      <td>0</td>\n",
              "      <td>0</td>\n",
              "      <td>0</td>\n",
              "      <td>0</td>\n",
              "      <td>0</td>\n",
              "      <td>0</td>\n",
              "      <td>0</td>\n",
              "      <td>0</td>\n",
              "      <td>0</td>\n",
              "      <td>0</td>\n",
              "    </tr>\n",
              "    <tr>\n",
              "      <th>3</th>\n",
              "      <td>1.0</td>\n",
              "      <td>0.0</td>\n",
              "      <td>Incident</td>\n",
              "      <td>0</td>\n",
              "      <td>0</td>\n",
              "      <td>0</td>\n",
              "      <td>0</td>\n",
              "      <td>0</td>\n",
              "      <td>0</td>\n",
              "      <td>0</td>\n",
              "      <td>0</td>\n",
              "      <td>0</td>\n",
              "      <td>0</td>\n",
              "      <td>0</td>\n",
              "      <td>0</td>\n",
              "      <td>0</td>\n",
              "      <td>0</td>\n",
              "      <td>0</td>\n",
              "      <td>0</td>\n",
              "      <td>0</td>\n",
              "      <td>0</td>\n",
              "      <td>0</td>\n",
              "      <td>1</td>\n",
              "      <td>0</td>\n",
              "      <td>0</td>\n",
              "      <td>0</td>\n",
              "      <td>0</td>\n",
              "      <td>0</td>\n",
              "      <td>0</td>\n",
              "      <td>0</td>\n",
              "      <td>0</td>\n",
              "      <td>0</td>\n",
              "    </tr>\n",
              "    <tr>\n",
              "      <th>4</th>\n",
              "      <td>2.0</td>\n",
              "      <td>0.0</td>\n",
              "      <td>Incident</td>\n",
              "      <td>0</td>\n",
              "      <td>0</td>\n",
              "      <td>0</td>\n",
              "      <td>0</td>\n",
              "      <td>0</td>\n",
              "      <td>0</td>\n",
              "      <td>1</td>\n",
              "      <td>0</td>\n",
              "      <td>0</td>\n",
              "      <td>0</td>\n",
              "      <td>0</td>\n",
              "      <td>0</td>\n",
              "      <td>0</td>\n",
              "      <td>0</td>\n",
              "      <td>0</td>\n",
              "      <td>0</td>\n",
              "      <td>0</td>\n",
              "      <td>0</td>\n",
              "      <td>0</td>\n",
              "      <td>0</td>\n",
              "      <td>0</td>\n",
              "      <td>0</td>\n",
              "      <td>0</td>\n",
              "      <td>0</td>\n",
              "      <td>0</td>\n",
              "      <td>0</td>\n",
              "      <td>0</td>\n",
              "      <td>0</td>\n",
              "      <td>0</td>\n",
              "    </tr>\n",
              "  </tbody>\n",
              "</table>\n",
              "</div>"
            ],
            "text/plain": [
              "   total_injuries  total_deaths EVENT_TYPE_DESC  ...  SABRELINER  SOCATA  VANS\n",
              "0             0.0           1.0        Accident  ...           0       0     0\n",
              "1             1.0           0.0        Incident  ...           0       0     1\n",
              "2             1.0           0.0        Incident  ...           0       0     0\n",
              "3             1.0           0.0        Incident  ...           0       0     0\n",
              "4             2.0           0.0        Incident  ...           0       0     0\n",
              "\n",
              "[5 rows x 32 columns]"
            ]
          },
          "metadata": {
            "tags": []
          },
          "execution_count": 36
        }
      ]
    },
    {
      "cell_type": "markdown",
      "metadata": {
        "id": "GivXgar2DkQ7"
      },
      "source": [
        "Converting event column which is target variable into 0's and 1's\n",
        "which helps in easy training"
      ]
    },
    {
      "cell_type": "code",
      "metadata": {
        "id": "Ms1nm9kZDc16",
        "outputId": "20059040-cf45-4fb1-8dab-fb68b3a35689",
        "colab": {
          "base_uri": "https://localhost:8080/",
          "height": 456
        }
      },
      "source": [
        "from sklearn.preprocessing import LabelEncoder\n",
        "le=LabelEncoder()\n",
        "final.EVENT_TYPE_DESC=le.fit_transform(final.EVENT_TYPE_DESC)\n",
        "dfle=final\n",
        "dfle"
      ],
      "execution_count": null,
      "outputs": [
        {
          "output_type": "execute_result",
          "data": {
            "text/html": [
              "<div>\n",
              "<style scoped>\n",
              "    .dataframe tbody tr th:only-of-type {\n",
              "        vertical-align: middle;\n",
              "    }\n",
              "\n",
              "    .dataframe tbody tr th {\n",
              "        vertical-align: top;\n",
              "    }\n",
              "\n",
              "    .dataframe thead th {\n",
              "        text-align: right;\n",
              "    }\n",
              "</style>\n",
              "<table border=\"1\" class=\"dataframe\">\n",
              "  <thead>\n",
              "    <tr style=\"text-align: right;\">\n",
              "      <th></th>\n",
              "      <th>total_injuries</th>\n",
              "      <th>total_deaths</th>\n",
              "      <th>EVENT_TYPE_DESC</th>\n",
              "      <th>AERO COMMANDER</th>\n",
              "      <th>AEROSTAR INTERNATIONAL</th>\n",
              "      <th>AIRBUS</th>\n",
              "      <th>BEECH</th>\n",
              "      <th>BELL</th>\n",
              "      <th>BOEING</th>\n",
              "      <th>CESSNA</th>\n",
              "      <th>CHAMPION</th>\n",
              "      <th>CHRISTEN</th>\n",
              "      <th>CONSOLIDATED VULTEE</th>\n",
              "      <th>EMBRAER</th>\n",
              "      <th>ENSTROM</th>\n",
              "      <th>FAIRCHILD</th>\n",
              "      <th>FLIGHT DESIGN</th>\n",
              "      <th>GLOBE</th>\n",
              "      <th>GREAT LAKES</th>\n",
              "      <th>GRUMMAN</th>\n",
              "      <th>GULFSTREAM</th>\n",
              "      <th>HUGHES</th>\n",
              "      <th>LANCAIR</th>\n",
              "      <th>MAULE</th>\n",
              "      <th>MOONEY</th>\n",
              "      <th>NORTH AMERICAN</th>\n",
              "      <th>PIPER</th>\n",
              "      <th>PITTS</th>\n",
              "      <th>SAAB</th>\n",
              "      <th>SABRELINER</th>\n",
              "      <th>SOCATA</th>\n",
              "      <th>VANS</th>\n",
              "    </tr>\n",
              "  </thead>\n",
              "  <tbody>\n",
              "    <tr>\n",
              "      <th>0</th>\n",
              "      <td>0.0</td>\n",
              "      <td>1.0</td>\n",
              "      <td>0</td>\n",
              "      <td>0</td>\n",
              "      <td>0</td>\n",
              "      <td>0</td>\n",
              "      <td>1</td>\n",
              "      <td>0</td>\n",
              "      <td>0</td>\n",
              "      <td>0</td>\n",
              "      <td>0</td>\n",
              "      <td>0</td>\n",
              "      <td>0</td>\n",
              "      <td>0</td>\n",
              "      <td>0</td>\n",
              "      <td>0</td>\n",
              "      <td>0</td>\n",
              "      <td>0</td>\n",
              "      <td>0</td>\n",
              "      <td>0</td>\n",
              "      <td>0</td>\n",
              "      <td>0</td>\n",
              "      <td>0</td>\n",
              "      <td>0</td>\n",
              "      <td>0</td>\n",
              "      <td>0</td>\n",
              "      <td>0</td>\n",
              "      <td>0</td>\n",
              "      <td>0</td>\n",
              "      <td>0</td>\n",
              "      <td>0</td>\n",
              "      <td>0</td>\n",
              "    </tr>\n",
              "    <tr>\n",
              "      <th>1</th>\n",
              "      <td>1.0</td>\n",
              "      <td>0.0</td>\n",
              "      <td>1</td>\n",
              "      <td>0</td>\n",
              "      <td>0</td>\n",
              "      <td>0</td>\n",
              "      <td>0</td>\n",
              "      <td>0</td>\n",
              "      <td>0</td>\n",
              "      <td>0</td>\n",
              "      <td>0</td>\n",
              "      <td>0</td>\n",
              "      <td>0</td>\n",
              "      <td>0</td>\n",
              "      <td>0</td>\n",
              "      <td>0</td>\n",
              "      <td>0</td>\n",
              "      <td>0</td>\n",
              "      <td>0</td>\n",
              "      <td>0</td>\n",
              "      <td>0</td>\n",
              "      <td>0</td>\n",
              "      <td>0</td>\n",
              "      <td>0</td>\n",
              "      <td>0</td>\n",
              "      <td>0</td>\n",
              "      <td>0</td>\n",
              "      <td>0</td>\n",
              "      <td>0</td>\n",
              "      <td>0</td>\n",
              "      <td>0</td>\n",
              "      <td>1</td>\n",
              "    </tr>\n",
              "    <tr>\n",
              "      <th>2</th>\n",
              "      <td>1.0</td>\n",
              "      <td>0.0</td>\n",
              "      <td>1</td>\n",
              "      <td>0</td>\n",
              "      <td>0</td>\n",
              "      <td>0</td>\n",
              "      <td>0</td>\n",
              "      <td>0</td>\n",
              "      <td>0</td>\n",
              "      <td>1</td>\n",
              "      <td>0</td>\n",
              "      <td>0</td>\n",
              "      <td>0</td>\n",
              "      <td>0</td>\n",
              "      <td>0</td>\n",
              "      <td>0</td>\n",
              "      <td>0</td>\n",
              "      <td>0</td>\n",
              "      <td>0</td>\n",
              "      <td>0</td>\n",
              "      <td>0</td>\n",
              "      <td>0</td>\n",
              "      <td>0</td>\n",
              "      <td>0</td>\n",
              "      <td>0</td>\n",
              "      <td>0</td>\n",
              "      <td>0</td>\n",
              "      <td>0</td>\n",
              "      <td>0</td>\n",
              "      <td>0</td>\n",
              "      <td>0</td>\n",
              "      <td>0</td>\n",
              "    </tr>\n",
              "    <tr>\n",
              "      <th>3</th>\n",
              "      <td>1.0</td>\n",
              "      <td>0.0</td>\n",
              "      <td>1</td>\n",
              "      <td>0</td>\n",
              "      <td>0</td>\n",
              "      <td>0</td>\n",
              "      <td>0</td>\n",
              "      <td>0</td>\n",
              "      <td>0</td>\n",
              "      <td>0</td>\n",
              "      <td>0</td>\n",
              "      <td>0</td>\n",
              "      <td>0</td>\n",
              "      <td>0</td>\n",
              "      <td>0</td>\n",
              "      <td>0</td>\n",
              "      <td>0</td>\n",
              "      <td>0</td>\n",
              "      <td>0</td>\n",
              "      <td>0</td>\n",
              "      <td>0</td>\n",
              "      <td>0</td>\n",
              "      <td>1</td>\n",
              "      <td>0</td>\n",
              "      <td>0</td>\n",
              "      <td>0</td>\n",
              "      <td>0</td>\n",
              "      <td>0</td>\n",
              "      <td>0</td>\n",
              "      <td>0</td>\n",
              "      <td>0</td>\n",
              "      <td>0</td>\n",
              "    </tr>\n",
              "    <tr>\n",
              "      <th>4</th>\n",
              "      <td>2.0</td>\n",
              "      <td>0.0</td>\n",
              "      <td>1</td>\n",
              "      <td>0</td>\n",
              "      <td>0</td>\n",
              "      <td>0</td>\n",
              "      <td>0</td>\n",
              "      <td>0</td>\n",
              "      <td>0</td>\n",
              "      <td>1</td>\n",
              "      <td>0</td>\n",
              "      <td>0</td>\n",
              "      <td>0</td>\n",
              "      <td>0</td>\n",
              "      <td>0</td>\n",
              "      <td>0</td>\n",
              "      <td>0</td>\n",
              "      <td>0</td>\n",
              "      <td>0</td>\n",
              "      <td>0</td>\n",
              "      <td>0</td>\n",
              "      <td>0</td>\n",
              "      <td>0</td>\n",
              "      <td>0</td>\n",
              "      <td>0</td>\n",
              "      <td>0</td>\n",
              "      <td>0</td>\n",
              "      <td>0</td>\n",
              "      <td>0</td>\n",
              "      <td>0</td>\n",
              "      <td>0</td>\n",
              "      <td>0</td>\n",
              "    </tr>\n",
              "    <tr>\n",
              "      <th>...</th>\n",
              "      <td>...</td>\n",
              "      <td>...</td>\n",
              "      <td>...</td>\n",
              "      <td>...</td>\n",
              "      <td>...</td>\n",
              "      <td>...</td>\n",
              "      <td>...</td>\n",
              "      <td>...</td>\n",
              "      <td>...</td>\n",
              "      <td>...</td>\n",
              "      <td>...</td>\n",
              "      <td>...</td>\n",
              "      <td>...</td>\n",
              "      <td>...</td>\n",
              "      <td>...</td>\n",
              "      <td>...</td>\n",
              "      <td>...</td>\n",
              "      <td>...</td>\n",
              "      <td>...</td>\n",
              "      <td>...</td>\n",
              "      <td>...</td>\n",
              "      <td>...</td>\n",
              "      <td>...</td>\n",
              "      <td>...</td>\n",
              "      <td>...</td>\n",
              "      <td>...</td>\n",
              "      <td>...</td>\n",
              "      <td>...</td>\n",
              "      <td>...</td>\n",
              "      <td>...</td>\n",
              "      <td>...</td>\n",
              "      <td>...</td>\n",
              "    </tr>\n",
              "    <tr>\n",
              "      <th>78</th>\n",
              "      <td>1.0</td>\n",
              "      <td>0.0</td>\n",
              "      <td>0</td>\n",
              "      <td>0</td>\n",
              "      <td>0</td>\n",
              "      <td>0</td>\n",
              "      <td>0</td>\n",
              "      <td>0</td>\n",
              "      <td>0</td>\n",
              "      <td>0</td>\n",
              "      <td>0</td>\n",
              "      <td>0</td>\n",
              "      <td>0</td>\n",
              "      <td>0</td>\n",
              "      <td>0</td>\n",
              "      <td>0</td>\n",
              "      <td>0</td>\n",
              "      <td>0</td>\n",
              "      <td>0</td>\n",
              "      <td>0</td>\n",
              "      <td>0</td>\n",
              "      <td>0</td>\n",
              "      <td>0</td>\n",
              "      <td>0</td>\n",
              "      <td>0</td>\n",
              "      <td>0</td>\n",
              "      <td>0</td>\n",
              "      <td>0</td>\n",
              "      <td>0</td>\n",
              "      <td>0</td>\n",
              "      <td>0</td>\n",
              "      <td>0</td>\n",
              "    </tr>\n",
              "    <tr>\n",
              "      <th>79</th>\n",
              "      <td>0.0</td>\n",
              "      <td>2.0</td>\n",
              "      <td>0</td>\n",
              "      <td>0</td>\n",
              "      <td>0</td>\n",
              "      <td>0</td>\n",
              "      <td>0</td>\n",
              "      <td>0</td>\n",
              "      <td>0</td>\n",
              "      <td>0</td>\n",
              "      <td>0</td>\n",
              "      <td>0</td>\n",
              "      <td>0</td>\n",
              "      <td>0</td>\n",
              "      <td>0</td>\n",
              "      <td>0</td>\n",
              "      <td>0</td>\n",
              "      <td>0</td>\n",
              "      <td>0</td>\n",
              "      <td>0</td>\n",
              "      <td>0</td>\n",
              "      <td>0</td>\n",
              "      <td>0</td>\n",
              "      <td>0</td>\n",
              "      <td>0</td>\n",
              "      <td>1</td>\n",
              "      <td>0</td>\n",
              "      <td>0</td>\n",
              "      <td>0</td>\n",
              "      <td>0</td>\n",
              "      <td>0</td>\n",
              "      <td>0</td>\n",
              "    </tr>\n",
              "    <tr>\n",
              "      <th>80</th>\n",
              "      <td>0.0</td>\n",
              "      <td>1.0</td>\n",
              "      <td>0</td>\n",
              "      <td>0</td>\n",
              "      <td>0</td>\n",
              "      <td>0</td>\n",
              "      <td>0</td>\n",
              "      <td>0</td>\n",
              "      <td>0</td>\n",
              "      <td>0</td>\n",
              "      <td>1</td>\n",
              "      <td>0</td>\n",
              "      <td>0</td>\n",
              "      <td>0</td>\n",
              "      <td>0</td>\n",
              "      <td>0</td>\n",
              "      <td>0</td>\n",
              "      <td>0</td>\n",
              "      <td>0</td>\n",
              "      <td>0</td>\n",
              "      <td>0</td>\n",
              "      <td>0</td>\n",
              "      <td>0</td>\n",
              "      <td>0</td>\n",
              "      <td>0</td>\n",
              "      <td>0</td>\n",
              "      <td>0</td>\n",
              "      <td>0</td>\n",
              "      <td>0</td>\n",
              "      <td>0</td>\n",
              "      <td>0</td>\n",
              "      <td>0</td>\n",
              "    </tr>\n",
              "    <tr>\n",
              "      <th>81</th>\n",
              "      <td>0.0</td>\n",
              "      <td>2.0</td>\n",
              "      <td>0</td>\n",
              "      <td>0</td>\n",
              "      <td>0</td>\n",
              "      <td>0</td>\n",
              "      <td>1</td>\n",
              "      <td>0</td>\n",
              "      <td>0</td>\n",
              "      <td>0</td>\n",
              "      <td>0</td>\n",
              "      <td>0</td>\n",
              "      <td>0</td>\n",
              "      <td>0</td>\n",
              "      <td>0</td>\n",
              "      <td>0</td>\n",
              "      <td>0</td>\n",
              "      <td>0</td>\n",
              "      <td>0</td>\n",
              "      <td>0</td>\n",
              "      <td>0</td>\n",
              "      <td>0</td>\n",
              "      <td>0</td>\n",
              "      <td>0</td>\n",
              "      <td>0</td>\n",
              "      <td>0</td>\n",
              "      <td>0</td>\n",
              "      <td>0</td>\n",
              "      <td>0</td>\n",
              "      <td>0</td>\n",
              "      <td>0</td>\n",
              "      <td>0</td>\n",
              "    </tr>\n",
              "    <tr>\n",
              "      <th>82</th>\n",
              "      <td>0.0</td>\n",
              "      <td>2.0</td>\n",
              "      <td>0</td>\n",
              "      <td>0</td>\n",
              "      <td>0</td>\n",
              "      <td>0</td>\n",
              "      <td>0</td>\n",
              "      <td>0</td>\n",
              "      <td>0</td>\n",
              "      <td>1</td>\n",
              "      <td>0</td>\n",
              "      <td>0</td>\n",
              "      <td>0</td>\n",
              "      <td>0</td>\n",
              "      <td>0</td>\n",
              "      <td>0</td>\n",
              "      <td>0</td>\n",
              "      <td>0</td>\n",
              "      <td>0</td>\n",
              "      <td>0</td>\n",
              "      <td>0</td>\n",
              "      <td>0</td>\n",
              "      <td>0</td>\n",
              "      <td>0</td>\n",
              "      <td>0</td>\n",
              "      <td>0</td>\n",
              "      <td>0</td>\n",
              "      <td>0</td>\n",
              "      <td>0</td>\n",
              "      <td>0</td>\n",
              "      <td>0</td>\n",
              "      <td>0</td>\n",
              "    </tr>\n",
              "  </tbody>\n",
              "</table>\n",
              "<p>83 rows × 32 columns</p>\n",
              "</div>"
            ],
            "text/plain": [
              "    total_injuries  total_deaths  EVENT_TYPE_DESC  ...  SABRELINER  SOCATA  VANS\n",
              "0              0.0           1.0                0  ...           0       0     0\n",
              "1              1.0           0.0                1  ...           0       0     1\n",
              "2              1.0           0.0                1  ...           0       0     0\n",
              "3              1.0           0.0                1  ...           0       0     0\n",
              "4              2.0           0.0                1  ...           0       0     0\n",
              "..             ...           ...              ...  ...         ...     ...   ...\n",
              "78             1.0           0.0                0  ...           0       0     0\n",
              "79             0.0           2.0                0  ...           0       0     0\n",
              "80             0.0           1.0                0  ...           0       0     0\n",
              "81             0.0           2.0                0  ...           0       0     0\n",
              "82             0.0           2.0                0  ...           0       0     0\n",
              "\n",
              "[83 rows x 32 columns]"
            ]
          },
          "metadata": {
            "tags": []
          },
          "execution_count": 37
        }
      ]
    },
    {
      "cell_type": "markdown",
      "metadata": {
        "id": "UkoaJ1vSrER8"
      },
      "source": [
        "Creating X and y dataframes which are target and feature variables respectively."
      ]
    },
    {
      "cell_type": "code",
      "metadata": {
        "id": "JsVi855K7AWB",
        "outputId": "8b5aebc1-c234-4e5d-b074-d5f2949b0160",
        "colab": {
          "base_uri": "https://localhost:8080/"
        }
      },
      "source": [
        "X=dfle.drop('EVENT_TYPE_DESC',axis='columns')\n",
        "y=dfle.EVENT_TYPE_DESC\n",
        "print(X,y)"
      ],
      "execution_count": null,
      "outputs": [
        {
          "output_type": "stream",
          "text": [
            "    total_injuries  total_deaths  AERO COMMANDER  ...  SABRELINER  SOCATA  VANS\n",
            "0              0.0           1.0               0  ...           0       0     0\n",
            "1              1.0           0.0               0  ...           0       0     1\n",
            "2              1.0           0.0               0  ...           0       0     0\n",
            "3              1.0           0.0               0  ...           0       0     0\n",
            "4              2.0           0.0               0  ...           0       0     0\n",
            "..             ...           ...             ...  ...         ...     ...   ...\n",
            "78             1.0           0.0               0  ...           0       0     0\n",
            "79             0.0           2.0               0  ...           0       0     0\n",
            "80             0.0           1.0               0  ...           0       0     0\n",
            "81             0.0           2.0               0  ...           0       0     0\n",
            "82             0.0           2.0               0  ...           0       0     0\n",
            "\n",
            "[83 rows x 31 columns] 0     0\n",
            "1     1\n",
            "2     1\n",
            "3     1\n",
            "4     1\n",
            "     ..\n",
            "78    0\n",
            "79    0\n",
            "80    0\n",
            "81    0\n",
            "82    0\n",
            "Name: EVENT_TYPE_DESC, Length: 83, dtype: int64\n"
          ],
          "name": "stdout"
        }
      ]
    },
    {
      "cell_type": "markdown",
      "metadata": {
        "id": "5_XEB3K1ECBa"
      },
      "source": [
        "\n",
        "splitting the data into training and testing data and impelmenting logistic regression"
      ]
    },
    {
      "cell_type": "code",
      "metadata": {
        "id": "mB2s1Lggq_Zy",
        "outputId": "280b296f-2404-4a24-ba9d-354447e02cae",
        "colab": {
          "base_uri": "https://localhost:8080/"
        }
      },
      "source": [
        "from sklearn.model_selection import train_test_split\n",
        "X_train,X_test,y_train,y_test=train_test_split(X,y,test_size=0.2,random_state=2)\n",
        "from sklearn.linear_model import LogisticRegression\n",
        "reg=LogisticRegression()\n",
        "reg.fit(X_train,y_train)\n",
        "y_predicted=reg.predict(X_test)\n",
        "print(y_predicted)\n",
        "(reg.score(X_test,y_test))"
      ],
      "execution_count": null,
      "outputs": [
        {
          "output_type": "stream",
          "text": [
            "[1 0 1 1 1 1 0 1 1 1 1 1 1 1 1 1 1]\n"
          ],
          "name": "stdout"
        },
        {
          "output_type": "execute_result",
          "data": {
            "text/plain": [
              "0.8823529411764706"
            ]
          },
          "metadata": {
            "tags": []
          },
          "execution_count": 39
        }
      ]
    },
    {
      "cell_type": "markdown",
      "metadata": {
        "id": "1PwAzQ86EE4Q"
      },
      "source": [
        "The model accuracy is 88.23 which is pretty good. Making confusion matrix to check the ratios of truths and false values. Now I would like to compare this with other models. \n",
        "Plotting confusion matrix for this model to know all the truths and false values. "
      ]
    },
    {
      "cell_type": "code",
      "metadata": {
        "id": "4LwSUmrNZHhE",
        "outputId": "3e533a17-8979-46d4-93d9-f5ad228c402c",
        "colab": {
          "base_uri": "https://localhost:8080/"
        }
      },
      "source": [
        "from scipy.stats import ttest_rel\n",
        "tset,pval=ttest_rel(y_predicted,y_test)\n",
        "print(pval)\n",
        "if pval < 0.05:    # alpha value is 0.05 or 5%\n",
        "   print(\" we are rejecting null hypothesis\")\n",
        "else:\n",
        "  print(\"we are accepting null hypothesis\")"
      ],
      "execution_count": null,
      "outputs": [
        {
          "output_type": "stream",
          "text": [
            "0.16348548685933983\n",
            "we are accepting null hypothesis\n"
          ],
          "name": "stdout"
        }
      ]
    },
    {
      "cell_type": "markdown",
      "metadata": {
        "id": "2xsvIFG9bVIv"
      },
      "source": [
        "So the data set that is provided is not able to get statistically significant result through logistic regression model"
      ]
    },
    {
      "cell_type": "code",
      "metadata": {
        "id": "H7aMr1XorHs5",
        "outputId": "34cc55b7-7a20-49cf-fccd-6737343d6c4d",
        "colab": {
          "base_uri": "https://localhost:8080/",
          "height": 493
        }
      },
      "source": [
        "from sklearn.metrics import confusion_matrix\n",
        "cm=confusion_matrix(y_test,y_predicted)\n",
        "print(cm)\n",
        "import seaborn as sn\n",
        "plt.figure(figsize=(10,7))\n",
        "sn.heatmap(cm,annot=True)\n",
        "plt.xlabel('Predicted')\n",
        "plt.ylabel('Truth')"
      ],
      "execution_count": null,
      "outputs": [
        {
          "output_type": "stream",
          "text": [
            "[[ 2  2]\n",
            " [ 0 13]]\n"
          ],
          "name": "stdout"
        },
        {
          "output_type": "execute_result",
          "data": {
            "text/plain": [
              "Text(69.0, 0.5, 'Truth')"
            ]
          },
          "metadata": {
            "tags": []
          },
          "execution_count": 41
        },
        {
          "output_type": "display_data",
          "data": {
            "image/png": "[encoded data removed]",
            "text/plain": [
              "<Figure size 720x504 with 2 Axes>"
            ]
          },
          "metadata": {
            "tags": [],
            "needs_background": "light"
          }
        }
      ]
    },
    {
      "cell_type": "markdown",
      "metadata": {
        "id": "W9v0SEv7rOVB"
      },
      "source": [
        "Now I would like to train the model using decision tree algorithm Even this algorithm helps us to predict whether the event is accident of incident"
      ]
    },
    {
      "cell_type": "code",
      "metadata": {
        "id": "eNhKpip5rPDY",
        "outputId": "d7b6c9ce-4b42-4cb9-c339-221ae2aed5bf",
        "colab": {
          "base_uri": "https://localhost:8080/"
        }
      },
      "source": [
        "from sklearn import tree\n",
        "model=tree.DecisionTreeClassifier()\n",
        "model.fit(X_train, y_train)\n",
        "y_predicted=model.predict(X_test)\n",
        "print(y_predicted)\n",
        "model.score(X_test,y_test)"
      ],
      "execution_count": null,
      "outputs": [
        {
          "output_type": "stream",
          "text": [
            "[0 0 0 1 1 1 0 0 1 0 1 1 0 0 0 1 1]\n"
          ],
          "name": "stdout"
        },
        {
          "output_type": "execute_result",
          "data": {
            "text/plain": [
              "0.5882352941176471"
            ]
          },
          "metadata": {
            "tags": []
          },
          "execution_count": 42
        }
      ]
    },
    {
      "cell_type": "markdown",
      "metadata": {
        "id": "SzlqVghSKwUw"
      },
      "source": [
        "Here we see that the accuracy is pretty low. "
      ]
    },
    {
      "cell_type": "code",
      "metadata": {
        "id": "tzo8qzTyZY4m",
        "outputId": "f9f10cb4-ce06-4c71-a5f2-e8ce35a9537b",
        "colab": {
          "base_uri": "https://localhost:8080/"
        }
      },
      "source": [
        "from scipy.stats import ttest_rel\n",
        "tset,pval=ttest_rel(y_predicted,y_test)\n",
        "print(pval)\n",
        "if pval < 0.06:    # alpha value is 0.06 or 6%\n",
        "   print(\" we are rejecting null hypothesis\")\n",
        "else:\n",
        "  print(\"we are accepting null hypothesis\")"
      ],
      "execution_count": null,
      "outputs": [
        {
          "output_type": "stream",
          "text": [
            "0.05574860533681039\n",
            " we are rejecting null hypothesis\n"
          ],
          "name": "stdout"
        }
      ]
    },
    {
      "cell_type": "markdown",
      "metadata": {
        "id": "-92WwuBLbxvo"
      },
      "source": [
        "Here I have considered alpha value 6 percent instead of 5. Here p value was 0.055 and also this model gave me the lowest accuracy.. This means though the model gave me the least accuracy it is statistically significant. I can say that this is correct because all the datasets will not be the same. So this accuracy can be achevied with other datasets also. "
      ]
    },
    {
      "cell_type": "markdown",
      "metadata": {
        "id": "jXZOWVchEYaJ"
      },
      "source": [
        "Training the model using entropy as main criterion."
      ]
    },
    {
      "cell_type": "code",
      "metadata": {
        "id": "NtLS1W17-jnp",
        "outputId": "b9b147a8-6bd4-4729-c635-ff6f11fb60b6",
        "colab": {
          "base_uri": "https://localhost:8080/"
        }
      },
      "source": [
        "from sklearn import tree\n",
        "model=tree.DecisionTreeClassifier(criterion='entropy')\n",
        "model.fit(X_train, y_train)\n",
        "y_predicted=model.predict(X_test)\n",
        "print(y_predicted)\n",
        "model.score(X_test,y_test)"
      ],
      "execution_count": null,
      "outputs": [
        {
          "output_type": "stream",
          "text": [
            "[0 0 0 1 1 1 0 0 1 0 1 1 0 0 0 1 1]\n"
          ],
          "name": "stdout"
        },
        {
          "output_type": "execute_result",
          "data": {
            "text/plain": [
              "0.5882352941176471"
            ]
          },
          "metadata": {
            "tags": []
          },
          "execution_count": 44
        }
      ]
    },
    {
      "cell_type": "code",
      "metadata": {
        "id": "5_vBH1ljrV4t",
        "outputId": "98e0237c-b0aa-4dd2-afd0-c7f1622768a4",
        "colab": {
          "base_uri": "https://localhost:8080/",
          "height": 497
        }
      },
      "source": [
        "from sklearn.metrics import confusion_matrix\n",
        "cm=confusion_matrix(y_test,y_predicted)\n",
        "print(cm)\n",
        "import seaborn as sn\n",
        "plt.figure(figsize=(10,7))\n",
        "sn.heatmap(cm,annot=True)\n",
        "plt.xlabel('Predicted')\n",
        "plt.ylabel('Truth')"
      ],
      "execution_count": null,
      "outputs": [
        {
          "output_type": "stream",
          "text": [
            "[[3 1]\n",
            " [6 7]]\n"
          ],
          "name": "stdout"
        },
        {
          "output_type": "execute_result",
          "data": {
            "text/plain": [
              "Text(69.0, 0.5, 'Truth')"
            ]
          },
          "metadata": {
            "tags": []
          },
          "execution_count": 45
        },
        {
          "output_type": "display_data",
          "data": {
            "image/png": "[encoded data removed]",
            "text/plain": [
              "<Figure size 720x504 with 2 Axes>"
            ]
          },
          "metadata": {
            "tags": [],
            "needs_background": "light"
          }
        }
      ]
    },
    {
      "cell_type": "markdown",
      "metadata": {
        "id": "Vx4N2KPxrcFa"
      },
      "source": [
        "Now I am training the same model using Random forest classifier"
      ]
    },
    {
      "cell_type": "code",
      "metadata": {
        "id": "9CuzQSb1rxCk",
        "outputId": "ecc8c8a9-e4be-4515-eb45-55ad376c0b1a",
        "colab": {
          "base_uri": "https://localhost:8080/"
        }
      },
      "source": [
        "from sklearn.ensemble import RandomForestClassifier\n",
        "model=RandomForestClassifier()\n",
        "model.fit(X_train,y_train)\n",
        "print(model.fit(X_train,y_train))\n",
        "y_predicted=model.predict(X_test)\n",
        "print(y_predicted)\n",
        "model.score(X_test,y_test)"
      ],
      "execution_count": null,
      "outputs": [
        {
          "output_type": "stream",
          "text": [
            "RandomForestClassifier(bootstrap=True, ccp_alpha=0.0, class_weight=None,\n",
            "                       criterion='gini', max_depth=None, max_features='auto',\n",
            "                       max_leaf_nodes=None, max_samples=None,\n",
            "                       min_impurity_decrease=0.0, min_impurity_split=None,\n",
            "                       min_samples_leaf=1, min_samples_split=2,\n",
            "                       min_weight_fraction_leaf=0.0, n_estimators=100,\n",
            "                       n_jobs=None, oob_score=False, random_state=None,\n",
            "                       verbose=0, warm_start=False)\n",
            "[1 0 1 1 1 1 0 1 1 1 1 1 1 1 1 1 1]\n"
          ],
          "name": "stdout"
        },
        {
          "output_type": "execute_result",
          "data": {
            "text/plain": [
              "0.8823529411764706"
            ]
          },
          "metadata": {
            "tags": []
          },
          "execution_count": 46
        }
      ]
    },
    {
      "cell_type": "code",
      "metadata": {
        "id": "NrJsnASwZfUO",
        "outputId": "a1513c6a-0771-4f81-a203-291b1e42de9c",
        "colab": {
          "base_uri": "https://localhost:8080/"
        }
      },
      "source": [
        "from scipy.stats import ttest_rel\n",
        "tset,pval=ttest_rel(y_predicted,y_test)\n",
        "print(pval)\n",
        "if pval < 0.05:    # alpha value is 0.05 or 5%\n",
        "   print(\" we are rejecting null hypothesis\")\n",
        "else:\n",
        "  print(\"we are accepting null hypothesis\")"
      ],
      "execution_count": null,
      "outputs": [
        {
          "output_type": "stream",
          "text": [
            "0.16348548685933983\n",
            "we are accepting null hypothesis\n"
          ],
          "name": "stdout"
        }
      ]
    },
    {
      "cell_type": "markdown",
      "metadata": {
        "id": "AOqa5N1se3tn"
      },
      "source": [
        "It is statistically insignificant"
      ]
    },
    {
      "cell_type": "markdown",
      "metadata": {
        "id": "B3MubcaMFbp0"
      },
      "source": [
        "Here it is seen that there is increase in accuracy in random forest classifier because it splits the training data and takes 100 decision trees and then take the majority for them to come to the conclusion"
      ]
    },
    {
      "cell_type": "code",
      "metadata": {
        "id": "vYTH1o1dr2_5",
        "outputId": "2e9ae4e9-5cea-4025-f9c3-d9640a8b2846",
        "colab": {
          "base_uri": "https://localhost:8080/",
          "height": 493
        }
      },
      "source": [
        "from sklearn.metrics import confusion_matrix\n",
        "cm=confusion_matrix(y_test,y_predicted)\n",
        "print(cm)\n",
        "import seaborn as sn\n",
        "plt.figure(figsize=(10,7))\n",
        "sn.heatmap(cm,annot=True)\n",
        "plt.xlabel('Predicted')\n",
        "plt.ylabel('Truth')"
      ],
      "execution_count": null,
      "outputs": [
        {
          "output_type": "stream",
          "text": [
            "[[ 2  2]\n",
            " [ 0 13]]\n"
          ],
          "name": "stdout"
        },
        {
          "output_type": "execute_result",
          "data": {
            "text/plain": [
              "Text(69.0, 0.5, 'Truth')"
            ]
          },
          "metadata": {
            "tags": []
          },
          "execution_count": 48
        },
        {
          "output_type": "display_data",
          "data": {
            "image/png": "[encoded data removed]",
            "text/plain": [
              "<Figure size 720x504 with 2 Axes>"
            ]
          },
          "metadata": {
            "tags": [],
            "needs_background": "light"
          }
        }
      ]
    },
    {
      "cell_type": "markdown",
      "metadata": {
        "id": "RCJ1FwC_H-qz"
      },
      "source": [
        "Training the model with the help of svm classifier "
      ]
    },
    {
      "cell_type": "code",
      "metadata": {
        "id": "G6XV_9qysCCh",
        "outputId": "492c6bb7-20d8-4b72-8990-6a046c4aabfa",
        "colab": {
          "base_uri": "https://localhost:8080/"
        }
      },
      "source": [
        "from sklearn.svm import SVC\n",
        "model=SVC()\n",
        "model.fit(X_train,y_train)\n",
        "y_predicted=model.predict(X_test)\n",
        "print(y_predicted)\n",
        "model.score(X_test,y_test)"
      ],
      "execution_count": null,
      "outputs": [
        {
          "output_type": "stream",
          "text": [
            "[1 0 1 1 1 1 0 1 1 1 1 1 1 1 1 0 1]\n"
          ],
          "name": "stdout"
        },
        {
          "output_type": "execute_result",
          "data": {
            "text/plain": [
              "0.8235294117647058"
            ]
          },
          "metadata": {
            "tags": []
          },
          "execution_count": 49
        }
      ]
    },
    {
      "cell_type": "code",
      "metadata": {
        "id": "DTor4UbKZj5g",
        "outputId": "9c0127fe-3b5a-4a2b-b6cb-227d5313ea8b",
        "colab": {
          "base_uri": "https://localhost:8080/"
        }
      },
      "source": [
        "from scipy.stats import ttest_rel\n",
        "tset,pval=ttest_rel(y_predicted,y_test)\n",
        "print(pval)\n",
        "if pval < 0.05:    # alpha value is 0.05 or 5%\n",
        "   print(\" we are rejecting null hypothesis\")\n",
        "else:\n",
        "  print(\"we are accepting null hypothesis\")"
      ],
      "execution_count": null,
      "outputs": [
        {
          "output_type": "stream",
          "text": [
            "0.579455116589547\n",
            "we are accepting null hypothesis\n"
          ],
          "name": "stdout"
        }
      ]
    },
    {
      "cell_type": "markdown",
      "metadata": {
        "id": "48x712DYIF1-"
      },
      "source": [
        "Now using svm accuracy is 82.35 which is better than random forest classifier. \n",
        "But  of all we observe that  logistic regression has the highest accuracy which is interpreted through the above scatter plots also. So logistic regression is better model in comparision to others for this data set. "
      ]
    },
    {
      "cell_type": "markdown",
      "metadata": {
        "id": "gloxyZIFe8sr"
      },
      "source": [
        "It is also statistically insignificant"
      ]
    }
  ]
}