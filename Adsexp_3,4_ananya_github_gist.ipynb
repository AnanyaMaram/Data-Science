{
  "nbformat": 4,
  "nbformat_minor": 0,
  "metadata": {
    "colab": {
      "name": "Adsexp_3,4_ananya github gist.ipynb",
      "provenance": [],
      "collapsed_sections": [],
      "include_colab_link": true
    },
    "kernelspec": {
      "name": "python3",
      "display_name": "Python 3"
    }
  },
  "cells": [
    {
      "cell_type": "markdown",
      "metadata": {
        "id": "view-in-github",
        "colab_type": "text"
      },
      "source": [
        "<a href=\"https://colab.research.google.com/github/AnanyaMaram/Data-Science/blob/master/Adsexp_3%2C4_ananya_github_gist.ipynb\" target=\"_parent\"><img src=\"https://colab.research.google.com/assets/colab-badge.svg\" alt=\"Open In Colab\"/></a>"
      ]
    },
    {
      "cell_type": "code",
      "metadata": {
        "id": "4r98tMS9yJlD",
        "colab": {
          "base_uri": "https://localhost:8080/"
        },
        "outputId": "647c2aa1-6458-4e81-bb58-0fcc7aeae2b6"
      },
      "source": [
        "from google.colab import drive\n",
        "drive.mount('/content/drive')"
      ],
      "execution_count": null,
      "outputs": [
        {
          "output_type": "stream",
          "text": [
            "Drive already mounted at /content/drive; to attempt to forcibly remount, call drive.mount(\"/content/drive\", force_remount=True).\n"
          ],
          "name": "stdout"
        }
      ]
    },
    {
      "cell_type": "code",
      "metadata": {
        "id": "uFdlKRmFyjYR"
      },
      "source": [
        "import pandas as pd\n",
        "import numpy as np\n",
        "import matplotlib.pyplot as plt\n",
        "import seaborn as sns\n",
        "%matplotlib inline"
      ],
      "execution_count": null,
      "outputs": []
    },
    {
      "cell_type": "markdown",
      "metadata": {
        "id": "-U7aFgxxwITP"
      },
      "source": [
        "Looking at the destination dataset"
      ]
    },
    {
      "cell_type": "code",
      "metadata": {
        "id": "yiVqZpj1zAlk",
        "colab": {
          "base_uri": "https://localhost:8080/"
        },
        "outputId": "54f05afe-fcad-408a-fdd0-7d4dc0cc2aec"
      },
      "source": [
        "dest=pd.read_csv(\"/content/drive/My Drive/ads dataset exp3 exp4/destinations.csv\")\n",
        "print(dest.head())\n",
        "print(dest.shape)"
      ],
      "execution_count": null,
      "outputs": [
        {
          "output_type": "stream",
          "text": [
            "   srch_destination_id        d1        d2  ...      d147      d148      d149\n",
            "0                    0 -2.198657 -2.198657  ... -2.198657 -2.198657 -2.198657\n",
            "1                    1 -2.181690 -2.181690  ... -2.181690 -2.181690 -2.181690\n",
            "2                    2 -2.183490 -2.224164  ... -2.224164 -2.224164 -2.057548\n",
            "3                    3 -2.177409 -2.177409  ... -2.177409 -2.177409 -2.177409\n",
            "4                    4 -2.189562 -2.187783  ... -2.194008 -2.194008 -2.188037\n",
            "\n",
            "[5 rows x 150 columns]\n",
            "(62106, 150)\n"
          ],
          "name": "stdout"
        }
      ]
    },
    {
      "cell_type": "markdown",
      "metadata": {
        "id": "KKTc7LwzwNUV"
      },
      "source": [
        "Now looking at the train datasite which has all the information regarding hotel type and hotel locations etc,. The dataset is very large so I split the dataset into different files and then handled it"
      ]
    },
    {
      "cell_type": "code",
      "metadata": {
        "id": "jBoDLbzL1UNi",
        "colab": {
          "base_uri": "https://localhost:8080/"
        },
        "outputId": "e4ff5f4a-840e-4617-b641-f04c2d6fcfef"
      },
      "source": [
        "df = pd.read_csv('/content/drive/MyDrive/ads dataset exp3 exp4/split train data/xae.csv', header=None, names=['date_time', 'site_name', 'posa_continent', 'user_location_country',\n",
        "       'user_location_region', 'user_location_city',\n",
        "       'orig_destination_distance', 'user_id', 'is_mobile', 'is_package',\n",
        "       'channel', 'srch_ci', 'srch_co', 'srch_adults_cnt', 'srch_children_cnt',\n",
        "       'srch_rm_cnt', 'srch_destination_id', 'srch_destination_type_id',\n",
        "       'is_booking', 'cnt', 'hotel_continent', 'hotel_country', 'hotel_market',\n",
        "       'hotel_cluster'],sep=',')\n",
        "print(df.shape)\n",
        "print(df.head())"
      ],
      "execution_count": null,
      "outputs": [
        {
          "output_type": "stream",
          "text": [
            "(1000000, 24)\n",
            "             date_time  site_name  ...  hotel_market  hotel_cluster\n",
            "0  2014-06-08 10:14:19         17  ...           104             78\n",
            "1  2014-06-11 11:15:57         17  ...          1448             90\n",
            "2  2014-06-11 11:20:42         17  ...          1448              8\n",
            "3  2014-06-14 13:34:14         17  ...           222             11\n",
            "4  2014-06-14 13:38:20         17  ...           222             81\n",
            "\n",
            "[5 rows x 24 columns]\n"
          ],
          "name": "stdout"
        }
      ]
    },
    {
      "cell_type": "markdown",
      "metadata": {
        "id": "bM_rIa0gyOA1"
      },
      "source": [
        "dropping null values in the dataframe\n"
      ]
    },
    {
      "cell_type": "code",
      "metadata": {
        "id": "pnDJY3hv10dn",
        "colab": {
          "base_uri": "https://localhost:8080/"
        },
        "outputId": "cedecefd-b483-4982-d986-bf7b68ab11b6"
      },
      "source": [
        "df=df.dropna()\n",
        "print(df.shape)\n",
        "print(df.head())"
      ],
      "execution_count": null,
      "outputs": [
        {
          "output_type": "stream",
          "text": [
            "(644692, 24)\n",
            "              date_time  site_name  ...  hotel_market  hotel_cluster\n",
            "51  2014-09-02 16:10:47          2  ...           678              7\n",
            "52  2014-09-02 16:14:31          2  ...           678             48\n",
            "53  2014-09-08 16:00:34          2  ...          1154             42\n",
            "54  2014-02-01 09:17:02          2  ...           564             91\n",
            "55  2014-02-01 09:55:22          2  ...           564             91\n",
            "\n",
            "[5 rows x 24 columns]\n"
          ],
          "name": "stdout"
        }
      ]
    },
    {
      "cell_type": "code",
      "metadata": {
        "id": "O3BcOk1r0Hjz",
        "colab": {
          "base_uri": "https://localhost:8080/"
        },
        "outputId": "04ce2fb3-9f8d-4ae1-d69f-d1577490fa40"
      },
      "source": [
        "df.columns"
      ],
      "execution_count": null,
      "outputs": [
        {
          "output_type": "execute_result",
          "data": {
            "text/plain": [
              "Index(['date_time', 'site_name', 'posa_continent', 'user_location_country',\n",
              "       'user_location_region', 'user_location_city',\n",
              "       'orig_destination_distance', 'user_id', 'is_mobile', 'is_package',\n",
              "       'channel', 'srch_ci', 'srch_co', 'srch_adults_cnt', 'srch_children_cnt',\n",
              "       'srch_rm_cnt', 'srch_destination_id', 'srch_destination_type_id',\n",
              "       'is_booking', 'cnt', 'hotel_continent', 'hotel_country', 'hotel_market',\n",
              "       'hotel_cluster'],\n",
              "      dtype='object')"
            ]
          },
          "metadata": {
            "tags": []
          },
          "execution_count": 40
        }
      ]
    },
    {
      "cell_type": "markdown",
      "metadata": {
        "id": "LleVHuZVyYcE"
      },
      "source": [
        "The main aim is to predict which hotel_cluster a user will book given the information in their search. There are 100 clusters in total. In another word, we are dealing with a 100 class classification problem."
      ]
    },
    {
      "cell_type": "code",
      "metadata": {
        "id": "3edDhrmaygBc",
        "colab": {
          "base_uri": "https://localhost:8080/",
          "height": 464
        },
        "outputId": "6e888d8c-c0ca-4eaf-ade8-05e6405a4c35"
      },
      "source": [
        "plt.figure(figsize=(12, 6))\n",
        "sns.distplot(df['hotel_cluster'])"
      ],
      "execution_count": null,
      "outputs": [
        {
          "output_type": "stream",
          "text": [
            "/usr/local/lib/python3.6/dist-packages/seaborn/distributions.py:2551: FutureWarning: `distplot` is a deprecated function and will be removed in a future version. Please adapt your code to use either `displot` (a figure-level function with similar flexibility) or `histplot` (an axes-level function for histograms).\n",
            "  warnings.warn(msg, FutureWarning)\n"
          ],
          "name": "stderr"
        },
        {
          "output_type": "execute_result",
          "data": {
            "text/plain": [
              "<matplotlib.axes._subplots.AxesSubplot at 0x7f69e615a6a0>"
            ]
          },
          "metadata": {
            "tags": []
          },
          "execution_count": 41
        },
        {
          "output_type": "display_data",
          "data": {
            "image/png": "[encoded data removed]",
            "text/plain": [
              "<Figure size 864x432 with 1 Axes>"
            ]
          },
          "metadata": {
            "tags": [],
            "needs_background": "light"
          }
        }
      ]
    },
    {
      "cell_type": "markdown",
      "metadata": {
        "id": "p7sozxJTyjha"
      },
      "source": [
        "Hear we are dealing with date time column which had time date month and year in one column itself. If it is in this way it is difficult to analyse which hotel clusters has maximum bookings in that particular month. The below function creates a column for only year"
      ]
    },
    {
      "cell_type": "code",
      "metadata": {
        "id": "k86NonM2y_Ml"
      },
      "source": [
        "from datetime import datetime\n",
        "def get_year(x):\n",
        "    if x is not None and type(x) is not float:\n",
        "        try:\n",
        "            return datetime.strptime(x, '%Y-%m-%d').year\n",
        "        except ValueError:\n",
        "            return datetime.strptime(x, '%Y-%m-%d %H:%M:%S').year\n",
        "    else:\n",
        "        return 2013\n",
        "    pass"
      ],
      "execution_count": null,
      "outputs": []
    },
    {
      "cell_type": "markdown",
      "metadata": {
        "id": "gc5-GRZNy-NA"
      },
      "source": [
        "This fucnction below creates column for that particular month. "
      ]
    },
    {
      "cell_type": "code",
      "metadata": {
        "id": "qZklUvoj08I8"
      },
      "source": [
        "\n",
        "def get_month(x):\n",
        "    if x is not None and type(x) is not float:\n",
        "        try:\n",
        "            return datetime.strptime(x, '%Y-%m-%d').month\n",
        "        except:\n",
        "            return datetime.strptime(x, '%Y-%m-%d %H:%M:%S').month\n",
        "    else:\n",
        "        return 1\n",
        "    pass"
      ],
      "execution_count": null,
      "outputs": []
    },
    {
      "cell_type": "code",
      "metadata": {
        "id": "DFeEVSJe09QP"
      },
      "source": [
        "def left_merge_dataset(left_dframe, right_dframe, merge_column):\n",
        "    return pd.merge(left_dframe, right_dframe, on=merge_column, how='left')"
      ],
      "execution_count": null,
      "outputs": []
    },
    {
      "cell_type": "markdown",
      "metadata": {
        "id": "1Hbplfx_zIG0"
      },
      "source": [
        "dealing with date time year column"
      ]
    },
    {
      "cell_type": "code",
      "metadata": {
        "id": "QeSmQiGJ1CeH",
        "colab": {
          "base_uri": "https://localhost:8080/",
          "height": 305
        },
        "outputId": "1f984961-85d9-4ed0-ec5f-3ec8bdff7877"
      },
      "source": [
        "df['date_time_year'] = pd.Series(df.date_time, index = df.index)\n",
        "df['date_time_month'] = pd.Series(df.date_time, index = df.index)\n",
        "\n",
        "from datetime import datetime\n",
        "df.date_time_year = df.date_time_year.apply(lambda x: get_year(x))\n",
        "df.date_time_month = df.date_time_month.apply(lambda x: get_month(x))\n",
        "del df['date_time']\n",
        "df.head()"
      ],
      "execution_count": null,
      "outputs": [
        {
          "output_type": "execute_result",
          "data": {
            "text/html": [
              "<div>\n",
              "<style scoped>\n",
              "    .dataframe tbody tr th:only-of-type {\n",
              "        vertical-align: middle;\n",
              "    }\n",
              "\n",
              "    .dataframe tbody tr th {\n",
              "        vertical-align: top;\n",
              "    }\n",
              "\n",
              "    .dataframe thead th {\n",
              "        text-align: right;\n",
              "    }\n",
              "</style>\n",
              "<table border=\"1\" class=\"dataframe\">\n",
              "  <thead>\n",
              "    <tr style=\"text-align: right;\">\n",
              "      <th></th>\n",
              "      <th>site_name</th>\n",
              "      <th>posa_continent</th>\n",
              "      <th>user_location_country</th>\n",
              "      <th>user_location_region</th>\n",
              "      <th>user_location_city</th>\n",
              "      <th>orig_destination_distance</th>\n",
              "      <th>user_id</th>\n",
              "      <th>is_mobile</th>\n",
              "      <th>is_package</th>\n",
              "      <th>channel</th>\n",
              "      <th>srch_ci</th>\n",
              "      <th>srch_co</th>\n",
              "      <th>srch_adults_cnt</th>\n",
              "      <th>srch_children_cnt</th>\n",
              "      <th>srch_rm_cnt</th>\n",
              "      <th>srch_destination_id</th>\n",
              "      <th>srch_destination_type_id</th>\n",
              "      <th>is_booking</th>\n",
              "      <th>cnt</th>\n",
              "      <th>hotel_continent</th>\n",
              "      <th>hotel_country</th>\n",
              "      <th>hotel_market</th>\n",
              "      <th>hotel_cluster</th>\n",
              "      <th>date_time_year</th>\n",
              "      <th>date_time_month</th>\n",
              "    </tr>\n",
              "  </thead>\n",
              "  <tbody>\n",
              "    <tr>\n",
              "      <th>51</th>\n",
              "      <td>2</td>\n",
              "      <td>3</td>\n",
              "      <td>66</td>\n",
              "      <td>254</td>\n",
              "      <td>23820</td>\n",
              "      <td>751.3774</td>\n",
              "      <td>753106</td>\n",
              "      <td>0</td>\n",
              "      <td>0</td>\n",
              "      <td>9</td>\n",
              "      <td>2014-09-09</td>\n",
              "      <td>2014-09-13</td>\n",
              "      <td>1</td>\n",
              "      <td>0</td>\n",
              "      <td>1</td>\n",
              "      <td>26364</td>\n",
              "      <td>6</td>\n",
              "      <td>0</td>\n",
              "      <td>2</td>\n",
              "      <td>2</td>\n",
              "      <td>50</td>\n",
              "      <td>678</td>\n",
              "      <td>7</td>\n",
              "      <td>2014</td>\n",
              "      <td>9</td>\n",
              "    </tr>\n",
              "    <tr>\n",
              "      <th>52</th>\n",
              "      <td>2</td>\n",
              "      <td>3</td>\n",
              "      <td>66</td>\n",
              "      <td>254</td>\n",
              "      <td>23820</td>\n",
              "      <td>728.9787</td>\n",
              "      <td>753106</td>\n",
              "      <td>0</td>\n",
              "      <td>0</td>\n",
              "      <td>9</td>\n",
              "      <td>2014-09-09</td>\n",
              "      <td>2014-09-13</td>\n",
              "      <td>1</td>\n",
              "      <td>0</td>\n",
              "      <td>1</td>\n",
              "      <td>8229</td>\n",
              "      <td>1</td>\n",
              "      <td>0</td>\n",
              "      <td>1</td>\n",
              "      <td>2</td>\n",
              "      <td>50</td>\n",
              "      <td>678</td>\n",
              "      <td>48</td>\n",
              "      <td>2014</td>\n",
              "      <td>9</td>\n",
              "    </tr>\n",
              "    <tr>\n",
              "      <th>53</th>\n",
              "      <td>2</td>\n",
              "      <td>3</td>\n",
              "      <td>66</td>\n",
              "      <td>254</td>\n",
              "      <td>23820</td>\n",
              "      <td>720.7541</td>\n",
              "      <td>753106</td>\n",
              "      <td>0</td>\n",
              "      <td>0</td>\n",
              "      <td>2</td>\n",
              "      <td>2014-09-09</td>\n",
              "      <td>2014-09-13</td>\n",
              "      <td>1</td>\n",
              "      <td>0</td>\n",
              "      <td>1</td>\n",
              "      <td>5775</td>\n",
              "      <td>3</td>\n",
              "      <td>0</td>\n",
              "      <td>2</td>\n",
              "      <td>2</td>\n",
              "      <td>50</td>\n",
              "      <td>1154</td>\n",
              "      <td>42</td>\n",
              "      <td>2014</td>\n",
              "      <td>9</td>\n",
              "    </tr>\n",
              "    <tr>\n",
              "      <th>54</th>\n",
              "      <td>2</td>\n",
              "      <td>3</td>\n",
              "      <td>66</td>\n",
              "      <td>174</td>\n",
              "      <td>15081</td>\n",
              "      <td>554.5683</td>\n",
              "      <td>753109</td>\n",
              "      <td>0</td>\n",
              "      <td>1</td>\n",
              "      <td>2</td>\n",
              "      <td>2014-02-18</td>\n",
              "      <td>2014-02-23</td>\n",
              "      <td>2</td>\n",
              "      <td>2</td>\n",
              "      <td>1</td>\n",
              "      <td>11990</td>\n",
              "      <td>1</td>\n",
              "      <td>0</td>\n",
              "      <td>3</td>\n",
              "      <td>2</td>\n",
              "      <td>50</td>\n",
              "      <td>564</td>\n",
              "      <td>91</td>\n",
              "      <td>2014</td>\n",
              "      <td>2</td>\n",
              "    </tr>\n",
              "    <tr>\n",
              "      <th>55</th>\n",
              "      <td>2</td>\n",
              "      <td>3</td>\n",
              "      <td>66</td>\n",
              "      <td>174</td>\n",
              "      <td>15081</td>\n",
              "      <td>554.5683</td>\n",
              "      <td>753109</td>\n",
              "      <td>0</td>\n",
              "      <td>1</td>\n",
              "      <td>2</td>\n",
              "      <td>2014-02-18</td>\n",
              "      <td>2014-02-24</td>\n",
              "      <td>2</td>\n",
              "      <td>2</td>\n",
              "      <td>1</td>\n",
              "      <td>11990</td>\n",
              "      <td>1</td>\n",
              "      <td>0</td>\n",
              "      <td>1</td>\n",
              "      <td>2</td>\n",
              "      <td>50</td>\n",
              "      <td>564</td>\n",
              "      <td>91</td>\n",
              "      <td>2014</td>\n",
              "      <td>2</td>\n",
              "    </tr>\n",
              "  </tbody>\n",
              "</table>\n",
              "</div>"
            ],
            "text/plain": [
              "    site_name  posa_continent  ...  date_time_year  date_time_month\n",
              "51          2               3  ...            2014                9\n",
              "52          2               3  ...            2014                9\n",
              "53          2               3  ...            2014                9\n",
              "54          2               3  ...            2014                2\n",
              "55          2               3  ...            2014                2\n",
              "\n",
              "[5 rows x 25 columns]"
            ]
          },
          "metadata": {
            "tags": []
          },
          "execution_count": 45
        }
      ]
    },
    {
      "cell_type": "markdown",
      "metadata": {
        "id": "ePfjIAk5zPyZ"
      },
      "source": [
        "Dealing with srch_ci column"
      ]
    },
    {
      "cell_type": "code",
      "metadata": {
        "id": "vIxefOHg1Z-_",
        "colab": {
          "base_uri": "https://localhost:8080/"
        },
        "outputId": "489abd89-7c87-420e-f43f-b33535e7b829"
      },
      "source": [
        "\n",
        "\n",
        "df['srch_ci_year'] = pd.Series(df.srch_ci, index=df.index)\n",
        "df['srch_ci_month'] = pd.Series(df.srch_ci, index=df.index)\n",
        "\n",
        "# convert year & months to int\n",
        "df.srch_ci_year = df.srch_ci_year.apply(lambda x: get_year(x))\n",
        "df.srch_ci_month = df.srch_ci_month.apply(lambda x: get_month(x))\n",
        "\n",
        "# remove the srch_ci column\n",
        "del df['srch_ci']\n",
        "print(df.head())"
      ],
      "execution_count": null,
      "outputs": [
        {
          "output_type": "stream",
          "text": [
            "    site_name  posa_continent  ...  srch_ci_year  srch_ci_month\n",
            "51          2               3  ...          2014              9\n",
            "52          2               3  ...          2014              9\n",
            "53          2               3  ...          2014              9\n",
            "54          2               3  ...          2014              2\n",
            "55          2               3  ...          2014              2\n",
            "\n",
            "[5 rows x 26 columns]\n"
          ],
          "name": "stdout"
        }
      ]
    },
    {
      "cell_type": "code",
      "metadata": {
        "id": "kUi2-K4U2Dau",
        "colab": {
          "base_uri": "https://localhost:8080/"
        },
        "outputId": "8d728c07-e990-43ec-af66-1b32fd1e06b9"
      },
      "source": [
        "# work on srch_co column\n",
        "\n",
        "df['srch_co_year'] = pd.Series(df.srch_co, index=df.index)\n",
        "df['srch_co_month'] = pd.Series(df.srch_co, index=df.index)\n",
        "\n",
        "# convert year & months to int\n",
        "df.srch_co_year = df.srch_co_year.apply(lambda x: get_year(x))\n",
        "df.srch_co_month = df.srch_co_month.apply(lambda x: get_month(x))\n",
        "\n",
        "# remove the srch_co column\n",
        "del df['srch_co']\n",
        "print(df.head())"
      ],
      "execution_count": null,
      "outputs": [
        {
          "output_type": "stream",
          "text": [
            "    site_name  posa_continent  ...  srch_co_year  srch_co_month\n",
            "51          2               3  ...          2014              9\n",
            "52          2               3  ...          2014              9\n",
            "53          2               3  ...          2014              9\n",
            "54          2               3  ...          2014              2\n",
            "55          2               3  ...          2014              2\n",
            "\n",
            "[5 rows x 27 columns]\n"
          ],
          "name": "stdout"
        }
      ]
    },
    {
      "cell_type": "markdown",
      "metadata": {
        "id": "lMYeV2sBzWNK"
      },
      "source": [
        "Finding if there is any correaltion with the hotel cluster. No column correlates linearly with hotel_cluster, this means that linear regression and logistic regression won't work well on our data."
      ]
    },
    {
      "cell_type": "code",
      "metadata": {
        "id": "rGQxoqlL2QdC",
        "colab": {
          "base_uri": "https://localhost:8080/"
        },
        "outputId": "5bca008f-97f2-4733-87cd-a1c01a9f6a72"
      },
      "source": [
        "df.corr()[\"hotel_cluster\"].sort_values()"
      ],
      "execution_count": null,
      "outputs": [
        {
          "output_type": "execute_result",
          "data": {
            "text/plain": [
              "srch_destination_type_id    -0.034716\n",
              "site_name                   -0.029022\n",
              "hotel_country               -0.025852\n",
              "is_booking                  -0.022604\n",
              "user_location_country       -0.018672\n",
              "srch_destination_id         -0.013125\n",
              "srch_rm_cnt                 -0.005350\n",
              "srch_ci_month               -0.003303\n",
              "srch_co_month               -0.003060\n",
              "date_time_year              -0.001247\n",
              "channel                     -0.000605\n",
              "user_location_city          -0.000573\n",
              "date_time_month              0.002479\n",
              "cnt                          0.003666\n",
              "hotel_continent              0.004833\n",
              "srch_adults_cnt              0.008624\n",
              "user_id                      0.008657\n",
              "srch_ci_year                 0.010464\n",
              "srch_co_year                 0.010559\n",
              "is_mobile                    0.010717\n",
              "orig_destination_distance    0.010832\n",
              "user_location_region         0.011349\n",
              "posa_continent               0.014024\n",
              "srch_children_cnt            0.015666\n",
              "hotel_market                 0.024055\n",
              "is_package                   0.053803\n",
              "hotel_cluster                1.000000\n",
              "Name: hotel_cluster, dtype: float64"
            ]
          },
          "metadata": {
            "tags": []
          },
          "execution_count": 48
        }
      ]
    },
    {
      "cell_type": "code",
      "metadata": {
        "id": "kHFgmcBm0B-x",
        "colab": {
          "base_uri": "https://localhost:8080/"
        },
        "outputId": "b40ff6cd-4736-4a28-ad9e-23ff399f15f2"
      },
      "source": [
        "print(df.columns)\n",
        "df2=df[['hotel_cluster','date_time_month']]\n",
        "g=df2.groupby('hotel_cluster')"
      ],
      "execution_count": null,
      "outputs": [
        {
          "output_type": "stream",
          "text": [
            "Index(['site_name', 'posa_continent', 'user_location_country',\n",
            "       'user_location_region', 'user_location_city',\n",
            "       'orig_destination_distance', 'user_id', 'is_mobile', 'is_package',\n",
            "       'channel', 'srch_adults_cnt', 'srch_children_cnt', 'srch_rm_cnt',\n",
            "       'srch_destination_id', 'srch_destination_type_id', 'is_booking', 'cnt',\n",
            "       'hotel_continent', 'hotel_country', 'hotel_market', 'hotel_cluster',\n",
            "       'date_time_year', 'date_time_month', 'srch_ci_year', 'srch_ci_month',\n",
            "       'srch_co_year', 'srch_co_month'],\n",
            "      dtype='object')\n"
          ],
          "name": "stdout"
        }
      ]
    },
    {
      "cell_type": "markdown",
      "metadata": {
        "id": "y0eMPLKwIfvc"
      },
      "source": [
        "doing groupby with respect to hotel cluster and date time month to find the hotel cluster with highest demand."
      ]
    },
    {
      "cell_type": "code",
      "metadata": {
        "id": "hffEStXZ1KeH",
        "colab": {
          "base_uri": "https://localhost:8080/"
        },
        "outputId": "5788de3d-2237-4d9f-f30f-ce46f55a8d25"
      },
      "source": [
        "count_df=g.count()\n",
        "print(count_df)\n",
        "count_df.reset_index(inplace=True)\n",
        "count_df['hotel_cluster'][count_df['date_time_month']==count_df['date_time_month'].max()]\n",
        "print(count_df)"
      ],
      "execution_count": null,
      "outputs": [
        {
          "output_type": "stream",
          "text": [
            "               date_time_month\n",
            "hotel_cluster                 \n",
            "0                         8029\n",
            "1                        10006\n",
            "2                         6039\n",
            "3                         3296\n",
            "4                         7182\n",
            "...                        ...\n",
            "95                       10497\n",
            "96                        7576\n",
            "97                        6590\n",
            "98                       10791\n",
            "99                        6023\n",
            "\n",
            "[100 rows x 1 columns]\n",
            "    hotel_cluster  date_time_month\n",
            "0               0             8029\n",
            "1               1            10006\n",
            "2               2             6039\n",
            "3               3             3296\n",
            "4               4             7182\n",
            "..            ...              ...\n",
            "95             95            10497\n",
            "96             96             7576\n",
            "97             97             6590\n",
            "98             98            10791\n",
            "99             99             6023\n",
            "\n",
            "[100 rows x 2 columns]\n"
          ],
          "name": "stdout"
        }
      ]
    },
    {
      "cell_type": "markdown",
      "metadata": {
        "id": "ZwnpbF11zwiT"
      },
      "source": [
        "\n",
        "For known combinations of user location cities, origin-destination distances and search destinations, will definitely help finding hotel cluster. So we are doing group by with those particular columns and finding the sum and count for each hotel cluster. "
      ]
    },
    {
      "cell_type": "code",
      "metadata": {
        "id": "6CCbnrOK3G4u",
        "colab": {
          "base_uri": "https://localhost:8080/",
          "height": 228
        },
        "outputId": "e97f4036-3b16-4311-9cc7-274fe1ef9adf"
      },
      "source": [
        "pieces = [df.groupby(['srch_destination_id','hotel_country','hotel_market','hotel_cluster'])['is_booking'].agg(['sum','count'])]\n",
        "#print(pieces)\n",
        "agg = pd.concat(pieces).groupby(level=[0,1,2,3]).sum()\n",
        "agg.dropna(inplace=True)\n",
        "agg.head()"
      ],
      "execution_count": null,
      "outputs": [
        {
          "output_type": "execute_result",
          "data": {
            "text/html": [
              "<div>\n",
              "<style scoped>\n",
              "    .dataframe tbody tr th:only-of-type {\n",
              "        vertical-align: middle;\n",
              "    }\n",
              "\n",
              "    .dataframe tbody tr th {\n",
              "        vertical-align: top;\n",
              "    }\n",
              "\n",
              "    .dataframe thead th {\n",
              "        text-align: right;\n",
              "    }\n",
              "</style>\n",
              "<table border=\"1\" class=\"dataframe\">\n",
              "  <thead>\n",
              "    <tr style=\"text-align: right;\">\n",
              "      <th></th>\n",
              "      <th></th>\n",
              "      <th></th>\n",
              "      <th></th>\n",
              "      <th>sum</th>\n",
              "      <th>count</th>\n",
              "    </tr>\n",
              "    <tr>\n",
              "      <th>srch_destination_id</th>\n",
              "      <th>hotel_country</th>\n",
              "      <th>hotel_market</th>\n",
              "      <th>hotel_cluster</th>\n",
              "      <th></th>\n",
              "      <th></th>\n",
              "    </tr>\n",
              "  </thead>\n",
              "  <tbody>\n",
              "    <tr>\n",
              "      <th rowspan=\"4\" valign=\"top\">4</th>\n",
              "      <th rowspan=\"4\" valign=\"top\">7</th>\n",
              "      <th rowspan=\"4\" valign=\"top\">246</th>\n",
              "      <th>22</th>\n",
              "      <td>0</td>\n",
              "      <td>1</td>\n",
              "    </tr>\n",
              "    <tr>\n",
              "      <th>25</th>\n",
              "      <td>1</td>\n",
              "      <td>2</td>\n",
              "    </tr>\n",
              "    <tr>\n",
              "      <th>32</th>\n",
              "      <td>1</td>\n",
              "      <td>2</td>\n",
              "    </tr>\n",
              "    <tr>\n",
              "      <th>67</th>\n",
              "      <td>0</td>\n",
              "      <td>2</td>\n",
              "    </tr>\n",
              "    <tr>\n",
              "      <th>7</th>\n",
              "      <th>50</th>\n",
              "      <th>422</th>\n",
              "      <th>42</th>\n",
              "      <td>0</td>\n",
              "      <td>1</td>\n",
              "    </tr>\n",
              "  </tbody>\n",
              "</table>\n",
              "</div>"
            ],
            "text/plain": [
              "                                                              sum  count\n",
              "srch_destination_id hotel_country hotel_market hotel_cluster            \n",
              "4                   7             246          22               0      1\n",
              "                                               25               1      2\n",
              "                                               32               1      2\n",
              "                                               67               0      2\n",
              "7                   50            422          42               0      1"
            ]
          },
          "metadata": {
            "tags": []
          },
          "execution_count": 51
        }
      ]
    },
    {
      "cell_type": "code",
      "metadata": {
        "id": "DwVl2ZTk52p5",
        "colab": {
          "base_uri": "https://localhost:8080/"
        },
        "outputId": "7ce79ba3-e705-4559-dcab-5feca1d40a12"
      },
      "source": [
        "agg['sum']"
      ],
      "execution_count": null,
      "outputs": [
        {
          "output_type": "execute_result",
          "data": {
            "text/plain": [
              "srch_destination_id  hotel_country  hotel_market  hotel_cluster\n",
              "4                    7              246           22               0\n",
              "                                                  25               1\n",
              "                                                  32               1\n",
              "                                                  67               0\n",
              "7                    50             422           42               0\n",
              "                                                                  ..\n",
              "65035                105            29            43               0\n",
              "                                                  58               1\n",
              "65042                50             611           89               0\n",
              "65047                50             638           15               0\n",
              "                                                  16               1\n",
              "Name: sum, Length: 75814, dtype: int64"
            ]
          },
          "metadata": {
            "tags": []
          },
          "execution_count": 52
        }
      ]
    },
    {
      "cell_type": "markdown",
      "metadata": {
        "id": "z0TY9g5V1ZwB"
      },
      "source": [
        "doing the average sum and avg count for each hotel cluster. "
      ]
    },
    {
      "cell_type": "code",
      "metadata": {
        "id": "gGqmIfVO3m73",
        "colab": {
          "base_uri": "https://localhost:8080/",
          "height": 198
        },
        "outputId": "d210b6e1-e0b2-4521-a225-08fe00640c14"
      },
      "source": [
        "\n",
        "agg['sum_and_cnt'] = 0.85*agg['sum'] + 0.15*agg['count']\n",
        "agg = agg.groupby(level=[0,1,2]).apply(lambda x: x.astype(float)/x.sum())\n",
        "agg.reset_index(inplace=True)\n",
        "agg.head()\n"
      ],
      "execution_count": null,
      "outputs": [
        {
          "output_type": "execute_result",
          "data": {
            "text/html": [
              "<div>\n",
              "<style scoped>\n",
              "    .dataframe tbody tr th:only-of-type {\n",
              "        vertical-align: middle;\n",
              "    }\n",
              "\n",
              "    .dataframe tbody tr th {\n",
              "        vertical-align: top;\n",
              "    }\n",
              "\n",
              "    .dataframe thead th {\n",
              "        text-align: right;\n",
              "    }\n",
              "</style>\n",
              "<table border=\"1\" class=\"dataframe\">\n",
              "  <thead>\n",
              "    <tr style=\"text-align: right;\">\n",
              "      <th></th>\n",
              "      <th>srch_destination_id</th>\n",
              "      <th>hotel_country</th>\n",
              "      <th>hotel_market</th>\n",
              "      <th>hotel_cluster</th>\n",
              "      <th>sum</th>\n",
              "      <th>count</th>\n",
              "      <th>sum_and_cnt</th>\n",
              "    </tr>\n",
              "  </thead>\n",
              "  <tbody>\n",
              "    <tr>\n",
              "      <th>0</th>\n",
              "      <td>4</td>\n",
              "      <td>7</td>\n",
              "      <td>246</td>\n",
              "      <td>22</td>\n",
              "      <td>0.0</td>\n",
              "      <td>0.142857</td>\n",
              "      <td>0.054545</td>\n",
              "    </tr>\n",
              "    <tr>\n",
              "      <th>1</th>\n",
              "      <td>4</td>\n",
              "      <td>7</td>\n",
              "      <td>246</td>\n",
              "      <td>25</td>\n",
              "      <td>0.5</td>\n",
              "      <td>0.285714</td>\n",
              "      <td>0.418182</td>\n",
              "    </tr>\n",
              "    <tr>\n",
              "      <th>2</th>\n",
              "      <td>4</td>\n",
              "      <td>7</td>\n",
              "      <td>246</td>\n",
              "      <td>32</td>\n",
              "      <td>0.5</td>\n",
              "      <td>0.285714</td>\n",
              "      <td>0.418182</td>\n",
              "    </tr>\n",
              "    <tr>\n",
              "      <th>3</th>\n",
              "      <td>4</td>\n",
              "      <td>7</td>\n",
              "      <td>246</td>\n",
              "      <td>67</td>\n",
              "      <td>0.0</td>\n",
              "      <td>0.285714</td>\n",
              "      <td>0.109091</td>\n",
              "    </tr>\n",
              "    <tr>\n",
              "      <th>4</th>\n",
              "      <td>7</td>\n",
              "      <td>50</td>\n",
              "      <td>422</td>\n",
              "      <td>42</td>\n",
              "      <td>NaN</td>\n",
              "      <td>1.000000</td>\n",
              "      <td>1.000000</td>\n",
              "    </tr>\n",
              "  </tbody>\n",
              "</table>\n",
              "</div>"
            ],
            "text/plain": [
              "   srch_destination_id  hotel_country  hotel_market  ...  sum     count  sum_and_cnt\n",
              "0                    4              7           246  ...  0.0  0.142857     0.054545\n",
              "1                    4              7           246  ...  0.5  0.285714     0.418182\n",
              "2                    4              7           246  ...  0.5  0.285714     0.418182\n",
              "3                    4              7           246  ...  0.0  0.285714     0.109091\n",
              "4                    7             50           422  ...  NaN  1.000000     1.000000\n",
              "\n",
              "[5 rows x 7 columns]"
            ]
          },
          "metadata": {
            "tags": []
          },
          "execution_count": 53
        }
      ]
    },
    {
      "cell_type": "code",
      "metadata": {
        "id": "JKReURNf6eBo",
        "colab": {
          "base_uri": "https://localhost:8080/"
        },
        "outputId": "bfdded03-badb-4512-d0ce-2a49a4ec6641"
      },
      "source": [
        "agg['sum']"
      ],
      "execution_count": null,
      "outputs": [
        {
          "output_type": "execute_result",
          "data": {
            "text/plain": [
              "0        0.0\n",
              "1        0.5\n",
              "2        0.5\n",
              "3        0.0\n",
              "4        NaN\n",
              "        ... \n",
              "75809    0.0\n",
              "75810    1.0\n",
              "75811    NaN\n",
              "75812    0.0\n",
              "75813    1.0\n",
              "Name: sum, Length: 75814, dtype: float64"
            ]
          },
          "metadata": {
            "tags": []
          },
          "execution_count": 54
        }
      ]
    },
    {
      "cell_type": "code",
      "metadata": {
        "id": "sOeCxX504Z7N",
        "colab": {
          "base_uri": "https://localhost:8080/",
          "height": 247
        },
        "outputId": "a035b419-32f7-4c6d-c0a7-2345e75fa171"
      },
      "source": [
        "agg_pivot = agg.pivot_table(index=['srch_destination_id','hotel_country','hotel_market'], columns='hotel_cluster', values='sum_and_cnt').reset_index()\n",
        "agg_pivot.head()"
      ],
      "execution_count": null,
      "outputs": [
        {
          "output_type": "execute_result",
          "data": {
            "text/html": [
              "<div>\n",
              "<style scoped>\n",
              "    .dataframe tbody tr th:only-of-type {\n",
              "        vertical-align: middle;\n",
              "    }\n",
              "\n",
              "    .dataframe tbody tr th {\n",
              "        vertical-align: top;\n",
              "    }\n",
              "\n",
              "    .dataframe thead th {\n",
              "        text-align: right;\n",
              "    }\n",
              "</style>\n",
              "<table border=\"1\" class=\"dataframe\">\n",
              "  <thead>\n",
              "    <tr style=\"text-align: right;\">\n",
              "      <th>hotel_cluster</th>\n",
              "      <th>srch_destination_id</th>\n",
              "      <th>hotel_country</th>\n",
              "      <th>hotel_market</th>\n",
              "      <th>0</th>\n",
              "      <th>1</th>\n",
              "      <th>2</th>\n",
              "      <th>3</th>\n",
              "      <th>4</th>\n",
              "      <th>5</th>\n",
              "      <th>6</th>\n",
              "      <th>7</th>\n",
              "      <th>8</th>\n",
              "      <th>9</th>\n",
              "      <th>10</th>\n",
              "      <th>11</th>\n",
              "      <th>12</th>\n",
              "      <th>13</th>\n",
              "      <th>14</th>\n",
              "      <th>15</th>\n",
              "      <th>16</th>\n",
              "      <th>17</th>\n",
              "      <th>18</th>\n",
              "      <th>19</th>\n",
              "      <th>20</th>\n",
              "      <th>21</th>\n",
              "      <th>22</th>\n",
              "      <th>23</th>\n",
              "      <th>24</th>\n",
              "      <th>25</th>\n",
              "      <th>26</th>\n",
              "      <th>27</th>\n",
              "      <th>28</th>\n",
              "      <th>29</th>\n",
              "      <th>30</th>\n",
              "      <th>31</th>\n",
              "      <th>32</th>\n",
              "      <th>33</th>\n",
              "      <th>34</th>\n",
              "      <th>35</th>\n",
              "      <th>36</th>\n",
              "      <th>...</th>\n",
              "      <th>60</th>\n",
              "      <th>61</th>\n",
              "      <th>62</th>\n",
              "      <th>63</th>\n",
              "      <th>64</th>\n",
              "      <th>65</th>\n",
              "      <th>66</th>\n",
              "      <th>67</th>\n",
              "      <th>68</th>\n",
              "      <th>69</th>\n",
              "      <th>70</th>\n",
              "      <th>71</th>\n",
              "      <th>72</th>\n",
              "      <th>73</th>\n",
              "      <th>74</th>\n",
              "      <th>75</th>\n",
              "      <th>76</th>\n",
              "      <th>77</th>\n",
              "      <th>78</th>\n",
              "      <th>79</th>\n",
              "      <th>80</th>\n",
              "      <th>81</th>\n",
              "      <th>82</th>\n",
              "      <th>83</th>\n",
              "      <th>84</th>\n",
              "      <th>85</th>\n",
              "      <th>86</th>\n",
              "      <th>87</th>\n",
              "      <th>88</th>\n",
              "      <th>89</th>\n",
              "      <th>90</th>\n",
              "      <th>91</th>\n",
              "      <th>92</th>\n",
              "      <th>93</th>\n",
              "      <th>94</th>\n",
              "      <th>95</th>\n",
              "      <th>96</th>\n",
              "      <th>97</th>\n",
              "      <th>98</th>\n",
              "      <th>99</th>\n",
              "    </tr>\n",
              "  </thead>\n",
              "  <tbody>\n",
              "    <tr>\n",
              "      <th>0</th>\n",
              "      <td>4</td>\n",
              "      <td>7</td>\n",
              "      <td>246</td>\n",
              "      <td>NaN</td>\n",
              "      <td>NaN</td>\n",
              "      <td>NaN</td>\n",
              "      <td>NaN</td>\n",
              "      <td>NaN</td>\n",
              "      <td>NaN</td>\n",
              "      <td>NaN</td>\n",
              "      <td>NaN</td>\n",
              "      <td>NaN</td>\n",
              "      <td>NaN</td>\n",
              "      <td>NaN</td>\n",
              "      <td>NaN</td>\n",
              "      <td>NaN</td>\n",
              "      <td>NaN</td>\n",
              "      <td>NaN</td>\n",
              "      <td>NaN</td>\n",
              "      <td>NaN</td>\n",
              "      <td>NaN</td>\n",
              "      <td>NaN</td>\n",
              "      <td>NaN</td>\n",
              "      <td>NaN</td>\n",
              "      <td>NaN</td>\n",
              "      <td>0.054545</td>\n",
              "      <td>NaN</td>\n",
              "      <td>NaN</td>\n",
              "      <td>0.418182</td>\n",
              "      <td>NaN</td>\n",
              "      <td>NaN</td>\n",
              "      <td>NaN</td>\n",
              "      <td>NaN</td>\n",
              "      <td>NaN</td>\n",
              "      <td>NaN</td>\n",
              "      <td>0.418182</td>\n",
              "      <td>NaN</td>\n",
              "      <td>NaN</td>\n",
              "      <td>NaN</td>\n",
              "      <td>NaN</td>\n",
              "      <td>...</td>\n",
              "      <td>NaN</td>\n",
              "      <td>NaN</td>\n",
              "      <td>NaN</td>\n",
              "      <td>NaN</td>\n",
              "      <td>NaN</td>\n",
              "      <td>NaN</td>\n",
              "      <td>NaN</td>\n",
              "      <td>0.109091</td>\n",
              "      <td>NaN</td>\n",
              "      <td>NaN</td>\n",
              "      <td>NaN</td>\n",
              "      <td>NaN</td>\n",
              "      <td>NaN</td>\n",
              "      <td>NaN</td>\n",
              "      <td>NaN</td>\n",
              "      <td>NaN</td>\n",
              "      <td>NaN</td>\n",
              "      <td>NaN</td>\n",
              "      <td>NaN</td>\n",
              "      <td>NaN</td>\n",
              "      <td>NaN</td>\n",
              "      <td>NaN</td>\n",
              "      <td>NaN</td>\n",
              "      <td>NaN</td>\n",
              "      <td>NaN</td>\n",
              "      <td>NaN</td>\n",
              "      <td>NaN</td>\n",
              "      <td>NaN</td>\n",
              "      <td>NaN</td>\n",
              "      <td>NaN</td>\n",
              "      <td>NaN</td>\n",
              "      <td>NaN</td>\n",
              "      <td>NaN</td>\n",
              "      <td>NaN</td>\n",
              "      <td>NaN</td>\n",
              "      <td>NaN</td>\n",
              "      <td>NaN</td>\n",
              "      <td>NaN</td>\n",
              "      <td>NaN</td>\n",
              "      <td>NaN</td>\n",
              "    </tr>\n",
              "    <tr>\n",
              "      <th>1</th>\n",
              "      <td>7</td>\n",
              "      <td>50</td>\n",
              "      <td>422</td>\n",
              "      <td>NaN</td>\n",
              "      <td>NaN</td>\n",
              "      <td>NaN</td>\n",
              "      <td>NaN</td>\n",
              "      <td>NaN</td>\n",
              "      <td>NaN</td>\n",
              "      <td>NaN</td>\n",
              "      <td>NaN</td>\n",
              "      <td>NaN</td>\n",
              "      <td>NaN</td>\n",
              "      <td>NaN</td>\n",
              "      <td>NaN</td>\n",
              "      <td>NaN</td>\n",
              "      <td>NaN</td>\n",
              "      <td>NaN</td>\n",
              "      <td>NaN</td>\n",
              "      <td>NaN</td>\n",
              "      <td>NaN</td>\n",
              "      <td>NaN</td>\n",
              "      <td>NaN</td>\n",
              "      <td>NaN</td>\n",
              "      <td>NaN</td>\n",
              "      <td>NaN</td>\n",
              "      <td>NaN</td>\n",
              "      <td>NaN</td>\n",
              "      <td>NaN</td>\n",
              "      <td>NaN</td>\n",
              "      <td>NaN</td>\n",
              "      <td>NaN</td>\n",
              "      <td>NaN</td>\n",
              "      <td>NaN</td>\n",
              "      <td>NaN</td>\n",
              "      <td>NaN</td>\n",
              "      <td>NaN</td>\n",
              "      <td>NaN</td>\n",
              "      <td>NaN</td>\n",
              "      <td>NaN</td>\n",
              "      <td>...</td>\n",
              "      <td>NaN</td>\n",
              "      <td>NaN</td>\n",
              "      <td>NaN</td>\n",
              "      <td>NaN</td>\n",
              "      <td>NaN</td>\n",
              "      <td>NaN</td>\n",
              "      <td>NaN</td>\n",
              "      <td>NaN</td>\n",
              "      <td>NaN</td>\n",
              "      <td>NaN</td>\n",
              "      <td>NaN</td>\n",
              "      <td>NaN</td>\n",
              "      <td>NaN</td>\n",
              "      <td>NaN</td>\n",
              "      <td>NaN</td>\n",
              "      <td>NaN</td>\n",
              "      <td>NaN</td>\n",
              "      <td>NaN</td>\n",
              "      <td>NaN</td>\n",
              "      <td>NaN</td>\n",
              "      <td>NaN</td>\n",
              "      <td>NaN</td>\n",
              "      <td>NaN</td>\n",
              "      <td>NaN</td>\n",
              "      <td>NaN</td>\n",
              "      <td>NaN</td>\n",
              "      <td>NaN</td>\n",
              "      <td>NaN</td>\n",
              "      <td>NaN</td>\n",
              "      <td>NaN</td>\n",
              "      <td>NaN</td>\n",
              "      <td>NaN</td>\n",
              "      <td>NaN</td>\n",
              "      <td>NaN</td>\n",
              "      <td>NaN</td>\n",
              "      <td>NaN</td>\n",
              "      <td>NaN</td>\n",
              "      <td>NaN</td>\n",
              "      <td>NaN</td>\n",
              "      <td>NaN</td>\n",
              "    </tr>\n",
              "    <tr>\n",
              "      <th>2</th>\n",
              "      <td>8</td>\n",
              "      <td>50</td>\n",
              "      <td>416</td>\n",
              "      <td>NaN</td>\n",
              "      <td>NaN</td>\n",
              "      <td>NaN</td>\n",
              "      <td>NaN</td>\n",
              "      <td>NaN</td>\n",
              "      <td>NaN</td>\n",
              "      <td>NaN</td>\n",
              "      <td>0.157143</td>\n",
              "      <td>NaN</td>\n",
              "      <td>NaN</td>\n",
              "      <td>NaN</td>\n",
              "      <td>NaN</td>\n",
              "      <td>NaN</td>\n",
              "      <td>NaN</td>\n",
              "      <td>0.004286</td>\n",
              "      <td>NaN</td>\n",
              "      <td>0.05</td>\n",
              "      <td>NaN</td>\n",
              "      <td>NaN</td>\n",
              "      <td>NaN</td>\n",
              "      <td>NaN</td>\n",
              "      <td>NaN</td>\n",
              "      <td>NaN</td>\n",
              "      <td>NaN</td>\n",
              "      <td>NaN</td>\n",
              "      <td>NaN</td>\n",
              "      <td>NaN</td>\n",
              "      <td>NaN</td>\n",
              "      <td>NaN</td>\n",
              "      <td>NaN</td>\n",
              "      <td>NaN</td>\n",
              "      <td>NaN</td>\n",
              "      <td>0.045714</td>\n",
              "      <td>0.008571</td>\n",
              "      <td>NaN</td>\n",
              "      <td>NaN</td>\n",
              "      <td>NaN</td>\n",
              "      <td>...</td>\n",
              "      <td>0.004286</td>\n",
              "      <td>NaN</td>\n",
              "      <td>NaN</td>\n",
              "      <td>NaN</td>\n",
              "      <td>NaN</td>\n",
              "      <td>NaN</td>\n",
              "      <td>NaN</td>\n",
              "      <td>NaN</td>\n",
              "      <td>NaN</td>\n",
              "      <td>NaN</td>\n",
              "      <td>NaN</td>\n",
              "      <td>NaN</td>\n",
              "      <td>NaN</td>\n",
              "      <td>NaN</td>\n",
              "      <td>NaN</td>\n",
              "      <td>NaN</td>\n",
              "      <td>0.03</td>\n",
              "      <td>0.095714</td>\n",
              "      <td>NaN</td>\n",
              "      <td>NaN</td>\n",
              "      <td>NaN</td>\n",
              "      <td>NaN</td>\n",
              "      <td>NaN</td>\n",
              "      <td>NaN</td>\n",
              "      <td>NaN</td>\n",
              "      <td>NaN</td>\n",
              "      <td>NaN</td>\n",
              "      <td>NaN</td>\n",
              "      <td>NaN</td>\n",
              "      <td>NaN</td>\n",
              "      <td>NaN</td>\n",
              "      <td>0.07</td>\n",
              "      <td>NaN</td>\n",
              "      <td>NaN</td>\n",
              "      <td>0.004286</td>\n",
              "      <td>NaN</td>\n",
              "      <td>NaN</td>\n",
              "      <td>NaN</td>\n",
              "      <td>NaN</td>\n",
              "      <td>NaN</td>\n",
              "    </tr>\n",
              "    <tr>\n",
              "      <th>3</th>\n",
              "      <td>10</td>\n",
              "      <td>50</td>\n",
              "      <td>648</td>\n",
              "      <td>NaN</td>\n",
              "      <td>NaN</td>\n",
              "      <td>NaN</td>\n",
              "      <td>NaN</td>\n",
              "      <td>NaN</td>\n",
              "      <td>NaN</td>\n",
              "      <td>NaN</td>\n",
              "      <td>NaN</td>\n",
              "      <td>NaN</td>\n",
              "      <td>NaN</td>\n",
              "      <td>NaN</td>\n",
              "      <td>NaN</td>\n",
              "      <td>NaN</td>\n",
              "      <td>NaN</td>\n",
              "      <td>NaN</td>\n",
              "      <td>NaN</td>\n",
              "      <td>NaN</td>\n",
              "      <td>NaN</td>\n",
              "      <td>NaN</td>\n",
              "      <td>NaN</td>\n",
              "      <td>NaN</td>\n",
              "      <td>NaN</td>\n",
              "      <td>NaN</td>\n",
              "      <td>NaN</td>\n",
              "      <td>NaN</td>\n",
              "      <td>NaN</td>\n",
              "      <td>NaN</td>\n",
              "      <td>NaN</td>\n",
              "      <td>NaN</td>\n",
              "      <td>NaN</td>\n",
              "      <td>NaN</td>\n",
              "      <td>NaN</td>\n",
              "      <td>NaN</td>\n",
              "      <td>NaN</td>\n",
              "      <td>NaN</td>\n",
              "      <td>NaN</td>\n",
              "      <td>NaN</td>\n",
              "      <td>...</td>\n",
              "      <td>NaN</td>\n",
              "      <td>NaN</td>\n",
              "      <td>NaN</td>\n",
              "      <td>NaN</td>\n",
              "      <td>NaN</td>\n",
              "      <td>NaN</td>\n",
              "      <td>NaN</td>\n",
              "      <td>NaN</td>\n",
              "      <td>NaN</td>\n",
              "      <td>NaN</td>\n",
              "      <td>NaN</td>\n",
              "      <td>NaN</td>\n",
              "      <td>NaN</td>\n",
              "      <td>NaN</td>\n",
              "      <td>NaN</td>\n",
              "      <td>NaN</td>\n",
              "      <td>NaN</td>\n",
              "      <td>NaN</td>\n",
              "      <td>NaN</td>\n",
              "      <td>NaN</td>\n",
              "      <td>NaN</td>\n",
              "      <td>NaN</td>\n",
              "      <td>NaN</td>\n",
              "      <td>NaN</td>\n",
              "      <td>NaN</td>\n",
              "      <td>NaN</td>\n",
              "      <td>NaN</td>\n",
              "      <td>NaN</td>\n",
              "      <td>NaN</td>\n",
              "      <td>NaN</td>\n",
              "      <td>NaN</td>\n",
              "      <td>1.00</td>\n",
              "      <td>NaN</td>\n",
              "      <td>NaN</td>\n",
              "      <td>NaN</td>\n",
              "      <td>NaN</td>\n",
              "      <td>NaN</td>\n",
              "      <td>NaN</td>\n",
              "      <td>NaN</td>\n",
              "      <td>NaN</td>\n",
              "    </tr>\n",
              "    <tr>\n",
              "      <th>4</th>\n",
              "      <td>11</td>\n",
              "      <td>50</td>\n",
              "      <td>824</td>\n",
              "      <td>NaN</td>\n",
              "      <td>NaN</td>\n",
              "      <td>NaN</td>\n",
              "      <td>NaN</td>\n",
              "      <td>NaN</td>\n",
              "      <td>NaN</td>\n",
              "      <td>NaN</td>\n",
              "      <td>NaN</td>\n",
              "      <td>NaN</td>\n",
              "      <td>NaN</td>\n",
              "      <td>NaN</td>\n",
              "      <td>NaN</td>\n",
              "      <td>NaN</td>\n",
              "      <td>NaN</td>\n",
              "      <td>NaN</td>\n",
              "      <td>NaN</td>\n",
              "      <td>0.18</td>\n",
              "      <td>NaN</td>\n",
              "      <td>NaN</td>\n",
              "      <td>NaN</td>\n",
              "      <td>NaN</td>\n",
              "      <td>NaN</td>\n",
              "      <td>NaN</td>\n",
              "      <td>NaN</td>\n",
              "      <td>NaN</td>\n",
              "      <td>NaN</td>\n",
              "      <td>NaN</td>\n",
              "      <td>NaN</td>\n",
              "      <td>NaN</td>\n",
              "      <td>NaN</td>\n",
              "      <td>NaN</td>\n",
              "      <td>NaN</td>\n",
              "      <td>NaN</td>\n",
              "      <td>NaN</td>\n",
              "      <td>NaN</td>\n",
              "      <td>NaN</td>\n",
              "      <td>NaN</td>\n",
              "      <td>...</td>\n",
              "      <td>NaN</td>\n",
              "      <td>NaN</td>\n",
              "      <td>NaN</td>\n",
              "      <td>NaN</td>\n",
              "      <td>NaN</td>\n",
              "      <td>NaN</td>\n",
              "      <td>NaN</td>\n",
              "      <td>NaN</td>\n",
              "      <td>NaN</td>\n",
              "      <td>NaN</td>\n",
              "      <td>NaN</td>\n",
              "      <td>NaN</td>\n",
              "      <td>NaN</td>\n",
              "      <td>NaN</td>\n",
              "      <td>NaN</td>\n",
              "      <td>NaN</td>\n",
              "      <td>NaN</td>\n",
              "      <td>NaN</td>\n",
              "      <td>NaN</td>\n",
              "      <td>NaN</td>\n",
              "      <td>NaN</td>\n",
              "      <td>NaN</td>\n",
              "      <td>NaN</td>\n",
              "      <td>NaN</td>\n",
              "      <td>NaN</td>\n",
              "      <td>NaN</td>\n",
              "      <td>NaN</td>\n",
              "      <td>NaN</td>\n",
              "      <td>NaN</td>\n",
              "      <td>NaN</td>\n",
              "      <td>NaN</td>\n",
              "      <td>0.64</td>\n",
              "      <td>NaN</td>\n",
              "      <td>NaN</td>\n",
              "      <td>0.060000</td>\n",
              "      <td>NaN</td>\n",
              "      <td>NaN</td>\n",
              "      <td>NaN</td>\n",
              "      <td>NaN</td>\n",
              "      <td>NaN</td>\n",
              "    </tr>\n",
              "  </tbody>\n",
              "</table>\n",
              "<p>5 rows × 103 columns</p>\n",
              "</div>"
            ],
            "text/plain": [
              "hotel_cluster  srch_destination_id  hotel_country  hotel_market  ...  97  98  99\n",
              "0                                4              7           246  ... NaN NaN NaN\n",
              "1                                7             50           422  ... NaN NaN NaN\n",
              "2                                8             50           416  ... NaN NaN NaN\n",
              "3                               10             50           648  ... NaN NaN NaN\n",
              "4                               11             50           824  ... NaN NaN NaN\n",
              "\n",
              "[5 rows x 103 columns]"
            ]
          },
          "metadata": {
            "tags": []
          },
          "execution_count": 55
        }
      ]
    },
    {
      "cell_type": "markdown",
      "metadata": {
        "id": "9MMy7Ezb1k61"
      },
      "source": [
        "merging the dataframe with destinations dataframe with respect to srch_destination_id which is common in both the dataframes. "
      ]
    },
    {
      "cell_type": "code",
      "metadata": {
        "id": "iU_CV3JN7kCK",
        "colab": {
          "base_uri": "https://localhost:8080/"
        },
        "outputId": "2e84683e-b365-4f07-8d04-da571567d206"
      },
      "source": [
        "df = pd.merge(df, dest, how='left', on='srch_destination_id')\n",
        "df = pd.merge(df, agg_pivot, how='left', on=['srch_destination_id','hotel_country','hotel_market'])\n",
        "df.fillna(0, inplace=True)\n",
        "df.shape"
      ],
      "execution_count": null,
      "outputs": [
        {
          "output_type": "execute_result",
          "data": {
            "text/plain": [
              "(644692, 276)"
            ]
          },
          "metadata": {
            "tags": []
          },
          "execution_count": 56
        }
      ]
    },
    {
      "cell_type": "code",
      "metadata": {
        "id": "IL8yG29c1yZ6",
        "colab": {
          "base_uri": "https://localhost:8080/"
        },
        "outputId": "7126e1bb-7244-4a49-9b0a-f35b31d3bacf"
      },
      "source": [
        "df.columns"
      ],
      "execution_count": null,
      "outputs": [
        {
          "output_type": "execute_result",
          "data": {
            "text/plain": [
              "Index([                'site_name',            'posa_continent',\n",
              "           'user_location_country',      'user_location_region',\n",
              "              'user_location_city', 'orig_destination_distance',\n",
              "                         'user_id',                 'is_mobile',\n",
              "                      'is_package',                   'channel',\n",
              "       ...\n",
              "                                90,                          91,\n",
              "                                92,                          93,\n",
              "                                94,                          95,\n",
              "                                96,                          97,\n",
              "                                98,                          99],\n",
              "      dtype='object', length=276)"
            ]
          },
          "metadata": {
            "tags": []
          },
          "execution_count": 57
        }
      ]
    },
    {
      "cell_type": "markdown",
      "metadata": {
        "id": "rUOEneYX2BR5"
      },
      "source": [
        "as we are only intrested in booking events so we are only looking for the rows which has is booking values equal to 1"
      ]
    },
    {
      "cell_type": "code",
      "metadata": {
        "id": "r8B6Vfqt73lf",
        "colab": {
          "base_uri": "https://localhost:8080/",
          "height": 247
        },
        "outputId": "d0a3f5ff-b9d0-4476-9129-820ffdbd42df"
      },
      "source": [
        "df = df.loc[df['is_booking'] == 1]\n",
        "df.head()"
      ],
      "execution_count": null,
      "outputs": [
        {
          "output_type": "execute_result",
          "data": {
            "text/html": [
              "<div>\n",
              "<style scoped>\n",
              "    .dataframe tbody tr th:only-of-type {\n",
              "        vertical-align: middle;\n",
              "    }\n",
              "\n",
              "    .dataframe tbody tr th {\n",
              "        vertical-align: top;\n",
              "    }\n",
              "\n",
              "    .dataframe thead th {\n",
              "        text-align: right;\n",
              "    }\n",
              "</style>\n",
              "<table border=\"1\" class=\"dataframe\">\n",
              "  <thead>\n",
              "    <tr style=\"text-align: right;\">\n",
              "      <th></th>\n",
              "      <th>site_name</th>\n",
              "      <th>posa_continent</th>\n",
              "      <th>user_location_country</th>\n",
              "      <th>user_location_region</th>\n",
              "      <th>user_location_city</th>\n",
              "      <th>orig_destination_distance</th>\n",
              "      <th>user_id</th>\n",
              "      <th>is_mobile</th>\n",
              "      <th>is_package</th>\n",
              "      <th>channel</th>\n",
              "      <th>srch_adults_cnt</th>\n",
              "      <th>srch_children_cnt</th>\n",
              "      <th>srch_rm_cnt</th>\n",
              "      <th>srch_destination_id</th>\n",
              "      <th>srch_destination_type_id</th>\n",
              "      <th>is_booking</th>\n",
              "      <th>cnt</th>\n",
              "      <th>hotel_continent</th>\n",
              "      <th>hotel_country</th>\n",
              "      <th>hotel_market</th>\n",
              "      <th>hotel_cluster</th>\n",
              "      <th>date_time_year</th>\n",
              "      <th>date_time_month</th>\n",
              "      <th>srch_ci_year</th>\n",
              "      <th>srch_ci_month</th>\n",
              "      <th>srch_co_year</th>\n",
              "      <th>srch_co_month</th>\n",
              "      <th>d1</th>\n",
              "      <th>d2</th>\n",
              "      <th>d3</th>\n",
              "      <th>d4</th>\n",
              "      <th>d5</th>\n",
              "      <th>d6</th>\n",
              "      <th>d7</th>\n",
              "      <th>d8</th>\n",
              "      <th>d9</th>\n",
              "      <th>d10</th>\n",
              "      <th>d11</th>\n",
              "      <th>d12</th>\n",
              "      <th>d13</th>\n",
              "      <th>...</th>\n",
              "      <th>60</th>\n",
              "      <th>61</th>\n",
              "      <th>62</th>\n",
              "      <th>63</th>\n",
              "      <th>64</th>\n",
              "      <th>65</th>\n",
              "      <th>66</th>\n",
              "      <th>67</th>\n",
              "      <th>68</th>\n",
              "      <th>69</th>\n",
              "      <th>70</th>\n",
              "      <th>71</th>\n",
              "      <th>72</th>\n",
              "      <th>73</th>\n",
              "      <th>74</th>\n",
              "      <th>75</th>\n",
              "      <th>76</th>\n",
              "      <th>77</th>\n",
              "      <th>78</th>\n",
              "      <th>79</th>\n",
              "      <th>80</th>\n",
              "      <th>81</th>\n",
              "      <th>82</th>\n",
              "      <th>83</th>\n",
              "      <th>84</th>\n",
              "      <th>85</th>\n",
              "      <th>86</th>\n",
              "      <th>87</th>\n",
              "      <th>88</th>\n",
              "      <th>89</th>\n",
              "      <th>90</th>\n",
              "      <th>91</th>\n",
              "      <th>92</th>\n",
              "      <th>93</th>\n",
              "      <th>94</th>\n",
              "      <th>95</th>\n",
              "      <th>96</th>\n",
              "      <th>97</th>\n",
              "      <th>98</th>\n",
              "      <th>99</th>\n",
              "    </tr>\n",
              "  </thead>\n",
              "  <tbody>\n",
              "    <tr>\n",
              "      <th>5</th>\n",
              "      <td>2</td>\n",
              "      <td>3</td>\n",
              "      <td>66</td>\n",
              "      <td>174</td>\n",
              "      <td>15081</td>\n",
              "      <td>554.5683</td>\n",
              "      <td>753109</td>\n",
              "      <td>0</td>\n",
              "      <td>1</td>\n",
              "      <td>2</td>\n",
              "      <td>2</td>\n",
              "      <td>2</td>\n",
              "      <td>1</td>\n",
              "      <td>11990</td>\n",
              "      <td>1</td>\n",
              "      <td>1</td>\n",
              "      <td>1</td>\n",
              "      <td>2</td>\n",
              "      <td>50</td>\n",
              "      <td>564</td>\n",
              "      <td>91</td>\n",
              "      <td>2014</td>\n",
              "      <td>2</td>\n",
              "      <td>2014</td>\n",
              "      <td>2</td>\n",
              "      <td>2014</td>\n",
              "      <td>2</td>\n",
              "      <td>-2.178798</td>\n",
              "      <td>-2.210131</td>\n",
              "      <td>-2.210131</td>\n",
              "      <td>-2.210131</td>\n",
              "      <td>-2.159083</td>\n",
              "      <td>-2.123965</td>\n",
              "      <td>-2.189104</td>\n",
              "      <td>-2.194359</td>\n",
              "      <td>-2.206536</td>\n",
              "      <td>-2.195086</td>\n",
              "      <td>-2.151334</td>\n",
              "      <td>-2.210131</td>\n",
              "      <td>-2.195925</td>\n",
              "      <td>...</td>\n",
              "      <td>0.000000</td>\n",
              "      <td>0.00000</td>\n",
              "      <td>0.0</td>\n",
              "      <td>0.0</td>\n",
              "      <td>0.000000</td>\n",
              "      <td>0.0</td>\n",
              "      <td>0.000000</td>\n",
              "      <td>0.0</td>\n",
              "      <td>0.000000</td>\n",
              "      <td>0.000000</td>\n",
              "      <td>0.000000</td>\n",
              "      <td>0.0</td>\n",
              "      <td>0.000000</td>\n",
              "      <td>0.000000</td>\n",
              "      <td>0.0</td>\n",
              "      <td>0.000000</td>\n",
              "      <td>0.000000</td>\n",
              "      <td>0.021127</td>\n",
              "      <td>0.000000</td>\n",
              "      <td>0.0</td>\n",
              "      <td>0.0</td>\n",
              "      <td>0.0</td>\n",
              "      <td>0.00000</td>\n",
              "      <td>0.000000</td>\n",
              "      <td>0.000000</td>\n",
              "      <td>0.0</td>\n",
              "      <td>0.000000</td>\n",
              "      <td>0.0</td>\n",
              "      <td>0.0</td>\n",
              "      <td>0.000000</td>\n",
              "      <td>0.000000</td>\n",
              "      <td>0.170775</td>\n",
              "      <td>0.0</td>\n",
              "      <td>0.005282</td>\n",
              "      <td>0.010563</td>\n",
              "      <td>0.000000</td>\n",
              "      <td>0.0</td>\n",
              "      <td>0.000000</td>\n",
              "      <td>0.000000</td>\n",
              "      <td>0.000000</td>\n",
              "    </tr>\n",
              "    <tr>\n",
              "      <th>12</th>\n",
              "      <td>2</td>\n",
              "      <td>3</td>\n",
              "      <td>66</td>\n",
              "      <td>442</td>\n",
              "      <td>44951</td>\n",
              "      <td>8177.9140</td>\n",
              "      <td>753194</td>\n",
              "      <td>0</td>\n",
              "      <td>0</td>\n",
              "      <td>9</td>\n",
              "      <td>1</td>\n",
              "      <td>0</td>\n",
              "      <td>1</td>\n",
              "      <td>12471</td>\n",
              "      <td>5</td>\n",
              "      <td>1</td>\n",
              "      <td>1</td>\n",
              "      <td>3</td>\n",
              "      <td>48</td>\n",
              "      <td>153</td>\n",
              "      <td>51</td>\n",
              "      <td>2014</td>\n",
              "      <td>8</td>\n",
              "      <td>2014</td>\n",
              "      <td>9</td>\n",
              "      <td>2014</td>\n",
              "      <td>9</td>\n",
              "      <td>-2.203729</td>\n",
              "      <td>-2.201591</td>\n",
              "      <td>-2.224473</td>\n",
              "      <td>-2.215721</td>\n",
              "      <td>-2.152381</td>\n",
              "      <td>-2.001333</td>\n",
              "      <td>-2.224473</td>\n",
              "      <td>-2.224473</td>\n",
              "      <td>-1.895742</td>\n",
              "      <td>-2.217474</td>\n",
              "      <td>-2.215285</td>\n",
              "      <td>-2.224473</td>\n",
              "      <td>-2.134441</td>\n",
              "      <td>...</td>\n",
              "      <td>0.000000</td>\n",
              "      <td>0.01676</td>\n",
              "      <td>0.0</td>\n",
              "      <td>0.0</td>\n",
              "      <td>0.075818</td>\n",
              "      <td>0.0</td>\n",
              "      <td>0.002394</td>\n",
              "      <td>0.0</td>\n",
              "      <td>0.048683</td>\n",
              "      <td>0.007183</td>\n",
              "      <td>0.000000</td>\n",
              "      <td>0.0</td>\n",
              "      <td>0.000000</td>\n",
              "      <td>0.002394</td>\n",
              "      <td>0.0</td>\n",
              "      <td>0.002394</td>\n",
              "      <td>0.043895</td>\n",
              "      <td>0.000000</td>\n",
              "      <td>0.011971</td>\n",
              "      <td>0.0</td>\n",
              "      <td>0.0</td>\n",
              "      <td>0.0</td>\n",
              "      <td>0.02075</td>\n",
              "      <td>0.000000</td>\n",
              "      <td>0.007183</td>\n",
              "      <td>0.0</td>\n",
              "      <td>0.004789</td>\n",
              "      <td>0.0</td>\n",
              "      <td>0.0</td>\n",
              "      <td>0.002394</td>\n",
              "      <td>0.027933</td>\n",
              "      <td>0.000000</td>\n",
              "      <td>0.0</td>\n",
              "      <td>0.000000</td>\n",
              "      <td>0.000000</td>\n",
              "      <td>0.000000</td>\n",
              "      <td>0.0</td>\n",
              "      <td>0.120511</td>\n",
              "      <td>0.000000</td>\n",
              "      <td>0.030327</td>\n",
              "    </tr>\n",
              "    <tr>\n",
              "      <th>14</th>\n",
              "      <td>2</td>\n",
              "      <td>3</td>\n",
              "      <td>66</td>\n",
              "      <td>447</td>\n",
              "      <td>48649</td>\n",
              "      <td>516.6746</td>\n",
              "      <td>753195</td>\n",
              "      <td>1</td>\n",
              "      <td>0</td>\n",
              "      <td>9</td>\n",
              "      <td>2</td>\n",
              "      <td>0</td>\n",
              "      <td>1</td>\n",
              "      <td>24101</td>\n",
              "      <td>6</td>\n",
              "      <td>1</td>\n",
              "      <td>1</td>\n",
              "      <td>2</td>\n",
              "      <td>50</td>\n",
              "      <td>984</td>\n",
              "      <td>36</td>\n",
              "      <td>2014</td>\n",
              "      <td>11</td>\n",
              "      <td>2014</td>\n",
              "      <td>11</td>\n",
              "      <td>2014</td>\n",
              "      <td>11</td>\n",
              "      <td>-2.079047</td>\n",
              "      <td>-2.237891</td>\n",
              "      <td>-2.087066</td>\n",
              "      <td>-2.237891</td>\n",
              "      <td>-2.062218</td>\n",
              "      <td>-2.050350</td>\n",
              "      <td>-2.203131</td>\n",
              "      <td>-2.198348</td>\n",
              "      <td>-2.182224</td>\n",
              "      <td>-2.236105</td>\n",
              "      <td>-2.030997</td>\n",
              "      <td>-2.237891</td>\n",
              "      <td>-2.083779</td>\n",
              "      <td>...</td>\n",
              "      <td>0.000000</td>\n",
              "      <td>0.00000</td>\n",
              "      <td>0.0</td>\n",
              "      <td>0.0</td>\n",
              "      <td>0.000000</td>\n",
              "      <td>0.0</td>\n",
              "      <td>0.000000</td>\n",
              "      <td>0.0</td>\n",
              "      <td>0.000000</td>\n",
              "      <td>0.000000</td>\n",
              "      <td>0.000000</td>\n",
              "      <td>0.0</td>\n",
              "      <td>0.000000</td>\n",
              "      <td>0.000000</td>\n",
              "      <td>0.0</td>\n",
              "      <td>0.000000</td>\n",
              "      <td>0.013575</td>\n",
              "      <td>0.000000</td>\n",
              "      <td>0.000000</td>\n",
              "      <td>0.0</td>\n",
              "      <td>0.0</td>\n",
              "      <td>0.0</td>\n",
              "      <td>0.00000</td>\n",
              "      <td>0.000000</td>\n",
              "      <td>0.000000</td>\n",
              "      <td>0.0</td>\n",
              "      <td>0.000000</td>\n",
              "      <td>0.0</td>\n",
              "      <td>0.0</td>\n",
              "      <td>0.000000</td>\n",
              "      <td>0.000000</td>\n",
              "      <td>0.524887</td>\n",
              "      <td>0.0</td>\n",
              "      <td>0.000000</td>\n",
              "      <td>0.000000</td>\n",
              "      <td>0.000000</td>\n",
              "      <td>0.0</td>\n",
              "      <td>0.000000</td>\n",
              "      <td>0.000000</td>\n",
              "      <td>0.000000</td>\n",
              "    </tr>\n",
              "    <tr>\n",
              "      <th>42</th>\n",
              "      <td>2</td>\n",
              "      <td>3</td>\n",
              "      <td>66</td>\n",
              "      <td>311</td>\n",
              "      <td>30031</td>\n",
              "      <td>1079.7116</td>\n",
              "      <td>753803</td>\n",
              "      <td>0</td>\n",
              "      <td>1</td>\n",
              "      <td>3</td>\n",
              "      <td>3</td>\n",
              "      <td>0</td>\n",
              "      <td>1</td>\n",
              "      <td>1440</td>\n",
              "      <td>1</td>\n",
              "      <td>1</td>\n",
              "      <td>1</td>\n",
              "      <td>2</td>\n",
              "      <td>50</td>\n",
              "      <td>571</td>\n",
              "      <td>11</td>\n",
              "      <td>2014</td>\n",
              "      <td>10</td>\n",
              "      <td>2014</td>\n",
              "      <td>10</td>\n",
              "      <td>2014</td>\n",
              "      <td>10</td>\n",
              "      <td>-2.215726</td>\n",
              "      <td>-2.230958</td>\n",
              "      <td>-2.230958</td>\n",
              "      <td>-2.230958</td>\n",
              "      <td>-2.034191</td>\n",
              "      <td>-2.085950</td>\n",
              "      <td>-2.116588</td>\n",
              "      <td>-2.230861</td>\n",
              "      <td>-2.230958</td>\n",
              "      <td>-2.168518</td>\n",
              "      <td>-2.167135</td>\n",
              "      <td>-2.230958</td>\n",
              "      <td>-2.129087</td>\n",
              "      <td>...</td>\n",
              "      <td>0.000000</td>\n",
              "      <td>0.00000</td>\n",
              "      <td>0.0</td>\n",
              "      <td>0.0</td>\n",
              "      <td>0.000000</td>\n",
              "      <td>0.0</td>\n",
              "      <td>0.000000</td>\n",
              "      <td>0.0</td>\n",
              "      <td>0.000000</td>\n",
              "      <td>0.000000</td>\n",
              "      <td>0.000000</td>\n",
              "      <td>0.0</td>\n",
              "      <td>0.005445</td>\n",
              "      <td>0.000000</td>\n",
              "      <td>0.0</td>\n",
              "      <td>0.000000</td>\n",
              "      <td>0.000000</td>\n",
              "      <td>0.136116</td>\n",
              "      <td>0.000000</td>\n",
              "      <td>0.0</td>\n",
              "      <td>0.0</td>\n",
              "      <td>0.0</td>\n",
              "      <td>0.00000</td>\n",
              "      <td>0.005445</td>\n",
              "      <td>0.000000</td>\n",
              "      <td>0.0</td>\n",
              "      <td>0.000000</td>\n",
              "      <td>0.0</td>\n",
              "      <td>0.0</td>\n",
              "      <td>0.000000</td>\n",
              "      <td>0.000000</td>\n",
              "      <td>0.147005</td>\n",
              "      <td>0.0</td>\n",
              "      <td>0.000000</td>\n",
              "      <td>0.010889</td>\n",
              "      <td>0.000000</td>\n",
              "      <td>0.0</td>\n",
              "      <td>0.000000</td>\n",
              "      <td>0.000000</td>\n",
              "      <td>0.000000</td>\n",
              "    </tr>\n",
              "    <tr>\n",
              "      <th>45</th>\n",
              "      <td>2</td>\n",
              "      <td>3</td>\n",
              "      <td>66</td>\n",
              "      <td>311</td>\n",
              "      <td>16343</td>\n",
              "      <td>187.3389</td>\n",
              "      <td>753803</td>\n",
              "      <td>0</td>\n",
              "      <td>0</td>\n",
              "      <td>9</td>\n",
              "      <td>4</td>\n",
              "      <td>0</td>\n",
              "      <td>2</td>\n",
              "      <td>8267</td>\n",
              "      <td>1</td>\n",
              "      <td>1</td>\n",
              "      <td>1</td>\n",
              "      <td>2</td>\n",
              "      <td>50</td>\n",
              "      <td>675</td>\n",
              "      <td>98</td>\n",
              "      <td>2014</td>\n",
              "      <td>11</td>\n",
              "      <td>2014</td>\n",
              "      <td>11</td>\n",
              "      <td>2014</td>\n",
              "      <td>11</td>\n",
              "      <td>-2.322565</td>\n",
              "      <td>-2.356244</td>\n",
              "      <td>-2.356791</td>\n",
              "      <td>-2.238242</td>\n",
              "      <td>-1.879221</td>\n",
              "      <td>-1.624715</td>\n",
              "      <td>-2.262388</td>\n",
              "      <td>-2.189171</td>\n",
              "      <td>-2.296162</td>\n",
              "      <td>-2.213122</td>\n",
              "      <td>-2.203796</td>\n",
              "      <td>-2.356791</td>\n",
              "      <td>-2.272856</td>\n",
              "      <td>...</td>\n",
              "      <td>0.002242</td>\n",
              "      <td>0.00000</td>\n",
              "      <td>0.0</td>\n",
              "      <td>0.0</td>\n",
              "      <td>0.000000</td>\n",
              "      <td>0.0</td>\n",
              "      <td>0.000000</td>\n",
              "      <td>0.0</td>\n",
              "      <td>0.034231</td>\n",
              "      <td>0.059955</td>\n",
              "      <td>0.141056</td>\n",
              "      <td>0.0</td>\n",
              "      <td>0.011334</td>\n",
              "      <td>0.000553</td>\n",
              "      <td>0.0</td>\n",
              "      <td>0.003271</td>\n",
              "      <td>0.000783</td>\n",
              "      <td>0.013345</td>\n",
              "      <td>0.000000</td>\n",
              "      <td>0.0</td>\n",
              "      <td>0.0</td>\n",
              "      <td>0.0</td>\n",
              "      <td>0.00000</td>\n",
              "      <td>0.014390</td>\n",
              "      <td>0.000000</td>\n",
              "      <td>0.0</td>\n",
              "      <td>0.003624</td>\n",
              "      <td>0.0</td>\n",
              "      <td>0.0</td>\n",
              "      <td>0.000921</td>\n",
              "      <td>0.000184</td>\n",
              "      <td>0.007586</td>\n",
              "      <td>0.0</td>\n",
              "      <td>0.000968</td>\n",
              "      <td>0.000553</td>\n",
              "      <td>0.008216</td>\n",
              "      <td>0.0</td>\n",
              "      <td>0.041449</td>\n",
              "      <td>0.117851</td>\n",
              "      <td>0.000676</td>\n",
              "    </tr>\n",
              "  </tbody>\n",
              "</table>\n",
              "<p>5 rows × 276 columns</p>\n",
              "</div>"
            ],
            "text/plain": [
              "    site_name  posa_continent  ...        98        99\n",
              "5           2               3  ...  0.000000  0.000000\n",
              "12          2               3  ...  0.000000  0.030327\n",
              "14          2               3  ...  0.000000  0.000000\n",
              "42          2               3  ...  0.000000  0.000000\n",
              "45          2               3  ...  0.117851  0.000676\n",
              "\n",
              "[5 rows x 276 columns]"
            ]
          },
          "metadata": {
            "tags": []
          },
          "execution_count": 58
        }
      ]
    },
    {
      "cell_type": "markdown",
      "metadata": {
        "id": "AaR6f9X42hBp"
      },
      "source": [
        "As we know that hotel cluster is dependent variable so we are dropping that from x and also we have only included the rows which is booking values as 1 so we are also dropping that"
      ]
    },
    {
      "cell_type": "code",
      "metadata": {
        "id": "C-QTr7Tq8Wod",
        "colab": {
          "base_uri": "https://localhost:8080/"
        },
        "outputId": "f7999f9d-2916-4a57-940a-434ff2218096"
      },
      "source": [
        "X = df.drop(['user_id', 'hotel_cluster', 'is_booking'], axis=1)\n",
        "y = df.hotel_cluster\n",
        "print(X)\n",
        "print(y)"
      ],
      "execution_count": null,
      "outputs": [
        {
          "output_type": "stream",
          "text": [
            "        site_name  posa_continent  ...        98        99\n",
            "5               2               3  ...  0.000000  0.000000\n",
            "12              2               3  ...  0.000000  0.030327\n",
            "14              2               3  ...  0.000000  0.000000\n",
            "42              2               3  ...  0.000000  0.000000\n",
            "45              2               3  ...  0.117851  0.000676\n",
            "...           ...             ...  ...       ...       ...\n",
            "644635         26               0  ...  0.029654  0.000000\n",
            "644643         26               0  ...  0.000000  0.000000\n",
            "644667          2               3  ...  0.000000  0.000283\n",
            "644689          2               3  ...  0.000000  0.152500\n",
            "644691          2               3  ...  0.000000  0.000000\n",
            "\n",
            "[52804 rows x 273 columns]\n",
            "5         91\n",
            "12        51\n",
            "14        36\n",
            "42        11\n",
            "45        98\n",
            "          ..\n",
            "644635    61\n",
            "644643    52\n",
            "644667    45\n",
            "644689    99\n",
            "644691    59\n",
            "Name: hotel_cluster, Length: 52804, dtype: int64\n"
          ],
          "name": "stdout"
        }
      ]
    },
    {
      "cell_type": "markdown",
      "metadata": {
        "id": "ciqjxlFr2fHs"
      },
      "source": [
        ""
      ]
    },
    {
      "cell_type": "code",
      "metadata": {
        "id": "ebbBHOT98c5k",
        "colab": {
          "base_uri": "https://localhost:8080/"
        },
        "outputId": "f19e87d3-bf27-49f5-ede0-f5c3dd7c0273"
      },
      "source": [
        "print(X.shape, y.shape)\n",
        "y.nunique()"
      ],
      "execution_count": null,
      "outputs": [
        {
          "output_type": "stream",
          "text": [
            "(52804, 273) (52804,)\n"
          ],
          "name": "stdout"
        },
        {
          "output_type": "execute_result",
          "data": {
            "text/plain": [
              "100"
            ]
          },
          "metadata": {
            "tags": []
          },
          "execution_count": 60
        }
      ]
    },
    {
      "cell_type": "code",
      "metadata": {
        "id": "CjYaVwhU_S5g"
      },
      "source": [
        "from sklearn.model_selection import cross_val_score\n",
        "from sklearn.ensemble import RandomForestClassifier\n",
        "\n"
      ],
      "execution_count": null,
      "outputs": []
    },
    {
      "cell_type": "markdown",
      "metadata": {
        "id": "XO5mfv693ZRF"
      },
      "source": [
        "splitting the data into train and test data"
      ]
    },
    {
      "cell_type": "code",
      "metadata": {
        "id": "Kg38LSPC_k28"
      },
      "source": [
        "from sklearn.model_selection import train_test_split\n",
        "X_train,X_test,y_train,y_test=train_test_split(X,y,test_size=0.2,random_state=1)"
      ],
      "execution_count": null,
      "outputs": []
    },
    {
      "cell_type": "markdown",
      "metadata": {
        "id": "ps9hmdob3eFX"
      },
      "source": [
        "training it with decison tree model"
      ]
    },
    {
      "cell_type": "code",
      "metadata": {
        "id": "xDRfrPKhCHEa",
        "colab": {
          "base_uri": "https://localhost:8080/"
        },
        "outputId": "9e06425e-6479-493c-aac3-f26b39d9dfb6"
      },
      "source": [
        "from sklearn import tree\n",
        "model=tree.DecisionTreeClassifier()\n",
        "model.fit(X_train, y_train)\n",
        "y_predicted=model.predict(X_test)\n",
        "print(y_predicted)\n",
        "# model.score(X_test,y_test)"
      ],
      "execution_count": null,
      "outputs": [
        {
          "output_type": "stream",
          "text": [
            "[59 26 29 ... 50 84 91]\n"
          ],
          "name": "stdout"
        }
      ]
    },
    {
      "cell_type": "markdown",
      "metadata": {
        "id": "yuJc2zB23lRr"
      },
      "source": [
        "with random forest classifile"
      ]
    },
    {
      "cell_type": "code",
      "metadata": {
        "id": "8iurq4RvCP5i",
        "colab": {
          "base_uri": "https://localhost:8080/"
        },
        "outputId": "b1cf7d95-50d6-485a-e616-2f3dfe963a82"
      },
      "source": [
        "from sklearn.ensemble import RandomForestClassifier\n",
        "model=RandomForestClassifier(n_estimators=100)\n",
        "model.fit(X_train,y_train)\n",
        "print(model.fit(X_train,y_train))\n",
        "y_predicted=model.predict(X_test)\n",
        "print(y_predicted)\n",
        "# model.score(X_test,y_test)"
      ],
      "execution_count": null,
      "outputs": [
        {
          "output_type": "stream",
          "text": [
            "RandomForestClassifier(bootstrap=True, ccp_alpha=0.0, class_weight=None,\n",
            "                       criterion='gini', max_depth=None, max_features='auto',\n",
            "                       max_leaf_nodes=None, max_samples=None,\n",
            "                       min_impurity_decrease=0.0, min_impurity_split=None,\n",
            "                       min_samples_leaf=1, min_samples_split=2,\n",
            "                       min_weight_fraction_leaf=0.0, n_estimators=100,\n",
            "                       n_jobs=None, oob_score=False, random_state=None,\n",
            "                       verbose=0, warm_start=False)\n",
            "[98 26 29 ... 91 84 91]\n"
          ],
          "name": "stdout"
        }
      ]
    },
    {
      "cell_type": "code",
      "metadata": {
        "id": "Q-ZSX-V3CqtT",
        "colab": {
          "base_uri": "https://localhost:8080/",
          "height": 54
        },
        "outputId": "df29099b-c6d1-47bc-aa4c-92f73d3a4ac7"
      },
      "source": [
        "'''from sklearn.svm import SVC\n",
        "model=SVC()\n",
        "model.fit(X_train,y_train)\n",
        "y_predicted=model.predict(X_test)\n",
        "print(y_predicted)\n",
        "model.score(X_test,y_test)'''"
      ],
      "execution_count": null,
      "outputs": [
        {
          "output_type": "execute_result",
          "data": {
            "application/vnd.google.colaboratory.intrinsic+json": {
              "type": "string"
            },
            "text/plain": [
              "'from sklearn.svm import SVC\\nmodel=SVC()\\nmodel.fit(X_train,y_train)\\ny_predicted=model.predict(X_test)\\nprint(y_predicted)\\nmodel.score(X_test,y_test)'"
            ]
          },
          "metadata": {
            "tags": []
          },
          "execution_count": 65
        }
      ]
    },
    {
      "cell_type": "code",
      "metadata": {
        "id": "9OBixJF3DZu-"
      },
      "source": [
        ""
      ],
      "execution_count": null,
      "outputs": []
    }
  ]
}